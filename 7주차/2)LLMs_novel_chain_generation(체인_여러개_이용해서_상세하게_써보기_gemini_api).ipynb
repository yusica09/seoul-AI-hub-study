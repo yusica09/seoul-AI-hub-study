{
  "nbformat": 4,
  "nbformat_minor": 0,
  "metadata": {
    "colab": {
      "provenance": [],
      "gpuType": "T4"
    },
    "kernelspec": {
      "name": "python3",
      "display_name": "Python 3"
    },
    "language_info": {
      "name": "python"
    },
    "accelerator": "GPU"
  },
  "cells": [
    {
      "cell_type": "markdown",
      "source": [
        "### 드라이브 마운트"
      ],
      "metadata": {
        "id": "Bq_50zTu-dgW"
      }
    },
    {
      "cell_type": "code",
      "source": [
        "from google.colab import drive\n",
        "drive.mount('/content/drive')"
      ],
      "metadata": {
        "id": "Fi0aF680D-DR",
        "colab": {
          "base_uri": "https://localhost:8080/"
        },
        "outputId": "83c0600c-4a7f-4d71-a636-658473cd1375"
      },
      "execution_count": 12,
      "outputs": [
        {
          "output_type": "stream",
          "name": "stdout",
          "text": [
            "Drive already mounted at /content/drive; to attempt to forcibly remount, call drive.mount(\"/content/drive\", force_remount=True).\n"
          ]
        }
      ]
    },
    {
      "cell_type": "markdown",
      "source": [
        "### 패키지 설치"
      ],
      "metadata": {
        "id": "KM9aGdke-fR0"
      }
    },
    {
      "cell_type": "code",
      "source": [
        "!pip install langchain langchain_google_genai"
      ],
      "metadata": {
        "id": "t7KHOqhrEMav",
        "colab": {
          "base_uri": "https://localhost:8080/"
        },
        "outputId": "ab1a215d-53d3-4c6e-ff66-9d9ce0e620a0"
      },
      "execution_count": 19,
      "outputs": [
        {
          "output_type": "stream",
          "name": "stdout",
          "text": [
            "Requirement already satisfied: langchain in /usr/local/lib/python3.10/dist-packages (0.1.4)\n",
            "Collecting langchain_google_genai\n",
            "  Downloading langchain_google_genai-0.0.6-py3-none-any.whl (15 kB)\n",
            "Requirement already satisfied: PyYAML>=5.3 in /usr/local/lib/python3.10/dist-packages (from langchain) (6.0.1)\n",
            "Requirement already satisfied: SQLAlchemy<3,>=1.4 in /usr/local/lib/python3.10/dist-packages (from langchain) (2.0.24)\n",
            "Requirement already satisfied: aiohttp<4.0.0,>=3.8.3 in /usr/local/lib/python3.10/dist-packages (from langchain) (3.9.1)\n",
            "Requirement already satisfied: async-timeout<5.0.0,>=4.0.0 in /usr/local/lib/python3.10/dist-packages (from langchain) (4.0.3)\n",
            "Requirement already satisfied: dataclasses-json<0.7,>=0.5.7 in /usr/local/lib/python3.10/dist-packages (from langchain) (0.6.3)\n",
            "Requirement already satisfied: jsonpatch<2.0,>=1.33 in /usr/local/lib/python3.10/dist-packages (from langchain) (1.33)\n",
            "Requirement already satisfied: langchain-community<0.1,>=0.0.14 in /usr/local/lib/python3.10/dist-packages (from langchain) (0.0.16)\n",
            "Requirement already satisfied: langchain-core<0.2,>=0.1.16 in /usr/local/lib/python3.10/dist-packages (from langchain) (0.1.17)\n",
            "Requirement already satisfied: langsmith<0.1,>=0.0.83 in /usr/local/lib/python3.10/dist-packages (from langchain) (0.0.84)\n",
            "Requirement already satisfied: numpy<2,>=1 in /usr/local/lib/python3.10/dist-packages (from langchain) (1.23.5)\n",
            "Requirement already satisfied: pydantic<3,>=1 in /usr/local/lib/python3.10/dist-packages (from langchain) (1.10.14)\n",
            "Requirement already satisfied: requests<3,>=2 in /usr/local/lib/python3.10/dist-packages (from langchain) (2.31.0)\n",
            "Requirement already satisfied: tenacity<9.0.0,>=8.1.0 in /usr/local/lib/python3.10/dist-packages (from langchain) (8.2.3)\n",
            "Requirement already satisfied: google-generativeai<0.4.0,>=0.3.1 in /usr/local/lib/python3.10/dist-packages (from langchain_google_genai) (0.3.2)\n",
            "Requirement already satisfied: attrs>=17.3.0 in /usr/local/lib/python3.10/dist-packages (from aiohttp<4.0.0,>=3.8.3->langchain) (23.2.0)\n",
            "Requirement already satisfied: multidict<7.0,>=4.5 in /usr/local/lib/python3.10/dist-packages (from aiohttp<4.0.0,>=3.8.3->langchain) (6.0.4)\n",
            "Requirement already satisfied: yarl<2.0,>=1.0 in /usr/local/lib/python3.10/dist-packages (from aiohttp<4.0.0,>=3.8.3->langchain) (1.9.4)\n",
            "Requirement already satisfied: frozenlist>=1.1.1 in /usr/local/lib/python3.10/dist-packages (from aiohttp<4.0.0,>=3.8.3->langchain) (1.4.1)\n",
            "Requirement already satisfied: aiosignal>=1.1.2 in /usr/local/lib/python3.10/dist-packages (from aiohttp<4.0.0,>=3.8.3->langchain) (1.3.1)\n",
            "Requirement already satisfied: marshmallow<4.0.0,>=3.18.0 in /usr/local/lib/python3.10/dist-packages (from dataclasses-json<0.7,>=0.5.7->langchain) (3.20.2)\n",
            "Requirement already satisfied: typing-inspect<1,>=0.4.0 in /usr/local/lib/python3.10/dist-packages (from dataclasses-json<0.7,>=0.5.7->langchain) (0.9.0)\n",
            "Requirement already satisfied: google-ai-generativelanguage==0.4.0 in /usr/local/lib/python3.10/dist-packages (from google-generativeai<0.4.0,>=0.3.1->langchain_google_genai) (0.4.0)\n",
            "Requirement already satisfied: google-auth in /usr/local/lib/python3.10/dist-packages (from google-generativeai<0.4.0,>=0.3.1->langchain_google_genai) (2.17.3)\n",
            "Requirement already satisfied: google-api-core in /usr/local/lib/python3.10/dist-packages (from google-generativeai<0.4.0,>=0.3.1->langchain_google_genai) (2.11.1)\n",
            "Requirement already satisfied: typing-extensions in /usr/local/lib/python3.10/dist-packages (from google-generativeai<0.4.0,>=0.3.1->langchain_google_genai) (4.9.0)\n",
            "Requirement already satisfied: protobuf in /usr/local/lib/python3.10/dist-packages (from google-generativeai<0.4.0,>=0.3.1->langchain_google_genai) (3.20.3)\n",
            "Requirement already satisfied: tqdm in /usr/local/lib/python3.10/dist-packages (from google-generativeai<0.4.0,>=0.3.1->langchain_google_genai) (4.66.1)\n",
            "Requirement already satisfied: proto-plus<2.0.0dev,>=1.22.3 in /usr/local/lib/python3.10/dist-packages (from google-ai-generativelanguage==0.4.0->google-generativeai<0.4.0,>=0.3.1->langchain_google_genai) (1.23.0)\n",
            "Requirement already satisfied: jsonpointer>=1.9 in /usr/local/lib/python3.10/dist-packages (from jsonpatch<2.0,>=1.33->langchain) (2.4)\n",
            "Requirement already satisfied: anyio<5,>=3 in /usr/local/lib/python3.10/dist-packages (from langchain-core<0.2,>=0.1.16->langchain) (3.7.1)\n",
            "Requirement already satisfied: packaging<24.0,>=23.2 in /usr/local/lib/python3.10/dist-packages (from langchain-core<0.2,>=0.1.16->langchain) (23.2)\n",
            "Requirement already satisfied: charset-normalizer<4,>=2 in /usr/local/lib/python3.10/dist-packages (from requests<3,>=2->langchain) (3.3.2)\n",
            "Requirement already satisfied: idna<4,>=2.5 in /usr/local/lib/python3.10/dist-packages (from requests<3,>=2->langchain) (3.6)\n",
            "Requirement already satisfied: urllib3<3,>=1.21.1 in /usr/local/lib/python3.10/dist-packages (from requests<3,>=2->langchain) (2.0.7)\n",
            "Requirement already satisfied: certifi>=2017.4.17 in /usr/local/lib/python3.10/dist-packages (from requests<3,>=2->langchain) (2023.11.17)\n",
            "Requirement already satisfied: greenlet!=0.4.17 in /usr/local/lib/python3.10/dist-packages (from SQLAlchemy<3,>=1.4->langchain) (3.0.3)\n",
            "Requirement already satisfied: sniffio>=1.1 in /usr/local/lib/python3.10/dist-packages (from anyio<5,>=3->langchain-core<0.2,>=0.1.16->langchain) (1.3.0)\n",
            "Requirement already satisfied: exceptiongroup in /usr/local/lib/python3.10/dist-packages (from anyio<5,>=3->langchain-core<0.2,>=0.1.16->langchain) (1.2.0)\n",
            "Requirement already satisfied: mypy-extensions>=0.3.0 in /usr/local/lib/python3.10/dist-packages (from typing-inspect<1,>=0.4.0->dataclasses-json<0.7,>=0.5.7->langchain) (1.0.0)\n",
            "Requirement already satisfied: googleapis-common-protos<2.0.dev0,>=1.56.2 in /usr/local/lib/python3.10/dist-packages (from google-api-core->google-generativeai<0.4.0,>=0.3.1->langchain_google_genai) (1.62.0)\n",
            "Requirement already satisfied: cachetools<6.0,>=2.0.0 in /usr/local/lib/python3.10/dist-packages (from google-auth->google-generativeai<0.4.0,>=0.3.1->langchain_google_genai) (5.3.2)\n",
            "Requirement already satisfied: pyasn1-modules>=0.2.1 in /usr/local/lib/python3.10/dist-packages (from google-auth->google-generativeai<0.4.0,>=0.3.1->langchain_google_genai) (0.3.0)\n",
            "Requirement already satisfied: six>=1.9.0 in /usr/local/lib/python3.10/dist-packages (from google-auth->google-generativeai<0.4.0,>=0.3.1->langchain_google_genai) (1.16.0)\n",
            "Requirement already satisfied: rsa<5,>=3.1.4 in /usr/local/lib/python3.10/dist-packages (from google-auth->google-generativeai<0.4.0,>=0.3.1->langchain_google_genai) (4.9)\n",
            "Requirement already satisfied: grpcio<2.0dev,>=1.33.2 in /usr/local/lib/python3.10/dist-packages (from google-api-core->google-generativeai<0.4.0,>=0.3.1->langchain_google_genai) (1.60.0)\n",
            "Requirement already satisfied: grpcio-status<2.0.dev0,>=1.33.2 in /usr/local/lib/python3.10/dist-packages (from google-api-core->google-generativeai<0.4.0,>=0.3.1->langchain_google_genai) (1.48.2)\n",
            "Requirement already satisfied: pyasn1<0.6.0,>=0.4.6 in /usr/local/lib/python3.10/dist-packages (from pyasn1-modules>=0.2.1->google-auth->google-generativeai<0.4.0,>=0.3.1->langchain_google_genai) (0.5.1)\n",
            "Installing collected packages: langchain_google_genai\n",
            "Successfully installed langchain_google_genai-0.0.6\n"
          ]
        }
      ]
    },
    {
      "cell_type": "code",
      "execution_count": 20,
      "metadata": {
        "id": "tTIjHrG2CT54"
      },
      "outputs": [],
      "source": [
        "from pprint import pprint\n",
        "from typing import Dict, List\n",
        "\n",
        "from langchain.chains import LLMChain, SequentialChain\n",
        "#from langchain.chat_models import ChatOpenAI\n",
        "from langchain_google_genai import ChatGoogleGenerativeAI\n",
        "from langchain.prompts.chat import ChatPromptTemplate\n",
        "from pydantic import BaseModel\n"
      ]
    },
    {
      "cell_type": "markdown",
      "source": [
        "### OpenAI API key"
      ],
      "metadata": {
        "id": "tcb7WQdDBn3d"
      }
    },
    {
      "cell_type": "code",
      "source": [
        "import getpass\n",
        "import os\n",
        "\n",
        "# os.environ[\"OPENAI_API_KEY\"] = getpass.getpass()\n",
        "os.environ[\"GOOGLE_API_KEY\"] = getpass.getpass()"
      ],
      "metadata": {
        "id": "qxZXQzINCebv",
        "colab": {
          "base_uri": "https://localhost:8080/"
        },
        "outputId": "0e867bde-abb7-4b4f-f2a8-68e018fec66d"
      },
      "execution_count": 26,
      "outputs": [
        {
          "name": "stdout",
          "output_type": "stream",
          "text": [
            "··········\n"
          ]
        }
      ]
    },
    {
      "cell_type": "markdown",
      "source": [
        "### Prompt chain 준비\n",
        "* 서비스할 내용의 프롬프트 체인을 준비합니다.\n",
        "* 각 프롬프트 체인을 미리 준비해 놓고, 템플릿으로 사용합니다."
      ],
      "metadata": {
        "id": "kVOr8L56BrB7"
      }
    },
    {
      "cell_type": "code",
      "source": [
        "P_PATH = \"/content/drive/MyDrive/dataset/Novel_generation/multi_prompt\"\n",
        "IDEA_P = os.path.join(P_PATH, \"extract_idea.txt\")\n",
        "OUTLINE_P = os.path.join(P_PATH, \"write_outline.txt\")\n",
        "PLOT_P = os.path.join(P_PATH, \"write_plot.txt\")\n",
        "CHAPTER_P = os.path.join(P_PATH, \"write_chapter.txt\")"
      ],
      "metadata": {
        "id": "0uAt9eUFD5_B"
      },
      "execution_count": 27,
      "outputs": []
    },
    {
      "cell_type": "markdown",
      "source": [
        "### Prompt chain 구현\n",
        "* `SequentialChain`을 이용해서 여러개의 chain을 연속적으로 구현할 수 있습니다."
      ],
      "metadata": {
        "id": "Vdr7T-w5CfNU"
      }
    },
    {
      "cell_type": "code",
      "source": [
        "class UserRequest(BaseModel):\n",
        "    genre: str\n",
        "    characters: List[Dict[str, str]]\n",
        "    text: str\n",
        "\n",
        "\n",
        "def read_prompt_template(file_path: str) -> str:\n",
        "    with open(file_path, \"r\") as f:\n",
        "        prompt_template = f.read()\n",
        "\n",
        "    return prompt_template\n",
        "\n",
        "\n",
        "def create_chain(llm, template_path, output_key):\n",
        "    return LLMChain(\n",
        "        llm=llm,\n",
        "        prompt=ChatPromptTemplate.from_template(\n",
        "            template=read_prompt_template(template_path),\n",
        "        ),\n",
        "        output_key=output_key,\n",
        "        verbose=True,\n",
        "    )\n",
        "\n",
        "\n",
        "def generate_novel(req: UserRequest) -> Dict[str, str]:\n",
        "    writer_llm = ChatGoogleGenerativeAI(temperature=0.3, max_tokens=500, model=\"gemini-pro\")\n",
        "\n",
        "    # 아이디어 뽑기 체인 생성\n",
        "    novel_idea_chain = create_chain(writer_llm,IDEA_P, \"novel_idea\")\n",
        "\n",
        "    # 아웃라인 작성 체인 생성\n",
        "    novel_outline_chain = create_chain(\n",
        "        writer_llm, OUTLINE_P, \"novel_outline\"\n",
        "    )\n",
        "\n",
        "    # 플롯 작성 체인 생성\n",
        "    novel_plot_chain = create_chain(writer_llm, PLOT_P, \"novel_plot\")\n",
        "\n",
        "    # 챕터 작성 체인 생성\n",
        "    novel_chapter_chain = create_chain(writer_llm, CHAPTER_P, \"output\")\n",
        "\n",
        "    preprocess_chain = SequentialChain(\n",
        "        chains=[\n",
        "            novel_idea_chain,\n",
        "            novel_outline_chain,\n",
        "            novel_plot_chain,\n",
        "        ],\n",
        "        input_variables=[\"genre\", \"characters\", \"text\"],\n",
        "        output_variables=[\"novel_idea\", \"novel_outline\", \"novel_plot\"],\n",
        "        verbose=True,\n",
        "    )\n",
        "\n",
        "    context = req.dict()\n",
        "    context = preprocess_chain(user_data)\n",
        "\n",
        "    context[\"novel_chapter\"] = []\n",
        "    for chapter_number in range(1, 4):\n",
        "        context[\"chapter_number\"] = chapter_number\n",
        "        context = novel_chapter_chain(context)\n",
        "        context[\"novel_chapter\"].append(context[\"output\"])\n",
        "\n",
        "    contents = \"\\n\\n\".join(context[\"novel_chapter\"])\n",
        "    return {\"results\": contents}"
      ],
      "metadata": {
        "id": "o-RVkzgKCcOo"
      },
      "execution_count": 28,
      "outputs": []
    },
    {
      "cell_type": "markdown",
      "source": [
        "### User prompt 작성\n",
        "* User가 직접 작성하는 프롬프트를 작성합니다."
      ],
      "metadata": {
        "id": "IjNmhGDGEIzX"
      }
    },
    {
      "cell_type": "code",
      "source": [
        "user_data = {\n",
        "    \"genre\": \"판타지\",\n",
        "    \"characters\": [\n",
        "        {\n",
        "            \"name\": \"김철수\",\n",
        "            \"role\": \"주인공\"\n",
        "        },\n",
        "        {\n",
        "            \"name\": \"이영희\",\n",
        "            \"role\": \"조연\"\n",
        "        }\n",
        "    ],\n",
        "    \"text\": \"날씨가 추워지고 있습니다.\"\n",
        "}\n"
      ],
      "metadata": {
        "id": "m2bfuHDHNx22"
      },
      "execution_count": 29,
      "outputs": []
    },
    {
      "cell_type": "markdown",
      "source": [
        "* User Prompt를 입력합니다."
      ],
      "metadata": {
        "id": "KxWOzyTwIgUN"
      }
    },
    {
      "cell_type": "code",
      "source": [
        "request_instance = UserRequest(**user_data)"
      ],
      "metadata": {
        "id": "1j7O0Y3zPNu2"
      },
      "execution_count": 30,
      "outputs": []
    },
    {
      "cell_type": "markdown",
      "source": [
        "### Text Generation"
      ],
      "metadata": {
        "id": "VFFDa0NSIiip"
      }
    },
    {
      "cell_type": "code",
      "source": [
        "generate_novel(request_instance)"
      ],
      "metadata": {
        "id": "7WLAYEbaPP0B",
        "colab": {
          "base_uri": "https://localhost:8080/"
        },
        "outputId": "280ea8e8-d0c8-4231-e822-6b75c75821f8"
      },
      "execution_count": 31,
      "outputs": [
        {
          "output_type": "stream",
          "name": "stdout",
          "text": [
            "\n",
            "\n",
            "\u001b[1m> Entering new SequentialChain chain...\u001b[0m\n",
            "\n",
            "\n",
            "\u001b[1m> Entering new LLMChain chain...\u001b[0m\n",
            "Prompt after formatting:\n",
            "\u001b[32;1m\u001b[1;3mHuman: [등장 인물]\n",
            "[{'name': '김철수', 'role': '주인공'}, {'name': '이영희', 'role': '조연'}]\n",
            "\n",
            "[참고 텍스트]\n",
            "날씨가 추워지고 있습니다.\n",
            "\n",
            "[등장 인물] 과 [참고 텍스트] 를 소재로 새롭고 흥미진진한 판타지 소설 아이디어를 한 문단으로 작성해줘\u001b[0m\n",
            "\n",
            "\u001b[1m> Finished chain.\u001b[0m\n",
            "\n",
            "\n",
            "\u001b[1m> Entering new LLMChain chain...\u001b[0m\n",
            "Prompt after formatting:\n",
            "\u001b[32;1m\u001b[1;3mHuman: [등장 인물]\n",
            "[{'name': '김철수', 'role': '주인공'}, {'name': '이영희', 'role': '조연'}]\n",
            "\n",
            "[참고 텍스트]\n",
            "날씨가 추워지고 있습니다.\n",
            "\n",
            "[아이디어]\n",
            "추운 겨울날, 김철수와 이영희는 숲속을 걷고 있었다. 눈이 내리고 있었고, 나무들은 얼어붙어 있었다. 갑자기, 그들은 이상한 소리를 들었다. 그들은 소리를 따라가다가 얼음으로 덮인 동굴에 도착했다. 그들은 동굴 안으로 들어가 보았고, 그곳에서 이상한 생물을 발견했다. 그 생물은 흰색의 털을 가지고 있었고, 눈은 푸른색이었다. 그들은 그 생물에게 다가가 물었다. \"당신은 누구인가요?\" 그 생물은 대답했다. \"나는 눈의 여왕입니다.\" 눈의 여왕은 그들에게 말했다. \"나는 이 숲을 지키는 자입니다. 그리고 지금, 나는 당신들에게 한 가지 임무를 주고 싶습니다.\" 그들은 눈의 여왕에게 물었다. \"무슨 임무입니까?\" 눈의 여왕은 대답했다. \"나는 당신들에게 숲의 마법을 지키는 열쇠를 찾아오기를 바랍니다. 그 열쇠는 숲의 어딘가에 숨겨져 있습니다. 그리고 당신들은 그 열쇠를 찾아와야 합니다.\" 그들은 눈의 여왕에게 물었다. \"그 열쇠를 찾으면 어떻게 되나요?\" 눈의 여왕은 대답했다. \"그 열쇠를 찾으면, 당신들은 숲의 마법을 지킬 수 있을 것입니다. 그리고 당신들은 숲의 평화를 지킬 수 있을 것입니다.\" 그들은 눈의 여왕에게 말했다. \"우리는 그 열쇠를 찾아올 것입니다.\" 그리고 그들은 숲을 뒤지기 시작했다.\n",
            "\n",
            "[context]\n",
            "아웃라인 단계에서는 주요 이벤트와 결말을 고려하세요. \n",
            "여기서 중요한 것은, 이 단계에서 구체적인 디테일에 매몰되기보다는 스토리의 큰 그림에 집중하는 것입니다.\n",
            "\n",
            "[등장 인물] 과 [아이디어] 를 소재로 새롭고 흥미진진한 판타지 소설의 아웃라인을 작성해줘\n",
            "\u001b[0m\n",
            "\n",
            "\u001b[1m> Finished chain.\u001b[0m\n",
            "\n",
            "\n",
            "\u001b[1m> Entering new LLMChain chain...\u001b[0m\n",
            "Prompt after formatting:\n",
            "\u001b[32;1m\u001b[1;3mHuman: [등장 인물]\n",
            "[{'name': '김철수', 'role': '주인공'}, {'name': '이영희', 'role': '조연'}]\n",
            "\n",
            "[아이디어]\n",
            "추운 겨울날, 김철수와 이영희는 숲속을 걷고 있었다. 눈이 내리고 있었고, 나무들은 얼어붙어 있었다. 갑자기, 그들은 이상한 소리를 들었다. 그들은 소리를 따라가다가 얼음으로 덮인 동굴에 도착했다. 그들은 동굴 안으로 들어가 보았고, 그곳에서 이상한 생물을 발견했다. 그 생물은 흰색의 털을 가지고 있었고, 눈은 푸른색이었다. 그들은 그 생물에게 다가가 물었다. \"당신은 누구인가요?\" 그 생물은 대답했다. \"나는 눈의 여왕입니다.\" 눈의 여왕은 그들에게 말했다. \"나는 이 숲을 지키는 자입니다. 그리고 지금, 나는 당신들에게 한 가지 임무를 주고 싶습니다.\" 그들은 눈의 여왕에게 물었다. \"무슨 임무입니까?\" 눈의 여왕은 대답했다. \"나는 당신들에게 숲의 마법을 지키는 열쇠를 찾아오기를 바랍니다. 그 열쇠는 숲의 어딘가에 숨겨져 있습니다. 그리고 당신들은 그 열쇠를 찾아와야 합니다.\" 그들은 눈의 여왕에게 물었다. \"그 열쇠를 찾으면 어떻게 되나요?\" 눈의 여왕은 대답했다. \"그 열쇠를 찾으면, 당신들은 숲의 마법을 지킬 수 있을 것입니다. 그리고 당신들은 숲의 평화를 지킬 수 있을 것입니다.\" 그들은 눈의 여왕에게 말했다. \"우리는 그 열쇠를 찾아올 것입니다.\" 그리고 그들은 숲을 뒤지기 시작했다.\n",
            "\n",
            "[아웃라인]\n",
            "**제목:** 눈의 여왕의 열쇠\n",
            "\n",
            "**아웃라인:**\n",
            "\n",
            "* **도입:**\n",
            "    * 추운 겨울날, 김철수와 이영희는 숲속을 걷고 있었다.\n",
            "    * 눈이 내리고 있었고, 나무들은 얼어붙어 있었다.\n",
            "    * 갑자기, 그들은 이상한 소리를 들었다.\n",
            "    * 그들은 소리를 따라가다가 얼음으로 덮인 동굴에 도착했다.\n",
            "* **전개:**\n",
            "    * 그들은 동굴 안으로 들어가 보았고, 그곳에서 이상한 생물을 발견했다.\n",
            "    * 그 생물은 흰색의 털을 가지고 있었고, 눈은 푸른색이었다.\n",
            "    * 그들은 그 생물에게 다가가 물었다. \"당신은 누구인가요?\"\n",
            "    * 그 생물은 대답했다. \"나는 눈의 여왕입니다.\"\n",
            "    * 눈의 여왕은 그들에게 말했다. \"나는 이 숲을 지키는 자입니다. 그리고 지금, 나는 당신들에게 한 가지 임무를 주고 싶습니다.\"\n",
            "    * 그들은 눈의 여왕에게 물었다. \"무슨 임무입니까?\"\n",
            "    * 눈의 여왕은 대답했다. \"나는 당신들에게 숲의 마법을 지키는 열쇠를 찾아오기를 바랍니다. 그 열쇠는 숲의 어딘가에 숨겨져 있습니다. 그리고 당신들은 그 열쇠를 찾아와야 합니다.\"\n",
            "    * 그들은 눈의 여왕에게 물었다. \"그 열쇠를 찾으면 어떻게 되나요?\"\n",
            "    * 눈의 여왕은 대답했다. \"그 열쇠를 찾으면, 당신들은 숲의 마법을 지킬 수 있을 것입니다. 그리고 당신들은 숲의 평화를 지킬 수 있을 것입니다.\"\n",
            "    * 그들은 눈의 여왕에게 말했다. \"우리는 그 열쇠를 찾아올 것입니다.\"\n",
            "    * 그리고 그들은 숲을 뒤지기 시작했다.\n",
            "* **갈등:**\n",
            "    * 그들은 숲을 뒤지다가 많은 위험에 직면한다.\n",
            "    * 그들은 눈사람 군대와 싸워야 하고, 얼음 마녀의 주문을 피해야 한다.\n",
            "    * 그리고 그들은 숲의 마법을 훔치려는 악당들과도 싸워야 한다.\n",
            "* **클라이막스:**\n",
            "    * 마침내 그들은 숲의 마법을 지키는 열쇠를 찾는다.\n",
            "    * 그들은 열쇠를 눈의 여왕에게 돌려주고, 눈의 여왕은 그들에게 숲의 평화를 지키는 임무를 준다.\n",
            "* **결말:**\n",
            "    * 그들은 숲의 평화를 지키기 위해 싸운다.\n",
            "    * 그리고 그들은 결국 악당들을 물리치고, 숲의 평화를 지킨다.\n",
            "\n",
            "[context]\n",
            "세부 플롯 개발에서는 캐릭터의 발전, 각 장면의 연속성, 그리고 이벤트들이 어떻게 스토리를 전진시키는지에 초점을 맞추세요. \n",
            "또한, 캐릭터 간의 상호작용과 각 장면이 전체 플롯에 어떻게 기여하는지를 고려하면서 플롯을 세부화해 나가야 합니다.\n",
            "\n",
            "[등장 인물], [아이디어], [아웃라인]을 가지고 흥미진진한 판타지 소설의 세부 플롯을 4개의 Chapter로 나눠서 작성해줘.\n",
            "\u001b[0m\n",
            "\n",
            "\u001b[1m> Finished chain.\u001b[0m\n",
            "\n",
            "\u001b[1m> Finished chain.\u001b[0m\n",
            "\n",
            "\n",
            "\u001b[1m> Entering new LLMChain chain...\u001b[0m\n",
            "Prompt after formatting:\n",
            "\u001b[32;1m\u001b[1;3mHuman: [persona]\n",
            "너는 베스트셀러 작가야. 사람들에게 항상 새롭고 흥미진진한 소설을 작성하는 것으로 잘 알려져 있어\n",
            "\n",
            "[등장 인물]\n",
            "[{'name': '김철수', 'role': '주인공'}, {'name': '이영희', 'role': '조연'}]\n",
            "\n",
            "[아웃라인]\n",
            "**제목:** 눈의 여왕의 열쇠\n",
            "\n",
            "**아웃라인:**\n",
            "\n",
            "* **도입:**\n",
            "    * 추운 겨울날, 김철수와 이영희는 숲속을 걷고 있었다.\n",
            "    * 눈이 내리고 있었고, 나무들은 얼어붙어 있었다.\n",
            "    * 갑자기, 그들은 이상한 소리를 들었다.\n",
            "    * 그들은 소리를 따라가다가 얼음으로 덮인 동굴에 도착했다.\n",
            "* **전개:**\n",
            "    * 그들은 동굴 안으로 들어가 보았고, 그곳에서 이상한 생물을 발견했다.\n",
            "    * 그 생물은 흰색의 털을 가지고 있었고, 눈은 푸른색이었다.\n",
            "    * 그들은 그 생물에게 다가가 물었다. \"당신은 누구인가요?\"\n",
            "    * 그 생물은 대답했다. \"나는 눈의 여왕입니다.\"\n",
            "    * 눈의 여왕은 그들에게 말했다. \"나는 이 숲을 지키는 자입니다. 그리고 지금, 나는 당신들에게 한 가지 임무를 주고 싶습니다.\"\n",
            "    * 그들은 눈의 여왕에게 물었다. \"무슨 임무입니까?\"\n",
            "    * 눈의 여왕은 대답했다. \"나는 당신들에게 숲의 마법을 지키는 열쇠를 찾아오기를 바랍니다. 그 열쇠는 숲의 어딘가에 숨겨져 있습니다. 그리고 당신들은 그 열쇠를 찾아와야 합니다.\"\n",
            "    * 그들은 눈의 여왕에게 물었다. \"그 열쇠를 찾으면 어떻게 되나요?\"\n",
            "    * 눈의 여왕은 대답했다. \"그 열쇠를 찾으면, 당신들은 숲의 마법을 지킬 수 있을 것입니다. 그리고 당신들은 숲의 평화를 지킬 수 있을 것입니다.\"\n",
            "    * 그들은 눈의 여왕에게 말했다. \"우리는 그 열쇠를 찾아올 것입니다.\"\n",
            "    * 그리고 그들은 숲을 뒤지기 시작했다.\n",
            "* **갈등:**\n",
            "    * 그들은 숲을 뒤지다가 많은 위험에 직면한다.\n",
            "    * 그들은 눈사람 군대와 싸워야 하고, 얼음 마녀의 주문을 피해야 한다.\n",
            "    * 그리고 그들은 숲의 마법을 훔치려는 악당들과도 싸워야 한다.\n",
            "* **클라이막스:**\n",
            "    * 마침내 그들은 숲의 마법을 지키는 열쇠를 찾는다.\n",
            "    * 그들은 열쇠를 눈의 여왕에게 돌려주고, 눈의 여왕은 그들에게 숲의 평화를 지키는 임무를 준다.\n",
            "* **결말:**\n",
            "    * 그들은 숲의 평화를 지키기 위해 싸운다.\n",
            "    * 그리고 그들은 결국 악당들을 물리치고, 숲의 평화를 지킨다.\n",
            "\n",
            "[플롯]\n",
            "**Chapter 1: 숲속의 이상한 소리**\n",
            "\n",
            "* 김철수와 이영희는 추운 겨울날 숲속을 걷고 있었다.\n",
            "* 그들은 이상한 소리를 듣고 소리를 따라가다가 얼음으로 덮인 동굴에 도착했다.\n",
            "* 그들은 동굴 안으로 들어가 이상한 물을 발견했다.\n",
            "* 그 물은 흰색의 털을 가지고 있었고, 눈은 푸른색이었다.\n",
            "* 그들은 그 물에게 다가가 물었다. \"당신은 누구인가요?\"\n",
            "* 그 물은 대답했다. \"나는 눈의 여왕입니다.\"\n",
            "\n",
            "**Chapter 2: 눈의 여왕의 임무**\n",
            "\n",
            "* 눈의 여왕은 그들에게 말했다. \"나는 이 숲을 지키는 자입니다. 그리고 지금, 나는 당신들에게 한 가지 임무를 주고 싶습니다.\"\n",
            "* 그들은 눈의 여왕에게 물었다. \"무슨 임무입니까?\"\n",
            "* 눈의 여왕은 대답했다. \"나는 당신들에게 숲의 마법을 지키는 열쇠를 찾아오기를 바랍니다. 그 열쇠는 숲의 어딘가에 숨겨져 있습니다. 그리고 당신들은 그 열쇠를 찾아와야 합니다.\"\n",
            "* 그들은 눈의 여왕에게 물었다. \"그 열쇠를 찾으면 어떻게 되나요?\"\n",
            "* 눈의 여왕은 대답했다. \"그 열쇠를 찾으면, 당신들은 숲의 마법을 지킬 수 있을 것입니다. 그리고 당신들은 숲의 평화를 지킬 수 있을 것입니다.\"\n",
            "* 그들은 눈의 여왕에게 말했다. \"우리는 그 열쇠를 찾아올 것입니다.\"\n",
            "* 그리고 그들은 숲을 뒤지기 시작했다.\n",
            "\n",
            "**Chapter 3: 숲속의 위험**\n",
            "\n",
            "* 그들은 숲을 뒤지다가 많은 위험에 직면했다.\n",
            "* 그들은 늑대와 싸워야 했고, 얼음 마녀의 주문을 피해야 했다.\n",
            "* 그리고 그들은 숲의 마법을 훔치려는 악당들과도 싸워야 했다.\n",
            "* 그들은 많은 어려움을 겪었지만 결국 열쇠를 찾았다.\n",
            "\n",
            "**Chapter 4: 숲의 평화를 지키기 위해**\n",
            "\n",
            "* 그들은 열쇠를 눈의 여왕에게 돌려주고, 눈의 여왕은 그들에게 숲의 평화를 지키는 임무를 맡겼다.\n",
            "* 그들은 숲의 평화를 지키기 위해 싸웠다.\n",
            "* 그리고 그들은 결국 악당들을 물리치고, 숲의 평화를 지켰다.\n",
            "\n",
            "\n",
            "[등장 인물], <아웃라인>을 가지고 [플롯]의 Chapter 1을 소설로 작성해\n",
            "\n",
            "Chapter 1:\u001b[0m\n",
            "\n",
            "\u001b[1m> Finished chain.\u001b[0m\n",
            "\n",
            "\n",
            "\u001b[1m> Entering new LLMChain chain...\u001b[0m\n",
            "Prompt after formatting:\n",
            "\u001b[32;1m\u001b[1;3mHuman: [persona]\n",
            "너는 베스트셀러 작가야. 사람들에게 항상 새롭고 흥미진진한 소설을 작성하는 것으로 잘 알려져 있어\n",
            "\n",
            "[등장 인물]\n",
            "[{'name': '김철수', 'role': '주인공'}, {'name': '이영희', 'role': '조연'}]\n",
            "\n",
            "[아웃라인]\n",
            "**제목:** 눈의 여왕의 열쇠\n",
            "\n",
            "**아웃라인:**\n",
            "\n",
            "* **도입:**\n",
            "    * 추운 겨울날, 김철수와 이영희는 숲속을 걷고 있었다.\n",
            "    * 눈이 내리고 있었고, 나무들은 얼어붙어 있었다.\n",
            "    * 갑자기, 그들은 이상한 소리를 들었다.\n",
            "    * 그들은 소리를 따라가다가 얼음으로 덮인 동굴에 도착했다.\n",
            "* **전개:**\n",
            "    * 그들은 동굴 안으로 들어가 보았고, 그곳에서 이상한 생물을 발견했다.\n",
            "    * 그 생물은 흰색의 털을 가지고 있었고, 눈은 푸른색이었다.\n",
            "    * 그들은 그 생물에게 다가가 물었다. \"당신은 누구인가요?\"\n",
            "    * 그 생물은 대답했다. \"나는 눈의 여왕입니다.\"\n",
            "    * 눈의 여왕은 그들에게 말했다. \"나는 이 숲을 지키는 자입니다. 그리고 지금, 나는 당신들에게 한 가지 임무를 주고 싶습니다.\"\n",
            "    * 그들은 눈의 여왕에게 물었다. \"무슨 임무입니까?\"\n",
            "    * 눈의 여왕은 대답했다. \"나는 당신들에게 숲의 마법을 지키는 열쇠를 찾아오기를 바랍니다. 그 열쇠는 숲의 어딘가에 숨겨져 있습니다. 그리고 당신들은 그 열쇠를 찾아와야 합니다.\"\n",
            "    * 그들은 눈의 여왕에게 물었다. \"그 열쇠를 찾으면 어떻게 되나요?\"\n",
            "    * 눈의 여왕은 대답했다. \"그 열쇠를 찾으면, 당신들은 숲의 마법을 지킬 수 있을 것입니다. 그리고 당신들은 숲의 평화를 지킬 수 있을 것입니다.\"\n",
            "    * 그들은 눈의 여왕에게 말했다. \"우리는 그 열쇠를 찾아올 것입니다.\"\n",
            "    * 그리고 그들은 숲을 뒤지기 시작했다.\n",
            "* **갈등:**\n",
            "    * 그들은 숲을 뒤지다가 많은 위험에 직면한다.\n",
            "    * 그들은 눈사람 군대와 싸워야 하고, 얼음 마녀의 주문을 피해야 한다.\n",
            "    * 그리고 그들은 숲의 마법을 훔치려는 악당들과도 싸워야 한다.\n",
            "* **클라이막스:**\n",
            "    * 마침내 그들은 숲의 마법을 지키는 열쇠를 찾는다.\n",
            "    * 그들은 열쇠를 눈의 여왕에게 돌려주고, 눈의 여왕은 그들에게 숲의 평화를 지키는 임무를 준다.\n",
            "* **결말:**\n",
            "    * 그들은 숲의 평화를 지키기 위해 싸운다.\n",
            "    * 그리고 그들은 결국 악당들을 물리치고, 숲의 평화를 지킨다.\n",
            "\n",
            "[플롯]\n",
            "**Chapter 1: 숲속의 이상한 소리**\n",
            "\n",
            "* 김철수와 이영희는 추운 겨울날 숲속을 걷고 있었다.\n",
            "* 그들은 이상한 소리를 듣고 소리를 따라가다가 얼음으로 덮인 동굴에 도착했다.\n",
            "* 그들은 동굴 안으로 들어가 이상한 물을 발견했다.\n",
            "* 그 물은 흰색의 털을 가지고 있었고, 눈은 푸른색이었다.\n",
            "* 그들은 그 물에게 다가가 물었다. \"당신은 누구인가요?\"\n",
            "* 그 물은 대답했다. \"나는 눈의 여왕입니다.\"\n",
            "\n",
            "**Chapter 2: 눈의 여왕의 임무**\n",
            "\n",
            "* 눈의 여왕은 그들에게 말했다. \"나는 이 숲을 지키는 자입니다. 그리고 지금, 나는 당신들에게 한 가지 임무를 주고 싶습니다.\"\n",
            "* 그들은 눈의 여왕에게 물었다. \"무슨 임무입니까?\"\n",
            "* 눈의 여왕은 대답했다. \"나는 당신들에게 숲의 마법을 지키는 열쇠를 찾아오기를 바랍니다. 그 열쇠는 숲의 어딘가에 숨겨져 있습니다. 그리고 당신들은 그 열쇠를 찾아와야 합니다.\"\n",
            "* 그들은 눈의 여왕에게 물었다. \"그 열쇠를 찾으면 어떻게 되나요?\"\n",
            "* 눈의 여왕은 대답했다. \"그 열쇠를 찾으면, 당신들은 숲의 마법을 지킬 수 있을 것입니다. 그리고 당신들은 숲의 평화를 지킬 수 있을 것입니다.\"\n",
            "* 그들은 눈의 여왕에게 말했다. \"우리는 그 열쇠를 찾아올 것입니다.\"\n",
            "* 그리고 그들은 숲을 뒤지기 시작했다.\n",
            "\n",
            "**Chapter 3: 숲속의 위험**\n",
            "\n",
            "* 그들은 숲을 뒤지다가 많은 위험에 직면했다.\n",
            "* 그들은 늑대와 싸워야 했고, 얼음 마녀의 주문을 피해야 했다.\n",
            "* 그리고 그들은 숲의 마법을 훔치려는 악당들과도 싸워야 했다.\n",
            "* 그들은 많은 어려움을 겪었지만 결국 열쇠를 찾았다.\n",
            "\n",
            "**Chapter 4: 숲의 평화를 지키기 위해**\n",
            "\n",
            "* 그들은 열쇠를 눈의 여왕에게 돌려주고, 눈의 여왕은 그들에게 숲의 평화를 지키는 임무를 맡겼다.\n",
            "* 그들은 숲의 평화를 지키기 위해 싸웠다.\n",
            "* 그리고 그들은 결국 악당들을 물리치고, 숲의 평화를 지켰다.\n",
            "\n",
            "\n",
            "[등장 인물], <아웃라인>을 가지고 [플롯]의 Chapter 2을 소설로 작성해\n",
            "\n",
            "Chapter 2:\u001b[0m\n",
            "\n",
            "\u001b[1m> Finished chain.\u001b[0m\n",
            "\n",
            "\n",
            "\u001b[1m> Entering new LLMChain chain...\u001b[0m\n",
            "Prompt after formatting:\n",
            "\u001b[32;1m\u001b[1;3mHuman: [persona]\n",
            "너는 베스트셀러 작가야. 사람들에게 항상 새롭고 흥미진진한 소설을 작성하는 것으로 잘 알려져 있어\n",
            "\n",
            "[등장 인물]\n",
            "[{'name': '김철수', 'role': '주인공'}, {'name': '이영희', 'role': '조연'}]\n",
            "\n",
            "[아웃라인]\n",
            "**제목:** 눈의 여왕의 열쇠\n",
            "\n",
            "**아웃라인:**\n",
            "\n",
            "* **도입:**\n",
            "    * 추운 겨울날, 김철수와 이영희는 숲속을 걷고 있었다.\n",
            "    * 눈이 내리고 있었고, 나무들은 얼어붙어 있었다.\n",
            "    * 갑자기, 그들은 이상한 소리를 들었다.\n",
            "    * 그들은 소리를 따라가다가 얼음으로 덮인 동굴에 도착했다.\n",
            "* **전개:**\n",
            "    * 그들은 동굴 안으로 들어가 보았고, 그곳에서 이상한 생물을 발견했다.\n",
            "    * 그 생물은 흰색의 털을 가지고 있었고, 눈은 푸른색이었다.\n",
            "    * 그들은 그 생물에게 다가가 물었다. \"당신은 누구인가요?\"\n",
            "    * 그 생물은 대답했다. \"나는 눈의 여왕입니다.\"\n",
            "    * 눈의 여왕은 그들에게 말했다. \"나는 이 숲을 지키는 자입니다. 그리고 지금, 나는 당신들에게 한 가지 임무를 주고 싶습니다.\"\n",
            "    * 그들은 눈의 여왕에게 물었다. \"무슨 임무입니까?\"\n",
            "    * 눈의 여왕은 대답했다. \"나는 당신들에게 숲의 마법을 지키는 열쇠를 찾아오기를 바랍니다. 그 열쇠는 숲의 어딘가에 숨겨져 있습니다. 그리고 당신들은 그 열쇠를 찾아와야 합니다.\"\n",
            "    * 그들은 눈의 여왕에게 물었다. \"그 열쇠를 찾으면 어떻게 되나요?\"\n",
            "    * 눈의 여왕은 대답했다. \"그 열쇠를 찾으면, 당신들은 숲의 마법을 지킬 수 있을 것입니다. 그리고 당신들은 숲의 평화를 지킬 수 있을 것입니다.\"\n",
            "    * 그들은 눈의 여왕에게 말했다. \"우리는 그 열쇠를 찾아올 것입니다.\"\n",
            "    * 그리고 그들은 숲을 뒤지기 시작했다.\n",
            "* **갈등:**\n",
            "    * 그들은 숲을 뒤지다가 많은 위험에 직면한다.\n",
            "    * 그들은 눈사람 군대와 싸워야 하고, 얼음 마녀의 주문을 피해야 한다.\n",
            "    * 그리고 그들은 숲의 마법을 훔치려는 악당들과도 싸워야 한다.\n",
            "* **클라이막스:**\n",
            "    * 마침내 그들은 숲의 마법을 지키는 열쇠를 찾는다.\n",
            "    * 그들은 열쇠를 눈의 여왕에게 돌려주고, 눈의 여왕은 그들에게 숲의 평화를 지키는 임무를 준다.\n",
            "* **결말:**\n",
            "    * 그들은 숲의 평화를 지키기 위해 싸운다.\n",
            "    * 그리고 그들은 결국 악당들을 물리치고, 숲의 평화를 지킨다.\n",
            "\n",
            "[플롯]\n",
            "**Chapter 1: 숲속의 이상한 소리**\n",
            "\n",
            "* 김철수와 이영희는 추운 겨울날 숲속을 걷고 있었다.\n",
            "* 그들은 이상한 소리를 듣고 소리를 따라가다가 얼음으로 덮인 동굴에 도착했다.\n",
            "* 그들은 동굴 안으로 들어가 이상한 물을 발견했다.\n",
            "* 그 물은 흰색의 털을 가지고 있었고, 눈은 푸른색이었다.\n",
            "* 그들은 그 물에게 다가가 물었다. \"당신은 누구인가요?\"\n",
            "* 그 물은 대답했다. \"나는 눈의 여왕입니다.\"\n",
            "\n",
            "**Chapter 2: 눈의 여왕의 임무**\n",
            "\n",
            "* 눈의 여왕은 그들에게 말했다. \"나는 이 숲을 지키는 자입니다. 그리고 지금, 나는 당신들에게 한 가지 임무를 주고 싶습니다.\"\n",
            "* 그들은 눈의 여왕에게 물었다. \"무슨 임무입니까?\"\n",
            "* 눈의 여왕은 대답했다. \"나는 당신들에게 숲의 마법을 지키는 열쇠를 찾아오기를 바랍니다. 그 열쇠는 숲의 어딘가에 숨겨져 있습니다. 그리고 당신들은 그 열쇠를 찾아와야 합니다.\"\n",
            "* 그들은 눈의 여왕에게 물었다. \"그 열쇠를 찾으면 어떻게 되나요?\"\n",
            "* 눈의 여왕은 대답했다. \"그 열쇠를 찾으면, 당신들은 숲의 마법을 지킬 수 있을 것입니다. 그리고 당신들은 숲의 평화를 지킬 수 있을 것입니다.\"\n",
            "* 그들은 눈의 여왕에게 말했다. \"우리는 그 열쇠를 찾아올 것입니다.\"\n",
            "* 그리고 그들은 숲을 뒤지기 시작했다.\n",
            "\n",
            "**Chapter 3: 숲속의 위험**\n",
            "\n",
            "* 그들은 숲을 뒤지다가 많은 위험에 직면했다.\n",
            "* 그들은 늑대와 싸워야 했고, 얼음 마녀의 주문을 피해야 했다.\n",
            "* 그리고 그들은 숲의 마법을 훔치려는 악당들과도 싸워야 했다.\n",
            "* 그들은 많은 어려움을 겪었지만 결국 열쇠를 찾았다.\n",
            "\n",
            "**Chapter 4: 숲의 평화를 지키기 위해**\n",
            "\n",
            "* 그들은 열쇠를 눈의 여왕에게 돌려주고, 눈의 여왕은 그들에게 숲의 평화를 지키는 임무를 맡겼다.\n",
            "* 그들은 숲의 평화를 지키기 위해 싸웠다.\n",
            "* 그리고 그들은 결국 악당들을 물리치고, 숲의 평화를 지켰다.\n",
            "\n",
            "\n",
            "[등장 인물], <아웃라인>을 가지고 [플롯]의 Chapter 3을 소설로 작성해\n",
            "\n",
            "Chapter 3:\u001b[0m\n",
            "\n",
            "\u001b[1m> Finished chain.\u001b[0m\n"
          ]
        },
        {
          "output_type": "execute_result",
          "data": {
            "text/plain": [
              "{'results': '**Chapter 1: 숲속의 이상한 소리**\\n\\n추운 겨울날, 김철수와 이영희는 숲속을 걷고 있었다. 눈이 내리고 있었고, 나무들은 얼어붙어 있었다. 그들은 겨울방학을 이용해 캠핑을 하기로 했다. 둘은 어릴 때부터 절친한 친구였고, 항상 함께 놀곤 했다.\\n\\n그들은 숲속을 걸으며 이야기를 나누고 있었다. 그들은 학교에서 있었던 일과, 앞으로의 계획에 대해 이야기했다. 그들은 숲속을 걸으며 즐거운 시간을 보냈다.\\n\\n갑자기, 그들은 이상한 소리를 들었다. 그것은 숲속에서 나는 소리였고, 그들은 그 소리가 무엇인지 알 수 없었다. 그들은 소리를 따라가기로 했다.\\n\\n그들은 소리를 따라가다가 얼음으로 덮인 동굴에 도착했다. 동굴은 어두컴컴했고, 그들은 안으로 들어가기가 두려웠다. 그러나 그들은 용기를 내어 동굴 안으로 들어갔다.\\n\\n그들은 동굴 안으로 들어가 보았고, 그곳에서 이상한 생물을 발견했다. 그 생물은 흰색의 털을 가지고 있었고, 눈은 푸른색이었다. 그들은 그 생물에게 다가가 물었다.\\n\\n\"당신은 누구인가요?\"\\n\\n그 생물은 대답했다.\\n\\n\"나는 눈의 여왕입니다.\"\\n\\n눈의 여왕은 그들에게 말했다.\\n\\n\"나는 이 숲을 지키는 자입니다. 그리고 지금, 나는 당신들에게 한 가지 임무를 주고 싶습니다.\"\\n\\n그들은 눈의 여왕에게 물었다.\\n\\n\"무슨 임무입니까?\"\\n\\n눈의 여왕은 대답했다.\\n\\n\"나는 당신들에게 숲의 마법을 지키는 열쇠를 찾아오기를 바랍니다. 그 열쇠는 숲의 어딘가에 숨겨져 있습니다. 그리고 당신들은 그 열쇠를 찾아와야 합니다.\"\\n\\n그들은 눈의 여왕에게 물었다.\\n\\n\"그 열쇠를 찾으면 어떻게 되나요?\"\\n\\n눈의 여왕은 대답했다.\\n\\n\"그 열쇠를 찾으면, 당신들은 숲의 마법을 지킬 수 있을 것입니다. 그리고 당신들은 숲의 평화를 지킬 수 있을 것입니다.\"\\n\\n그들은 눈의 여왕에게 말했다.\\n\\n\"우리는 그 열쇠를 찾아올 것입니다.\"\\n\\n그리고 그들은 숲을 뒤지기 시작했다.\\n\\n**Chapter 2: 눈의 여왕의 임무**\\n\\n김철수와 이영희는 눈의 여왕의 말을 듣고 놀랐다. 그들은 숲의 마법을 지키는 열쇠를 찾아야 한다는 말을 들은 것이다.\\n\\n\"그 열쇠는 어디에 있습니까?\" 김철수가 물었다.\\n\\n\"그 열쇠는 숲의 어딘가에 숨겨져 있습니다.\" 눈의 여왕이 대답했다. \"그리고 당신들은 그 열쇠를 찾아와야 합니다.\"\\n\\n\"그 열쇠를 찾으면 어떻게 되나요?\" 이영희가 물었다.\\n\\n\"그 열쇠를 찾으면, 당신들은 숲의 마법을 지킬 수 있을 것입니다. 그리고 당신들은 숲의 평화를 지킬 수 있을 것입니다.\" 눈의 여왕이 대답했다.\\n\\n김철수와 이영희는 눈의 여왕에게 말했다. \"우리는 그 열쇠를 찾아올 것입니다.\"\\n\\n그리고 그들은 숲을 뒤지기 시작했다.\\n\\n그들은 숲을 뒤지며 많은 위험에 직면했다. 그들은 늑대와 싸워야 했고, 얼음 마녀의 주문을 피해야 했다. 그리고 그들은 숲의 마법을 훔치려는 악당들과도 싸워야 했다.\\n\\n그들은 많은 어려움을 겪었지만 결국 열쇠를 찾았다.\\n\\n그들은 열쇠를 눈의 여왕에게 돌려주고, 눈의 여왕은 그들에게 숲의 평화를 지키는 임무를 맡겼다.\\n\\n그들은 숲의 평화를 지키기 위해 싸웠다.\\n\\n그리고 그들은 결국 악당들을 물리치고, 숲의 평화를 지켰다.\\n\\n**Chapter 3: 숲속의 위험**\\n\\n김철수와 이영희는 숲을 뒤지며 열쇠를 찾고 있었다. 그들은 많은 위험에 직면했지만, 결코 포기하지 않았다.\\n\\n어느 날, 그들은 늑대 무리와 마주쳤다. 늑대들은 그들을 향해 달려들었고, 그들은 싸워야 했다. 김철수는 칼로 늑대들을 베었고, 이영희는 활로 늑대들을 쏘았다. 그들은 많은 늑대들을 물리쳤지만, 결국 늑대들이 너무 많아졌다. 그들은 도망칠 수밖에 없었다.\\n\\n그들은 숲속을 달리며 도망쳤다. 늑대들은 그들을 뒤쫓았지만, 그들은 결국 늑대들을 따돌렸다. 그들은 나무 위로 올라가 숨었다. 늑대들은 나무 아래에서 그들을 노려보았지만, 그들은 결코 올라오지 않았다.\\n\\n그들은 나무 위에서 밤을 보냈다. 다음날 아침, 그들은 다시 숲을 뒤지기 시작했다. 그들은 얼음 마녀의 주문을 피해야 했고, 숲의 마법을 훔치려는 악당들과도 싸워야 했다.\\n\\n그들은 많은 어려움을 겪었지만 결국 열쇠를 찾았다. 그들은 열쇠를 눈의 여왕에게 돌려주고, 눈의 여왕은 그들에게 숲의 평화를 지키는 임무를 맡겼다.\\n\\n그들은 숲의 평화를 지키기 위해 싸웠다. 그리고 그들은 결국 악당들을 물리치고, 숲의 평화를 지켰다.'}"
            ]
          },
          "metadata": {},
          "execution_count": 31
        }
      ]
    }
  ]
}