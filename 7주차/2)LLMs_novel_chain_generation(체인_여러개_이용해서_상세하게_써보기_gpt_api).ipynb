{
  "nbformat": 4,
  "nbformat_minor": 0,
  "metadata": {
    "colab": {
      "provenance": []
    },
    "kernelspec": {
      "name": "python3",
      "display_name": "Python 3"
    },
    "language_info": {
      "name": "python"
    }
  },
  "cells": [
    {
      "cell_type": "markdown",
      "source": [
        "### 드라이브 마운트"
      ],
      "metadata": {
        "id": "Bq_50zTu-dgW"
      }
    },
    {
      "cell_type": "code",
      "source": [
        "from google.colab import drive\n",
        "drive.mount('/content/drive')"
      ],
      "metadata": {
        "id": "Fi0aF680D-DR",
        "colab": {
          "base_uri": "https://localhost:8080/"
        },
        "outputId": "9a84bd92-2316-4a48-c8eb-e75721957367"
      },
      "execution_count": 25,
      "outputs": [
        {
          "output_type": "stream",
          "name": "stdout",
          "text": [
            "Drive already mounted at /content/drive; to attempt to forcibly remount, call drive.mount(\"/content/drive\", force_remount=True).\n"
          ]
        }
      ]
    },
    {
      "cell_type": "markdown",
      "source": [
        "### 패키지 설치"
      ],
      "metadata": {
        "id": "KM9aGdke-fR0"
      }
    },
    {
      "cell_type": "code",
      "source": [
        "!pip install openai langchain"
      ],
      "metadata": {
        "id": "t7KHOqhrEMav",
        "colab": {
          "base_uri": "https://localhost:8080/"
        },
        "outputId": "eda4d197-d888-4203-fe1e-07f07c3b9dbc"
      },
      "execution_count": 26,
      "outputs": [
        {
          "output_type": "stream",
          "name": "stdout",
          "text": [
            "Requirement already satisfied: openai in /usr/local/lib/python3.10/dist-packages (1.10.0)\n",
            "Requirement already satisfied: langchain in /usr/local/lib/python3.10/dist-packages (0.1.4)\n",
            "Requirement already satisfied: anyio<5,>=3.5.0 in /usr/local/lib/python3.10/dist-packages (from openai) (3.7.1)\n",
            "Requirement already satisfied: distro<2,>=1.7.0 in /usr/lib/python3/dist-packages (from openai) (1.7.0)\n",
            "Requirement already satisfied: httpx<1,>=0.23.0 in /usr/local/lib/python3.10/dist-packages (from openai) (0.26.0)\n",
            "Requirement already satisfied: pydantic<3,>=1.9.0 in /usr/local/lib/python3.10/dist-packages (from openai) (1.10.14)\n",
            "Requirement already satisfied: sniffio in /usr/local/lib/python3.10/dist-packages (from openai) (1.3.0)\n",
            "Requirement already satisfied: tqdm>4 in /usr/local/lib/python3.10/dist-packages (from openai) (4.66.1)\n",
            "Requirement already satisfied: typing-extensions<5,>=4.7 in /usr/local/lib/python3.10/dist-packages (from openai) (4.9.0)\n",
            "Requirement already satisfied: PyYAML>=5.3 in /usr/local/lib/python3.10/dist-packages (from langchain) (6.0.1)\n",
            "Requirement already satisfied: SQLAlchemy<3,>=1.4 in /usr/local/lib/python3.10/dist-packages (from langchain) (2.0.24)\n",
            "Requirement already satisfied: aiohttp<4.0.0,>=3.8.3 in /usr/local/lib/python3.10/dist-packages (from langchain) (3.9.1)\n",
            "Requirement already satisfied: async-timeout<5.0.0,>=4.0.0 in /usr/local/lib/python3.10/dist-packages (from langchain) (4.0.3)\n",
            "Requirement already satisfied: dataclasses-json<0.7,>=0.5.7 in /usr/local/lib/python3.10/dist-packages (from langchain) (0.6.3)\n",
            "Requirement already satisfied: jsonpatch<2.0,>=1.33 in /usr/local/lib/python3.10/dist-packages (from langchain) (1.33)\n",
            "Requirement already satisfied: langchain-community<0.1,>=0.0.14 in /usr/local/lib/python3.10/dist-packages (from langchain) (0.0.16)\n",
            "Requirement already satisfied: langchain-core<0.2,>=0.1.16 in /usr/local/lib/python3.10/dist-packages (from langchain) (0.1.17)\n",
            "Requirement already satisfied: langsmith<0.1,>=0.0.83 in /usr/local/lib/python3.10/dist-packages (from langchain) (0.0.84)\n",
            "Requirement already satisfied: numpy<2,>=1 in /usr/local/lib/python3.10/dist-packages (from langchain) (1.23.5)\n",
            "Requirement already satisfied: requests<3,>=2 in /usr/local/lib/python3.10/dist-packages (from langchain) (2.31.0)\n",
            "Requirement already satisfied: tenacity<9.0.0,>=8.1.0 in /usr/local/lib/python3.10/dist-packages (from langchain) (8.2.3)\n",
            "Requirement already satisfied: attrs>=17.3.0 in /usr/local/lib/python3.10/dist-packages (from aiohttp<4.0.0,>=3.8.3->langchain) (23.2.0)\n",
            "Requirement already satisfied: multidict<7.0,>=4.5 in /usr/local/lib/python3.10/dist-packages (from aiohttp<4.0.0,>=3.8.3->langchain) (6.0.4)\n",
            "Requirement already satisfied: yarl<2.0,>=1.0 in /usr/local/lib/python3.10/dist-packages (from aiohttp<4.0.0,>=3.8.3->langchain) (1.9.4)\n",
            "Requirement already satisfied: frozenlist>=1.1.1 in /usr/local/lib/python3.10/dist-packages (from aiohttp<4.0.0,>=3.8.3->langchain) (1.4.1)\n",
            "Requirement already satisfied: aiosignal>=1.1.2 in /usr/local/lib/python3.10/dist-packages (from aiohttp<4.0.0,>=3.8.3->langchain) (1.3.1)\n",
            "Requirement already satisfied: idna>=2.8 in /usr/local/lib/python3.10/dist-packages (from anyio<5,>=3.5.0->openai) (3.6)\n",
            "Requirement already satisfied: exceptiongroup in /usr/local/lib/python3.10/dist-packages (from anyio<5,>=3.5.0->openai) (1.2.0)\n",
            "Requirement already satisfied: marshmallow<4.0.0,>=3.18.0 in /usr/local/lib/python3.10/dist-packages (from dataclasses-json<0.7,>=0.5.7->langchain) (3.20.2)\n",
            "Requirement already satisfied: typing-inspect<1,>=0.4.0 in /usr/local/lib/python3.10/dist-packages (from dataclasses-json<0.7,>=0.5.7->langchain) (0.9.0)\n",
            "Requirement already satisfied: certifi in /usr/local/lib/python3.10/dist-packages (from httpx<1,>=0.23.0->openai) (2023.11.17)\n",
            "Requirement already satisfied: httpcore==1.* in /usr/local/lib/python3.10/dist-packages (from httpx<1,>=0.23.0->openai) (1.0.2)\n",
            "Requirement already satisfied: h11<0.15,>=0.13 in /usr/local/lib/python3.10/dist-packages (from httpcore==1.*->httpx<1,>=0.23.0->openai) (0.14.0)\n",
            "Requirement already satisfied: jsonpointer>=1.9 in /usr/local/lib/python3.10/dist-packages (from jsonpatch<2.0,>=1.33->langchain) (2.4)\n",
            "Requirement already satisfied: packaging<24.0,>=23.2 in /usr/local/lib/python3.10/dist-packages (from langchain-core<0.2,>=0.1.16->langchain) (23.2)\n",
            "Requirement already satisfied: charset-normalizer<4,>=2 in /usr/local/lib/python3.10/dist-packages (from requests<3,>=2->langchain) (3.3.2)\n",
            "Requirement already satisfied: urllib3<3,>=1.21.1 in /usr/local/lib/python3.10/dist-packages (from requests<3,>=2->langchain) (2.0.7)\n",
            "Requirement already satisfied: greenlet!=0.4.17 in /usr/local/lib/python3.10/dist-packages (from SQLAlchemy<3,>=1.4->langchain) (3.0.3)\n",
            "Requirement already satisfied: mypy-extensions>=0.3.0 in /usr/local/lib/python3.10/dist-packages (from typing-inspect<1,>=0.4.0->dataclasses-json<0.7,>=0.5.7->langchain) (1.0.0)\n"
          ]
        }
      ]
    },
    {
      "cell_type": "code",
      "execution_count": 27,
      "metadata": {
        "id": "tTIjHrG2CT54"
      },
      "outputs": [],
      "source": [
        "from pprint import pprint\n",
        "from typing import Dict, List\n",
        "\n",
        "from langchain.chains import LLMChain, SequentialChain\n",
        "from langchain.chat_models import ChatOpenAI\n",
        "from langchain.prompts.chat import ChatPromptTemplate\n",
        "from pydantic import BaseModel\n"
      ]
    },
    {
      "cell_type": "markdown",
      "source": [
        "### OpenAI API key"
      ],
      "metadata": {
        "id": "tcb7WQdDBn3d"
      }
    },
    {
      "cell_type": "code",
      "source": [
        "import getpass\n",
        "import os\n",
        "\n",
        "os.environ[\"OPENAI_API_KEY\"] = getpass.getpass()"
      ],
      "metadata": {
        "id": "qxZXQzINCebv",
        "colab": {
          "base_uri": "https://localhost:8080/"
        },
        "outputId": "3221c2e3-5e47-48ad-d300-6126b8069ed0"
      },
      "execution_count": 28,
      "outputs": [
        {
          "name": "stdout",
          "output_type": "stream",
          "text": [
            "··········\n"
          ]
        }
      ]
    },
    {
      "cell_type": "markdown",
      "source": [
        "### Prompt chain 준비\n",
        "* 서비스할 내용의 프롬프트 체인을 준비합니다.\n",
        "* 각 프롬프트 체인을 미리 준비해 놓고, 템플릿으로 사용합니다."
      ],
      "metadata": {
        "id": "kVOr8L56BrB7"
      }
    },
    {
      "cell_type": "code",
      "source": [
        "P_PATH = \"/content/drive/MyDrive/dataset/Novel_generation/multi_prompt\"\n",
        "IDEA_P = os.path.join(P_PATH, \"extract_idea.txt\")\n",
        "OUTLINE_P = os.path.join(P_PATH, \"write_outline.txt\")\n",
        "PLOT_P = os.path.join(P_PATH, \"write_plot.txt\")\n",
        "CHAPTER_P = os.path.join(P_PATH, \"write_chapter.txt\")"
      ],
      "metadata": {
        "id": "0uAt9eUFD5_B"
      },
      "execution_count": 29,
      "outputs": []
    },
    {
      "cell_type": "markdown",
      "source": [
        "### Prompt chain 구현\n",
        "* `SequentialChain`을 이용해서 여러개의 chain을 연속적으로 구현할 수 있습니다."
      ],
      "metadata": {
        "id": "Vdr7T-w5CfNU"
      }
    },
    {
      "cell_type": "code",
      "source": [
        "class UserRequest(BaseModel):\n",
        "    genre: str\n",
        "    characters: List[Dict[str, str]]\n",
        "    text: str\n",
        "\n",
        "\n",
        "def read_prompt_template(file_path: str) -> str:\n",
        "    with open(file_path, \"r\") as f:\n",
        "        prompt_template = f.read()\n",
        "\n",
        "    return prompt_template\n",
        "\n",
        "\n",
        "def create_chain(llm, template_path, output_key):\n",
        "    return LLMChain(\n",
        "        llm=llm,\n",
        "        prompt=ChatPromptTemplate.from_template(\n",
        "            template=read_prompt_template(template_path),\n",
        "        ),\n",
        "        output_key=output_key,\n",
        "        verbose=True,\n",
        "    )\n",
        "\n",
        "\n",
        "def generate_novel(req: UserRequest) -> Dict[str, str]:\n",
        "    writer_llm = ChatOpenAI(temperature=0.3, max_tokens=500, model=\"gpt-3.5-turbo\")\n",
        "\n",
        "    # 아이디어 뽑기 체인 생성\n",
        "    novel_idea_chain = create_chain(writer_llm,IDEA_P, \"novel_idea\")\n",
        "\n",
        "    # 아웃라인 작성 체인 생성\n",
        "    novel_outline_chain = create_chain(\n",
        "        writer_llm, OUTLINE_P, \"novel_outline\"\n",
        "    )\n",
        "\n",
        "    # 플롯 작성 체인 생성\n",
        "    novel_plot_chain = create_chain(writer_llm, PLOT_P, \"novel_plot\")\n",
        "\n",
        "    # 챕터 작성 체인 생성\n",
        "    novel_chapter_chain = create_chain(writer_llm, CHAPTER_P, \"output\")\n",
        "\n",
        "    preprocess_chain = SequentialChain(\n",
        "        chains=[\n",
        "            novel_idea_chain,\n",
        "            novel_outline_chain,\n",
        "            novel_plot_chain,\n",
        "        ],\n",
        "        input_variables=[\"genre\", \"characters\", \"text\"],\n",
        "        output_variables=[\"novel_idea\", \"novel_outline\", \"novel_plot\"],\n",
        "        verbose=True,\n",
        "    )\n",
        "\n",
        "    context = req.dict()\n",
        "    context = preprocess_chain(user_data)\n",
        "\n",
        "    context[\"novel_chapter\"] = []\n",
        "    for chapter_number in range(1, 4):\n",
        "        context[\"chapter_number\"] = chapter_number\n",
        "        context = novel_chapter_chain(context)\n",
        "        context[\"novel_chapter\"].append(context[\"output\"])\n",
        "\n",
        "    contents = \"\\n\\n\".join(context[\"novel_chapter\"])\n",
        "    return {\"results\": contents}"
      ],
      "metadata": {
        "id": "o-RVkzgKCcOo"
      },
      "execution_count": 54,
      "outputs": []
    },
    {
      "cell_type": "markdown",
      "source": [
        "### User prompt 작성\n",
        "* User가 직접 작성하는 프롬프트를 작성합니다."
      ],
      "metadata": {
        "id": "IjNmhGDGEIzX"
      }
    },
    {
      "cell_type": "code",
      "source": [
        "user_data = {\n",
        "    \"genre\": \"판타지\",\n",
        "    \"characters\": [\n",
        "        {\n",
        "            \"name\": \"김철수\",\n",
        "            \"role\": \"주인공\"\n",
        "        },\n",
        "        {\n",
        "            \"name\": \"이영희\",\n",
        "            \"role\": \"조연\"\n",
        "        }\n",
        "    ],\n",
        "    \"text\": \"날씨가 추워지고 있습니다.\"\n",
        "}\n"
      ],
      "metadata": {
        "id": "m2bfuHDHNx22"
      },
      "execution_count": 55,
      "outputs": []
    },
    {
      "cell_type": "markdown",
      "source": [
        "* User Prompt를 입력합니다."
      ],
      "metadata": {
        "id": "KxWOzyTwIgUN"
      }
    },
    {
      "cell_type": "code",
      "source": [
        "request_instance = UserRequest(**user_data)"
      ],
      "metadata": {
        "id": "1j7O0Y3zPNu2"
      },
      "execution_count": 56,
      "outputs": []
    },
    {
      "cell_type": "markdown",
      "source": [
        "### Text Generation"
      ],
      "metadata": {
        "id": "VFFDa0NSIiip"
      }
    },
    {
      "cell_type": "code",
      "source": [
        "generate_novel(request_instance)"
      ],
      "metadata": {
        "id": "7WLAYEbaPP0B",
        "colab": {
          "base_uri": "https://localhost:8080/"
        },
        "outputId": "3048c134-6c07-43d7-bf9d-7ee85c440180"
      },
      "execution_count": 57,
      "outputs": [
        {
          "output_type": "stream",
          "name": "stdout",
          "text": [
            "\n",
            "\n",
            "\u001b[1m> Entering new SequentialChain chain...\u001b[0m\n",
            "\n",
            "\n",
            "\u001b[1m> Entering new LLMChain chain...\u001b[0m\n",
            "Prompt after formatting:\n",
            "\u001b[32;1m\u001b[1;3mHuman: [등장 인물]\n",
            "[{'name': '김철수', 'role': '주인공'}, {'name': '이영희', 'role': '조연'}]\n",
            "\n",
            "[참고 텍스트]\n",
            "날씨가 추워지고 있습니다.\n",
            "\n",
            "[등장 인물] 과 [참고 텍스트] 를 소재로 새롭고 흥미진진한 판타지 소설 아이디어를 한 문단으로 작성해줘\u001b[0m\n",
            "\n",
            "\u001b[1m> Finished chain.\u001b[0m\n",
            "\n",
            "\n",
            "\u001b[1m> Entering new LLMChain chain...\u001b[0m\n",
            "Prompt after formatting:\n",
            "\u001b[32;1m\u001b[1;3mHuman: [등장 인물]\n",
            "[{'name': '김철수', 'role': '주인공'}, {'name': '이영희', 'role': '조연'}]\n",
            "\n",
            "[참고 텍스트]\n",
            "날씨가 추워지고 있습니다.\n",
            "\n",
            "[아이디어]\n",
            "한 평범한 겨울날, 주인공 김철수는 추운 날씨에 어울리는 따뜻한 커피를 마시며 도시를 거닐고 있었다. 그런데 갑자기 이영희라는 조연이 등장하며, 그녀는 마법사였다. 이영희는 김철수에게 날씨를 조절할 수 있는 마법을 가르쳐주었고, 그들은 함께 도시를 눈으로 뒤덮어버리는 환상적인 눈보라를 만들어냈다. 이 눈보라는 사람들에게 희망과 기쁨을 전달하며, 도시 전체가 환호성을 지르는 풍경을 만들었다. 이렇게 김철수와 이영희는 마법을 이용하여 날씨를 변화시키는 모험을 떠나게 되었고, 그들은 도시를 더욱 아름답게 만들어가는 여정에 도전하게 된다.\n",
            "\n",
            "[context]\n",
            "아웃라인 단계에서는 주요 이벤트와 결말을 고려하세요. \n",
            "여기서 중요한 것은, 이 단계에서 구체적인 디테일에 매몰되기보다는 스토리의 큰 그림에 집중하는 것입니다.\n",
            "\n",
            "[등장 인물] 과 [아이디어] 를 소재로 새롭고 흥미진진한 판타지 소설의 아웃라인을 작성해줘\n",
            "\u001b[0m\n",
            "\n",
            "\u001b[1m> Finished chain.\u001b[0m\n",
            "\n",
            "\n",
            "\u001b[1m> Entering new LLMChain chain...\u001b[0m\n",
            "Prompt after formatting:\n",
            "\u001b[32;1m\u001b[1;3mHuman: [등장 인물]\n",
            "[{'name': '김철수', 'role': '주인공'}, {'name': '이영희', 'role': '조연'}]\n",
            "\n",
            "[아이디어]\n",
            "한 평범한 겨울날, 주인공 김철수는 추운 날씨에 어울리는 따뜻한 커피를 마시며 도시를 거닐고 있었다. 그런데 갑자기 이영희라는 조연이 등장하며, 그녀는 마법사였다. 이영희는 김철수에게 날씨를 조절할 수 있는 마법을 가르쳐주었고, 그들은 함께 도시를 눈으로 뒤덮어버리는 환상적인 눈보라를 만들어냈다. 이 눈보라는 사람들에게 희망과 기쁨을 전달하며, 도시 전체가 환호성을 지르는 풍경을 만들었다. 이렇게 김철수와 이영희는 마법을 이용하여 날씨를 변화시키는 모험을 떠나게 되었고, 그들은 도시를 더욱 아름답게 만들어가는 여정에 도전하게 된다.\n",
            "\n",
            "[아웃라인]\n",
            "아웃라인:\n",
            "\n",
            "1. 소개: 주인공 김철수는 추운 겨울날 도시를 거닐고 있다. 그런데 갑자기 등장한 이영희는 마법사이며, 날씨를 조절할 수 있는 마법을 가지고 있다.\n",
            "\n",
            "2. 이영희의 마법: 이영희는 김철수에게 날씨를 조절할 수 있는 마법을 가르쳐준다. 그들은 함께 도시를 눈으로 뒤덮어버리는 환상적인 눈보라를 만들어낸다.\n",
            "\n",
            "3. 눈보라의 효과: 이 눈보라는 사람들에게 희망과 기쁨을 전달하며, 도시 전체가 환호성을 지르는 풍경을 만든다.\n",
            "\n",
            "4. 모험의 시작: 김철수와 이영희는 마법을 이용하여 날씨를 변화시키는 모험을 떠나게 된다.\n",
            "\n",
            "5. 도시 아름답게 만들기: 김철수와 이영희는 도시를 더욱 아름답게 만들기 위해 여러 도전과 과제에 직면한다.\n",
            "\n",
            "6. 결말: 김철수와 이영희는 함께 협력하여 도시를 아름답게 만들어간다. 이들의 모험은 도시 전체에 희망과 기쁨을 전달하며, 사람들의 삶을 변화시킨다.\n",
            "\n",
            "이 아웃라인을 바탕으로 판타지 소설을 작성하면, 김철수와 이영\n",
            "\n",
            "[context]\n",
            "세부 플롯 개발에서는 캐릭터의 발전, 각 장면의 연속성, 그리고 이벤트들이 어떻게 스토리를 전진시키는지에 초점을 맞추세요. \n",
            "또한, 캐릭터 간의 상호작용과 각 장면이 전체 플롯에 어떻게 기여하는지를 고려하면서 플롯을 세부화해 나가야 합니다.\n",
            "\n",
            "[등장 인물], [아이디어], [아웃라인]을 가지고 흥미진진한 판타지 소설의 세부 플롯을 4개의 Chapter로 나눠서 작성해줘.\n",
            "\u001b[0m\n",
            "\n",
            "\u001b[1m> Finished chain.\u001b[0m\n",
            "\n",
            "\u001b[1m> Finished chain.\u001b[0m\n",
            "\n",
            "\n",
            "\u001b[1m> Entering new LLMChain chain...\u001b[0m\n",
            "Prompt after formatting:\n",
            "\u001b[32;1m\u001b[1;3mHuman: [persona]\n",
            "너는 베스트셀러 작가야. 사람들에게 항상 새롭고 흥미진진한 소설을 작성하는 것으로 잘 알려져 있어\n",
            "\n",
            "[등장 인물]\n",
            "[{'name': '김철수', 'role': '주인공'}, {'name': '이영희', 'role': '조연'}]\n",
            "\n",
            "[아웃라인]\n",
            "아웃라인:\n",
            "\n",
            "1. 소개: 주인공 김철수는 추운 겨울날 도시를 거닐고 있다. 그런데 갑자기 등장한 이영희는 마법사이며, 날씨를 조절할 수 있는 마법을 가지고 있다.\n",
            "\n",
            "2. 이영희의 마법: 이영희는 김철수에게 날씨를 조절할 수 있는 마법을 가르쳐준다. 그들은 함께 도시를 눈으로 뒤덮어버리는 환상적인 눈보라를 만들어낸다.\n",
            "\n",
            "3. 눈보라의 효과: 이 눈보라는 사람들에게 희망과 기쁨을 전달하며, 도시 전체가 환호성을 지르는 풍경을 만든다.\n",
            "\n",
            "4. 모험의 시작: 김철수와 이영희는 마법을 이용하여 날씨를 변화시키는 모험을 떠나게 된다.\n",
            "\n",
            "5. 도시 아름답게 만들기: 김철수와 이영희는 도시를 더욱 아름답게 만들기 위해 여러 도전과 과제에 직면한다.\n",
            "\n",
            "6. 결말: 김철수와 이영희는 함께 협력하여 도시를 아름답게 만들어간다. 이들의 모험은 도시 전체에 희망과 기쁨을 전달하며, 사람들의 삶을 변화시킨다.\n",
            "\n",
            "이 아웃라인을 바탕으로 판타지 소설을 작성하면, 김철수와 이영\n",
            "\n",
            "[플롯]\n",
            "Chapter 1: 마법의 만남\n",
            "\n",
            "- 김철수는 추운 겨울날 도시를 거닐고 있다.\n",
            "- 갑자기 등장한 이영희는 마법사이며, 날씨를 조절할 수 있는 마법을 가지고 있다.\n",
            "- 이영희는 김철수에게 날씨를 조절할 수 있는 마법을 가르쳐준다.\n",
            "- 김철수는 마법에 흥미를 느끼고, 이영희와 함께 모험을 떠나기로 결심한다.\n",
            "\n",
            "Chapter 2: 환상적인 눈보라\n",
            "\n",
            "- 김철수와 이영희는 함께 도시를 눈으로 뒤덮어버리는 환상적인 눈보라를 만들어낸다.\n",
            "- 눈보라는 사람들에게 희망과 기쁨을 전달하며, 도시 전체가 환호성을 지른다.\n",
            "- 김철수와 이영희는 눈보라의 효과를 보고 더 많은 사람들에게 희망을 전달하기 위해 노력하기로 한다.\n",
            "\n",
            "Chapter 3: 도시 아름답게 만들기\n",
            "\n",
            "- 김철수와 이영희는 도시를 더욱 아름답게 만들기 위해 여러 도전과 과제에 직면한다.\n",
            "- 그들은 마법을 이용하여 도시의 공원을 화려하게 꾸미고, 건물들을 아름답게 변신시킨다.\n",
            "- 사람들은 김철수와 이영희의 노력에 감동하며,\n",
            "\n",
            "\n",
            "[등장 인물], <아웃라인>을 가지고 [플롯]의 Chapter 1을 소설로 작성해\n",
            "\n",
            "Chapter 1:\u001b[0m\n",
            "\n",
            "\u001b[1m> Finished chain.\u001b[0m\n",
            "\n",
            "\n",
            "\u001b[1m> Entering new LLMChain chain...\u001b[0m\n",
            "Prompt after formatting:\n",
            "\u001b[32;1m\u001b[1;3mHuman: [persona]\n",
            "너는 베스트셀러 작가야. 사람들에게 항상 새롭고 흥미진진한 소설을 작성하는 것으로 잘 알려져 있어\n",
            "\n",
            "[등장 인물]\n",
            "[{'name': '김철수', 'role': '주인공'}, {'name': '이영희', 'role': '조연'}]\n",
            "\n",
            "[아웃라인]\n",
            "아웃라인:\n",
            "\n",
            "1. 소개: 주인공 김철수는 추운 겨울날 도시를 거닐고 있다. 그런데 갑자기 등장한 이영희는 마법사이며, 날씨를 조절할 수 있는 마법을 가지고 있다.\n",
            "\n",
            "2. 이영희의 마법: 이영희는 김철수에게 날씨를 조절할 수 있는 마법을 가르쳐준다. 그들은 함께 도시를 눈으로 뒤덮어버리는 환상적인 눈보라를 만들어낸다.\n",
            "\n",
            "3. 눈보라의 효과: 이 눈보라는 사람들에게 희망과 기쁨을 전달하며, 도시 전체가 환호성을 지르는 풍경을 만든다.\n",
            "\n",
            "4. 모험의 시작: 김철수와 이영희는 마법을 이용하여 날씨를 변화시키는 모험을 떠나게 된다.\n",
            "\n",
            "5. 도시 아름답게 만들기: 김철수와 이영희는 도시를 더욱 아름답게 만들기 위해 여러 도전과 과제에 직면한다.\n",
            "\n",
            "6. 결말: 김철수와 이영희는 함께 협력하여 도시를 아름답게 만들어간다. 이들의 모험은 도시 전체에 희망과 기쁨을 전달하며, 사람들의 삶을 변화시킨다.\n",
            "\n",
            "이 아웃라인을 바탕으로 판타지 소설을 작성하면, 김철수와 이영\n",
            "\n",
            "[플롯]\n",
            "Chapter 1: 마법의 만남\n",
            "\n",
            "- 김철수는 추운 겨울날 도시를 거닐고 있다.\n",
            "- 갑자기 등장한 이영희는 마법사이며, 날씨를 조절할 수 있는 마법을 가지고 있다.\n",
            "- 이영희는 김철수에게 날씨를 조절할 수 있는 마법을 가르쳐준다.\n",
            "- 김철수는 마법에 흥미를 느끼고, 이영희와 함께 모험을 떠나기로 결심한다.\n",
            "\n",
            "Chapter 2: 환상적인 눈보라\n",
            "\n",
            "- 김철수와 이영희는 함께 도시를 눈으로 뒤덮어버리는 환상적인 눈보라를 만들어낸다.\n",
            "- 눈보라는 사람들에게 희망과 기쁨을 전달하며, 도시 전체가 환호성을 지른다.\n",
            "- 김철수와 이영희는 눈보라의 효과를 보고 더 많은 사람들에게 희망을 전달하기 위해 노력하기로 한다.\n",
            "\n",
            "Chapter 3: 도시 아름답게 만들기\n",
            "\n",
            "- 김철수와 이영희는 도시를 더욱 아름답게 만들기 위해 여러 도전과 과제에 직면한다.\n",
            "- 그들은 마법을 이용하여 도시의 공원을 화려하게 꾸미고, 건물들을 아름답게 변신시킨다.\n",
            "- 사람들은 김철수와 이영희의 노력에 감동하며,\n",
            "\n",
            "\n",
            "[등장 인물], <아웃라인>을 가지고 [플롯]의 Chapter 2을 소설로 작성해\n",
            "\n",
            "Chapter 2:\u001b[0m\n",
            "\n",
            "\u001b[1m> Finished chain.\u001b[0m\n",
            "\n",
            "\n",
            "\u001b[1m> Entering new LLMChain chain...\u001b[0m\n",
            "Prompt after formatting:\n",
            "\u001b[32;1m\u001b[1;3mHuman: [persona]\n",
            "너는 베스트셀러 작가야. 사람들에게 항상 새롭고 흥미진진한 소설을 작성하는 것으로 잘 알려져 있어\n",
            "\n",
            "[등장 인물]\n",
            "[{'name': '김철수', 'role': '주인공'}, {'name': '이영희', 'role': '조연'}]\n",
            "\n",
            "[아웃라인]\n",
            "아웃라인:\n",
            "\n",
            "1. 소개: 주인공 김철수는 추운 겨울날 도시를 거닐고 있다. 그런데 갑자기 등장한 이영희는 마법사이며, 날씨를 조절할 수 있는 마법을 가지고 있다.\n",
            "\n",
            "2. 이영희의 마법: 이영희는 김철수에게 날씨를 조절할 수 있는 마법을 가르쳐준다. 그들은 함께 도시를 눈으로 뒤덮어버리는 환상적인 눈보라를 만들어낸다.\n",
            "\n",
            "3. 눈보라의 효과: 이 눈보라는 사람들에게 희망과 기쁨을 전달하며, 도시 전체가 환호성을 지르는 풍경을 만든다.\n",
            "\n",
            "4. 모험의 시작: 김철수와 이영희는 마법을 이용하여 날씨를 변화시키는 모험을 떠나게 된다.\n",
            "\n",
            "5. 도시 아름답게 만들기: 김철수와 이영희는 도시를 더욱 아름답게 만들기 위해 여러 도전과 과제에 직면한다.\n",
            "\n",
            "6. 결말: 김철수와 이영희는 함께 협력하여 도시를 아름답게 만들어간다. 이들의 모험은 도시 전체에 희망과 기쁨을 전달하며, 사람들의 삶을 변화시킨다.\n",
            "\n",
            "이 아웃라인을 바탕으로 판타지 소설을 작성하면, 김철수와 이영\n",
            "\n",
            "[플롯]\n",
            "Chapter 1: 마법의 만남\n",
            "\n",
            "- 김철수는 추운 겨울날 도시를 거닐고 있다.\n",
            "- 갑자기 등장한 이영희는 마법사이며, 날씨를 조절할 수 있는 마법을 가지고 있다.\n",
            "- 이영희는 김철수에게 날씨를 조절할 수 있는 마법을 가르쳐준다.\n",
            "- 김철수는 마법에 흥미를 느끼고, 이영희와 함께 모험을 떠나기로 결심한다.\n",
            "\n",
            "Chapter 2: 환상적인 눈보라\n",
            "\n",
            "- 김철수와 이영희는 함께 도시를 눈으로 뒤덮어버리는 환상적인 눈보라를 만들어낸다.\n",
            "- 눈보라는 사람들에게 희망과 기쁨을 전달하며, 도시 전체가 환호성을 지른다.\n",
            "- 김철수와 이영희는 눈보라의 효과를 보고 더 많은 사람들에게 희망을 전달하기 위해 노력하기로 한다.\n",
            "\n",
            "Chapter 3: 도시 아름답게 만들기\n",
            "\n",
            "- 김철수와 이영희는 도시를 더욱 아름답게 만들기 위해 여러 도전과 과제에 직면한다.\n",
            "- 그들은 마법을 이용하여 도시의 공원을 화려하게 꾸미고, 건물들을 아름답게 변신시킨다.\n",
            "- 사람들은 김철수와 이영희의 노력에 감동하며,\n",
            "\n",
            "\n",
            "[등장 인물], <아웃라인>을 가지고 [플롯]의 Chapter 3을 소설로 작성해\n",
            "\n",
            "Chapter 3:\u001b[0m\n",
            "\n",
            "\u001b[1m> Finished chain.\u001b[0m\n"
          ]
        },
        {
          "output_type": "execute_result",
          "data": {
            "text/plain": [
              "{'results': '마법의 만남\\n\\n김철수는 추운 겨울날 도시를 거닐고 있었다. 얼어붙을 듯한 바람이 그의 얼굴을 때리며, 그는 손을 주머니에 넣어 따뜻함을 찾으려 했다. 그런데 갑자기 한 소녀가 그의 앞에 나타났다.\\n\\n\"안녕하세요! 제 이름은 이영희예요. 마법사이고, 날씨를 조절할 수 있는 마법을 가지고 있어요.\" 이영희는 밝은 미소로 김철수에게 소개했다.\\n\\n김철수는 놀라움에 입을 다물지 못했다. 마법사? 날씨를 조절할 수 있는 마법? 그런 일은 동화나 영화에서만 본 것 같은데...\\n\\n이영희는 김철수의 궁금한 눈빛을 보고 웃음을 터뜨렸다. \"괜찮아요, 저는 당신에게 그런 마법을 가르쳐줄 수 있어요. 함께 도시를 눈으로 뒤덮어버리는 환상적인 눈보라를 만들어볼까요?\"\\n\\n김철수는 마법에 대한 흥미로 가슴이 뛰었다. 그는 이영희와 함께 모험을 떠나기로 결심했다. 이들은 도시 한복판에서 마법을 사용하여 눈보라를 일으키기 시작했다.\\n\\n눈은 하늘에서 쏟아져 내리며 도시를\\n\\n환상적인 눈보라\\n\\n김철수와 이영희는 함께 도시를 눈으로 뒤덮어버리는 환상적인 눈보라를 만들어냈습니다. 이들의 마법은 도시 전체에 희망과 기쁨을 전달하며, 사람들은 눈보라 속에서 환호성을 지르며 즐거움을 느꼈습니다.\\n\\n김철수와 이영희는 눈보라를 만들기 위해 도시의 중심부로 이동했습니다. 그들은 마법의 힘으로 하늘을 어둡게 만들고, 눈이 내리도록 조절했습니다. 처음에는 작은 눈송이가 하늘에서 춤을 추며 내리기 시작했습니다. 그리고 점점 눈송이의 크기가 커지며, 도시는 흰 눈으로 뒤덮여갔습니다.\\n\\n사람들은 눈보라 속에서 놀라움과 아름다움을 느끼며, 김철수와 이영희의 마법에 감탄했습니다. 눈송이들은 다양한 모양과 크기로 변화하며, 거리는 환상적인 풍경으로 변모했습니다. 사람들은 눈송이들을 잡으며 즐거움을 느끼고, 눈으로 뒤덮인 도시에서의 산책이 새로운 경험이 되었습니다.\\n\\n김철수와 이영희는 눈보라의 효과를 보고 더 많은 사람들에게\\n\\n도시 아름답게 만들기\\n\\n김철수와 이영희는 도시를 더욱 아름답게 만들기 위해 여러 도전과 과제에 직면한다. 그들은 마법을 이용하여 도시의 공원을 화려하게 꾸미고, 건물들을 아름답게 변신시킨다. 사람들은 김철수와 이영희의 노력에 감동하며, 도시는 점차 변화해가고 있다.\\n\\n김철수와 이영희는 도시의 공원에 도착했다. 그들은 마법을 사용하여 공원을 화려하게 변신시키기 시작했다. 꽃들이 피어나고, 나무들은 더욱 푸르러워졌다. 이영희는 마법으로 작은 연못을 만들어 물고기들이 헤엄치게 하였다. 김철수는 마법으로 새들이 날아다니며 아름다운 노래를 부르도록 했다. 공원은 사람들에게 평화로움과 아름다움을 전달하며, 많은 사람들이 찾아와 휴식을 즐기고 있었다.\\n\\n이어서 김철수와 이영희는 도시의 건물들을 아름답게 변신시키기로 결심했다. 그들은 마법을 사용하여 건물들을 화려하게 장식하고, 색상을 바꾸어 독특한 분위기를 연출했다. 건물들은 밤에는 빛나'}"
            ]
          },
          "metadata": {},
          "execution_count": 57
        }
      ]
    },
    {
      "cell_type": "code",
      "source": [],
      "metadata": {
        "id": "XsK5Ra4eOxy1"
      },
      "execution_count": null,
      "outputs": []
    }
  ]
}