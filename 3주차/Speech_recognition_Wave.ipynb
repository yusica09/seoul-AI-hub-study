{
  "nbformat": 4,
  "nbformat_minor": 0,
  "metadata": {
    "kernelspec": {
      "name": "python3",
      "display_name": "Python 3"
    },
    "language_info": {
      "codemirror_mode": {
        "name": "ipython",
        "version": 3
      },
      "file_extension": ".py",
      "mimetype": "text/x-python",
      "name": "python",
      "nbconvert_exporter": "python",
      "pygments_lexer": "ipython3",
      "version": "3.7.3"
    },
    "colab": {
      "provenance": [],
      "gpuType": "T4",
      "include_colab_link": true
    },
    "accelerator": "GPU"
  },
  "cells": [
    {
      "cell_type": "markdown",
      "metadata": {
        "id": "view-in-github",
        "colab_type": "text"
      },
      "source": [
        "<a href=\"https://colab.research.google.com/github/yusica09/seoul-AI-hub-study/blob/main/3%EC%A3%BC%EC%B0%A8/Speech_recognition_Wave.ipynb\" target=\"_parent\"><img src=\"https://colab.research.google.com/assets/colab-badge.svg\" alt=\"Open In Colab\"/></a>"
      ]
    },
    {
      "cell_type": "markdown",
      "metadata": {
        "id": "s0hOgPd6phMx"
      },
      "source": [
        "# Simple speech recognition\n",
        "\n",
        "Audio 데이터를 다뤄서 학습하는 방법을 배워보도록 합시다.\n",
        "\n",
        "머신러닝 모델을 학습하는 방법은 아래와 같습니다.\n",
        "\n",
        "1. Examine and understand data\n",
        "2. Build an input pipeline\n",
        "3. Build the model\n",
        "4. Train the model\n",
        "5. Test the model\n",
        "6. Improve the model and repeat the process\n",
        "\n",
        "* 모델 완성 후 평가 지표에 따라서 모델을 평가해 봅시다."
      ]
    },
    {
      "cell_type": "markdown",
      "metadata": {
        "id": "r0M3jDOxBPCs"
      },
      "source": [
        "# Dataset\n",
        "* 구글 드라이브 링크를 이용해 Dataset을 다운받습니다.\n",
        "    * [데이터셋 드라이브 링크](https://drive.google.com/drive/folders/1Ssxqrh6fkvr-Rkv0JtCy6cDKjAnbhnTb?usp=sharing)\n",
        "\n",
        "```\n",
        "# 기본으로 설정되어있는 Dataset path\n",
        "DATASET_PATH = \"/content/drive/MyDrive/Datasets\"\n",
        "```"
      ]
    },
    {
      "cell_type": "markdown",
      "metadata": {
        "id": "ZglPODWg4J9S"
      },
      "source": [
        "## Project 설명\n",
        "### Task\n",
        "* 1초 길이의 오디오 음성데이터를 이용해 단어를 분류하는 것이 목표입니다.\n",
        "* 주어진 데이터를 이용해 딥러닝 트레이닝 과정을 구현해 보는것이 목표입니다.\n",
        "* This code is borrowed from [Kaggle/TensorFlow Speech Recognition Challenge](https://www.kaggle.com/c/tensorflow-speech-recognition-challenge).\n",
        "* This is version 0.01 of the data set containing 64,727 audio files, released on August 3rd 2017.\n",
        "\n",
        "### Baseline\n",
        "* ResNet 구조와 유사한 skip connection 구조를 구현해 보자.\n",
        "* 오버피팅을 방지하기 위한 다양한 방법들을 사용해보자.\n",
        "* Training\n",
        "    * tf.data.dataset과 model.fit()을 사용"
      ]
    },
    {
      "cell_type": "markdown",
      "metadata": {
        "id": "1I3lhvzF4rKF"
      },
      "source": [
        "### Import packages\n",
        "\n",
        "* 우리가 사용할 packages 를 import 하는 부분 입니다.\n",
        "* 필요에 따른 packages를 선언합니다."
      ]
    },
    {
      "cell_type": "code",
      "metadata": {
        "id": "GVi6R2-_phMz",
        "colab": {
          "base_uri": "https://localhost:8080/",
          "height": 35
        },
        "outputId": "acbd3604-d802-4428-e742-6c036ba986fe"
      },
      "source": [
        "import tensorflow as tf\n",
        "from tensorflow.keras import layers\n",
        "import numpy as np\n",
        "import pandas as pd\n",
        "from sklearn.model_selection import train_test_split\n",
        "\n",
        "import librosa\n",
        "import librosa.display\n",
        "import matplotlib.pyplot as plt\n",
        "\n",
        "import os\n",
        "from os.path import isdir, join\n",
        "\n",
        "import random\n",
        "import copy\n",
        "import sys\n",
        "\n",
        "tf.__version__"
      ],
      "execution_count": 1,
      "outputs": [
        {
          "output_type": "execute_result",
          "data": {
            "text/plain": [
              "'2.15.0'"
            ],
            "application/vnd.google.colaboratory.intrinsic+json": {
              "type": "string"
            }
          },
          "metadata": {},
          "execution_count": 1
        }
      ]
    },
    {
      "cell_type": "markdown",
      "metadata": {
        "id": "e8pXqNOekZf3"
      },
      "source": [
        "### Import modules\n",
        "\n",
        "* Colab 적용을 위한 변수 지정 및 드라이브 마운트"
      ]
    },
    {
      "cell_type": "code",
      "metadata": {
        "id": "wARwEZj9p18i"
      },
      "source": [
        "use_colab = True\n",
        "assert use_colab in [True, False]"
      ],
      "execution_count": 2,
      "outputs": []
    },
    {
      "cell_type": "code",
      "metadata": {
        "colab": {
          "base_uri": "https://localhost:8080/"
        },
        "id": "JnfSDhMQLMA_",
        "outputId": "7d7e972f-7fd0-441e-c0f3-7847a1efe854"
      },
      "source": [
        "from google.colab import drive\n",
        "drive.mount('/content/drive')"
      ],
      "execution_count": 3,
      "outputs": [
        {
          "output_type": "stream",
          "name": "stdout",
          "text": [
            "Drive already mounted at /content/drive; to attempt to forcibly remount, call drive.mount(\"/content/drive\", force_remount=True).\n"
          ]
        }
      ]
    },
    {
      "cell_type": "markdown",
      "metadata": {
        "id": "Etgn2vm3phM4"
      },
      "source": [
        "### Load dataset\n",
        "* 사용할 데이터셋을 살펴봅시다."
      ]
    },
    {
      "cell_type": "code",
      "metadata": {
        "id": "5u05iC7S2f8P"
      },
      "source": [
        "if use_colab:\n",
        "    DATASET_PATH = \"/content/drive/MyDrive/Colab Notebooks/dataset\"\n",
        "else:\n",
        "    DATASET_PATH = \"./datasets\"\n",
        "\n",
        "if not os.path.isdir(DATASET_PATH):\n",
        "    os.makedirs(DATASET_PATH)"
      ],
      "execution_count": 4,
      "outputs": []
    },
    {
      "cell_type": "code",
      "metadata": {
        "id": "wBxkj9UsphM5"
      },
      "source": [
        "speech_data = np.load(os.path.join(DATASET_PATH, \"speech_wav_8000.npz\"), allow_pickle=True) #npy, npz"
      ],
      "execution_count": 5,
      "outputs": []
    },
    {
      "cell_type": "markdown",
      "metadata": {
        "id": "naPxNijActj0"
      },
      "source": [
        "* npz 형태의 파일은 npy의 압축형태이며, files 이름 내에 데이터를 저장하고 불러올 수 있습니다.\n",
        "* files를 출력하면, 데이터가 어떤 key값으로 저장되어 있는지 확인할 수 있습니다!"
      ]
    },
    {
      "cell_type": "code",
      "metadata": {
        "id": "nUc0eQoXWFfI",
        "colab": {
          "base_uri": "https://localhost:8080/"
        },
        "outputId": "cef06f8e-04ec-4e10-9e23-a0556ef27d59"
      },
      "source": [
        "print(speech_data.files)"
      ],
      "execution_count": 6,
      "outputs": [
        {
          "output_type": "stream",
          "name": "stdout",
          "text": [
            "['wav_vals', 'label_vals']\n"
          ]
        }
      ]
    },
    {
      "cell_type": "markdown",
      "metadata": {
        "id": "vufn8u33cz6n"
      },
      "source": [
        "* 각 데이터가 어떤 형태로 저장되어 있는지 확인해봅시다."
      ]
    },
    {
      "cell_type": "code",
      "metadata": {
        "id": "07X7jASNU2k9",
        "colab": {
          "base_uri": "https://localhost:8080/"
        },
        "outputId": "2217478b-fa2e-4253-ffa4-b11facf36bfa"
      },
      "source": [
        "print(speech_data[\"wav_vals\"].shape, speech_data[\"label_vals\"].shape)"
      ],
      "execution_count": 7,
      "outputs": [
        {
          "output_type": "stream",
          "name": "stdout",
          "text": [
            "(50620, 8000) (50620, 1)\n"
          ]
        }
      ]
    },
    {
      "cell_type": "markdown",
      "metadata": {
        "id": "rV3CZQzidlr_"
      },
      "source": [
        "* 숫자로 이뤄진 데이터가 진짜 오디오 데이터가 맞는지 확인해봅시다."
      ]
    },
    {
      "cell_type": "code",
      "metadata": {
        "id": "XkLu-SwkYUPW"
      },
      "source": [
        "idx = 219 # 총 50,620개의 오디오 파일이 존재\n",
        "test_audio = speech_data[\"wav_vals\"][idx]\n",
        "test_labels = speech_data[\"label_vals\"][idx]"
      ],
      "execution_count": 8,
      "outputs": []
    },
    {
      "cell_type": "code",
      "metadata": {
        "id": "wKceRI7UXmfv",
        "colab": {
          "base_uri": "https://localhost:8080/",
          "height": 516
        },
        "outputId": "edf7e569-fa6b-45b4-b961-298733e95e42"
      },
      "source": [
        "import IPython.display as ipd\n",
        "\n",
        "sr = 8000 # 1초동안 재생되는 샘플의 갯수\n",
        "data = test_audio\n",
        "print(data[2990:3000])\n",
        "plt.plot(data)\n",
        "\n",
        "print(test_labels)\n",
        "ipd.Audio(data, rate=sr)"
      ],
      "execution_count": 9,
      "outputs": [
        {
          "output_type": "stream",
          "name": "stdout",
          "text": [
            "[ 0.01598107  0.02830634  0.06397557  0.05982646  0.09255246  0.09424292\n",
            "  0.01119381 -0.0220092  -0.07077095 -0.11261097]\n",
            "['down']\n"
          ]
        },
        {
          "output_type": "execute_result",
          "data": {
            "text/plain": [
              "<IPython.lib.display.Audio object>"
            ],
            "text/html": [
              "\n",
              "                <audio  controls=\"controls\" >\n",
              "                    <source src=\"data:audio/wav;base64,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\" type=\"audio/wav\" />\n",
              "                    Your browser does not support the audio element.\n",
              "                </audio>\n",
              "              "
            ]
          },
          "metadata": {},
          "execution_count": 9
        },
        {
          "output_type": "display_data",
          "data": {
            "text/plain": [
              "<Figure size 640x480 with 1 Axes>"
            ],
            "image/png": "[encoded data removed]"
          },
          "metadata": {}
        }
      ]
    },
    {
      "cell_type": "markdown",
      "source": [
        "* Conv2D(6,3) => N = 6, 3x3 size (=9)\n",
        "* Conv1D(6,3) => N = 6, 3 size\n",
        "\n",
        "* 위의 Conv1D(6,3)을 Conv2D(6,3)과 파라미터를 맞춰주고 싶다면,\n",
        "  Conv1D(6,9)로 써야한다."
      ],
      "metadata": {
        "id": "RkRXAbv_BG9T"
      }
    },
    {
      "cell_type": "markdown",
      "metadata": {
        "id": "QWAbi_w0phM9"
      },
      "source": [
        "### Model dataset setting\n",
        "* 변환된 데이터를 이용해서 학습에 활용할 데이터셋을 설정\n",
        "* 전체 데이터셋을 train_test_split 함수를 이용해서 train set, test set으로 나눠보자\n",
        "    * [train_test_split function](https://scikit-learn.org/stable/modules/generated/sklearn.model_selection.train_test_split.html)\n",
        "    \n",
        "```\n",
        "sklearn.model_selection.train_test_split(train, label,\n",
        "                                         test_size=None,\n",
        "                                         shuffle=True)\n",
        "```"
      ]
    },
    {
      "cell_type": "code",
      "metadata": {
        "id": "Kl5pQr-WphM-",
        "colab": {
          "base_uri": "https://localhost:8080/"
        },
        "outputId": "9f3b3b96-1d0f-4401-c691-397293adebe7"
      },
      "source": [
        "sr = 8000\n",
        "train_wav, test_wav, train_label, test_label = train_test_split(speech_data[\"wav_vals\"],\n",
        "                                                                speech_data[\"label_vals\"],\n",
        "                                                                test_size=0.1,\n",
        "                                                                shuffle=True)\n",
        "\n",
        "# for convolution layers\n",
        "train_wav = train_wav.reshape([-1, sr, 1])\n",
        "test_wav = test_wav.reshape([-1, sr, 1])\n",
        "\n",
        "print(train_wav.shape)\n",
        "print(test_wav.shape)\n",
        "print(train_label.shape)\n",
        "print(test_label.shape)"
      ],
      "execution_count": 10,
      "outputs": [
        {
          "output_type": "stream",
          "name": "stdout",
          "text": [
            "(45558, 8000, 1)\n",
            "(5062, 8000, 1)\n",
            "(45558, 1)\n",
            "(5062, 1)\n"
          ]
        }
      ]
    },
    {
      "cell_type": "markdown",
      "metadata": {
        "id": "Vsob1V4QY_1-"
      },
      "source": [
        "### Label 데이터를 구분해보자"
      ]
    },
    {
      "cell_type": "code",
      "metadata": {
        "id": "3Zu_XcYLZE_7",
        "colab": {
          "base_uri": "https://localhost:8080/"
        },
        "outputId": "2e114546-966f-4ed0-ff55-b99cb32c69da"
      },
      "source": [
        "set(speech_data[\"label_vals\"].flatten()) # 중복제거, 고유문자"
      ],
      "execution_count": 11,
      "outputs": [
        {
          "output_type": "execute_result",
          "data": {
            "text/plain": [
              "{'down',\n",
              " 'go',\n",
              " 'left',\n",
              " 'no',\n",
              " 'off',\n",
              " 'on',\n",
              " 'right',\n",
              " 'silence',\n",
              " 'stop',\n",
              " 'unknown',\n",
              " 'up',\n",
              " 'yes'}"
            ]
          },
          "metadata": {},
          "execution_count": 11
        }
      ]
    },
    {
      "cell_type": "code",
      "metadata": {
        "id": "W8BVZj5zfWLq"
      },
      "source": [
        "# del raw dataset for memory\n",
        "del speech_data"
      ],
      "execution_count": 12,
      "outputs": []
    },
    {
      "cell_type": "markdown",
      "metadata": {
        "id": "yQbpXmA5e9_I"
      },
      "source": [
        "* 총 12개의 클래스르 분류하는 작업이된다.\n",
        "* unknown과 silence에는 target list 이외의 단어가 들어간다. (혹은 노이즈)"
      ]
    },
    {
      "cell_type": "markdown",
      "source": [
        "* 사전화 작업 (enumerate)"
      ],
      "metadata": {
        "id": "tTjzSjjVCLUo"
      }
    },
    {
      "cell_type": "code",
      "metadata": {
        "id": "jVsnK_FaphNC"
      },
      "source": [
        "#target_list\n",
        "label_value = ['yes', 'no', 'up', 'down', 'left', 'right', 'on', 'off', 'stop', 'go', 'unknown', 'silence']\n",
        "\n",
        "new_label_value = dict()\n",
        "for i, l in enumerate(label_value):\n",
        "    new_label_value[l] = i\n",
        "label_value = new_label_value"
      ],
      "execution_count": 13,
      "outputs": []
    },
    {
      "cell_type": "code",
      "metadata": {
        "id": "pkgG0BNsCKpJ",
        "colab": {
          "base_uri": "https://localhost:8080/"
        },
        "outputId": "6a67ec61-e044-4cb1-8604-efd1c21ea6f2"
      },
      "source": [
        "label_value # 고유문자 사전"
      ],
      "execution_count": 14,
      "outputs": [
        {
          "output_type": "execute_result",
          "data": {
            "text/plain": [
              "{'yes': 0,\n",
              " 'no': 1,\n",
              " 'up': 2,\n",
              " 'down': 3,\n",
              " 'left': 4,\n",
              " 'right': 5,\n",
              " 'on': 6,\n",
              " 'off': 7,\n",
              " 'stop': 8,\n",
              " 'go': 9,\n",
              " 'unknown': 10,\n",
              " 'silence': 11}"
            ]
          },
          "metadata": {},
          "execution_count": 14
        }
      ]
    },
    {
      "cell_type": "markdown",
      "source": [
        "* ex) label_value['down'] = 3"
      ],
      "metadata": {
        "id": "6AjJAA32CnZO"
      }
    },
    {
      "cell_type": "markdown",
      "metadata": {
        "id": "Y3bOhkcnfGyj"
      },
      "source": [
        "* Text 형태로 이뤄진 label 데이터를 학습에 사용하기 위해서 idx로 변환해 줍니다.\n",
        "* 메모리를 절약하기 위해 이미 사용중인 변수를 변환\n",
        "    * text 형태의 데이터를 int 형으로 변환\n",
        "    * 한번 변환 후에는 text 형태가 아니기때문에 오류가 발생!\n"
      ]
    },
    {
      "cell_type": "code",
      "metadata": {
        "id": "L0aAi4F_phNF"
      },
      "source": [
        "temp = []\n",
        "for v in train_label:\n",
        "    temp.append(label_value[v[0]]) # [\"down\"] => \"down\"\n",
        "train_label = np.array(temp)\n",
        "\n",
        "temp = []\n",
        "for v in test_label:\n",
        "    temp.append(label_value[v[0]])\n",
        "test_label = np.array(temp)\n",
        "\n",
        "del temp"
      ],
      "execution_count": 15,
      "outputs": []
    },
    {
      "cell_type": "code",
      "metadata": {
        "id": "57Pwj0sLphNI",
        "colab": {
          "base_uri": "https://localhost:8080/"
        },
        "outputId": "80cefa75-c38d-4d32-fa2e-818f88f3c30d"
      },
      "source": [
        "print('Train_Wav Demension : ' + str(np.shape(train_wav)))\n",
        "print('Train_Label Demension : ' + str(np.shape(train_label)))\n",
        "print('Test_Wav Demension : ' + str(np.shape(test_wav)))\n",
        "print('Test_Label Demension : ' + str(np.shape(test_label)))\n",
        "print('Number Of Labels : ' + str(len(label_value)))"
      ],
      "execution_count": 16,
      "outputs": [
        {
          "output_type": "stream",
          "name": "stdout",
          "text": [
            "Train_Wav Demension : (45558, 8000, 1)\n",
            "Train_Label Demension : (45558,)\n",
            "Test_Wav Demension : (5062, 8000, 1)\n",
            "Test_Label Demension : (5062,)\n",
            "Number Of Labels : 12\n"
          ]
        }
      ]
    },
    {
      "cell_type": "code",
      "metadata": {
        "id": "SBxzc8JbJdf1",
        "colab": {
          "base_uri": "https://localhost:8080/"
        },
        "outputId": "1b2b8792-f406-4745-a078-eee25c0a8db7"
      },
      "source": [
        "train_label[0:10]"
      ],
      "execution_count": 17,
      "outputs": [
        {
          "output_type": "execute_result",
          "data": {
            "text/plain": [
              "array([9, 2, 0, 4, 8, 0, 8, 0, 1, 6])"
            ]
          },
          "metadata": {},
          "execution_count": 17
        }
      ]
    },
    {
      "cell_type": "markdown",
      "metadata": {
        "id": "n0xoCzJi1D-A"
      },
      "source": [
        "### Checkpoint setting\n",
        "* 학습 전반에서 사용할 checkpoint dir을 설정한다."
      ]
    },
    {
      "cell_type": "code",
      "metadata": {
        "id": "Qbn4AG0F1EG8"
      },
      "source": [
        "# the save point\n",
        "if use_colab:\n",
        "    checkpoint_dir ='./drive/MyDrive/train_ckpt/wave/exp1'\n",
        "    if not os.path.isdir(checkpoint_dir):\n",
        "        os.makedirs(checkpoint_dir)\n",
        "else:\n",
        "    checkpoint_dir = 'wave/exp1'"
      ],
      "execution_count": 18,
      "outputs": []
    },
    {
      "cell_type": "markdown",
      "metadata": {
        "id": "DDB47399bPKf"
      },
      "source": [
        "### Dataset 구성\n",
        "* index로 구분된 label을 학습에 사용하기 위해선 두가지 방법이 있습니다.\n",
        "    * Sparse loss function 사용\n",
        "    * One hot vector로 변환\n",
        "* One hot vector를 이용한 방법을 실습해보겠습니다.\n",
        "* classes 구성을 위한 tf.one_hot\n",
        "    * [tf.one_hot function](https://www.tensorflow.org/api_docs/python/tf/one_hot)\n",
        "\n",
        "```\n",
        "tf.one_hot(\n",
        "    indices, depth,\n",
        "    on_value=None,\n",
        "    off_value=None,\n",
        "    axis=None,\n",
        "    dtype=None,\n",
        "    name=None\n",
        ")\n",
        "```"
      ]
    },
    {
      "cell_type": "code",
      "metadata": {
        "id": "zA4D6kmyphNM"
      },
      "source": [
        "def one_hot_label(wav, label):\n",
        "    label = tf.one_hot(label, depth=12)\n",
        "    return wav, label\n",
        "\n",
        "# [0, 1, 2]\n",
        "\n",
        "# 0 => [1, 0, 0]\n",
        "# 1 => [0, 1, 0]\n",
        "# 2 => [0, 0, 1]"
      ],
      "execution_count": 19,
      "outputs": []
    },
    {
      "cell_type": "code",
      "metadata": {
        "id": "50FegMTNphNQ",
        "colab": {
          "base_uri": "https://localhost:8080/"
        },
        "outputId": "edba72de-659d-4e84-ce4b-ea81ea64f485"
      },
      "source": [
        "batch_size = 256\n",
        "\n",
        "# for train\n",
        "train_dataset = tf.data.Dataset.from_tensor_slices((train_wav, train_label))\n",
        "train_dataset = train_dataset.map(one_hot_label)\n",
        "train_dataset = train_dataset.shuffle(10000).repeat().batch(batch_size)\n",
        "print(train_dataset)\n",
        "\n",
        "# for test\n",
        "test_dataset = tf.data.Dataset.from_tensor_slices((test_wav, test_label))\n",
        "test_dataset = test_dataset.map(one_hot_label)\n",
        "test_dataset = test_dataset.batch(batch_size)\n",
        "print(test_dataset)"
      ],
      "execution_count": 20,
      "outputs": [
        {
          "output_type": "stream",
          "name": "stdout",
          "text": [
            "<_BatchDataset element_spec=(TensorSpec(shape=(None, 8000, 1), dtype=tf.float32, name=None), TensorSpec(shape=(None, 12), dtype=tf.float32, name=None))>\n",
            "<_BatchDataset element_spec=(TensorSpec(shape=(None, 8000, 1), dtype=tf.float32, name=None), TensorSpec(shape=(None, 12), dtype=tf.float32, name=None))>\n"
          ]
        }
      ]
    },
    {
      "cell_type": "code",
      "metadata": {
        "id": "FzlHGFtqJvQJ",
        "colab": {
          "base_uri": "https://localhost:8080/"
        },
        "outputId": "9fa20163-cc27-45d9-f880-007f7bff2272"
      },
      "source": [
        "for t, l in train_dataset.take(1):\n",
        "    print(l)"
      ],
      "execution_count": 21,
      "outputs": [
        {
          "output_type": "stream",
          "name": "stdout",
          "text": [
            "tf.Tensor(\n",
            "[[0. 0. 0. ... 0. 0. 0.]\n",
            " [0. 0. 0. ... 0. 0. 0.]\n",
            " [0. 0. 0. ... 0. 1. 0.]\n",
            " ...\n",
            " [0. 0. 0. ... 1. 0. 0.]\n",
            " [0. 0. 0. ... 1. 0. 0.]\n",
            " [0. 0. 0. ... 0. 0. 0.]], shape=(256, 12), dtype=float32)\n"
          ]
        }
      ]
    },
    {
      "cell_type": "markdown",
      "metadata": {
        "id": "4HAo9tTuRttY"
      },
      "source": [
        "### Dataset 구성 검증\n",
        "```\n",
        "<BatchDataset shapes: ((None, 8000, 1), (None, 12)), types: (tf.float32, tf.float32)>\n",
        "<BatchDataset shapes: ((None, 8000, 1), (None, 12)), types: (tf.float32, tf.float32)>\n",
        "```"
      ]
    },
    {
      "cell_type": "markdown",
      "metadata": {
        "id": "HVlQ7tGRkZwc"
      },
      "source": [
        "### Model 구현\n",
        "* Wave 파일 데이터를 이용해 학습을 할 수 있는 모델을 구현합니다.\n",
        "    * inputs = [batch_size, 8000, 1]\n",
        "    * conv1 = [batch_size, 4000, 16]\n",
        "    * conv2 = [batch_size, 2000, 32]\n",
        "    * conv3 = [batch_size, 1000, 64]\n",
        "    * desne = [batch_size, 64]\n",
        "    * output = [batch_size, 12]\n"
      ]
    },
    {
      "cell_type": "markdown",
      "source": [
        "#### 채널 개수\n",
        "* Audio : 모노 1 / 스테레오 2\n",
        "* IMG : 흑백 1 / RGB 3"
      ],
      "metadata": {
        "id": "QTk3Y5vU6EDy"
      }
    },
    {
      "cell_type": "code",
      "source": [
        "input_tensor = layers.Input(shape=(sr, 1,))\n",
        "x = layers.Conv1D(16, 9, padding='same', activation='relu')(input_tensor)\n",
        "skip_1 = layers.Conv1D(16, 9, strides=2, padding='same', activation='relu')(x)\n",
        "\n",
        "x = layers.Conv1D(32, 9, padding='same', activation='relu')(skip_1)\n",
        "x = tf.concat([x, skip_1], axis=-1)\n",
        "skip_2 = layers.Conv1D(32, 9, strides=2, padding='same', activation='relu')(x)\n",
        "\n",
        "x = layers.Conv1D(64, 9, padding='same', activation='relu')(skip_2)\n",
        "x = layers.Conv1D(64, 9, padding='same', activation='relu')(x)\n",
        "x = tf.concat([x, skip_2], -1)\n",
        "skip_3 = layers.Conv1D(64, 9, strides=2, padding='same', activation='relu')(x)\n",
        "\n",
        "x = layers.Conv1D(128, 9, padding='same', activation='relu')(skip_3)\n",
        "x = layers.Conv1D(128, 9, padding='same', activation='relu')(x)\n",
        "x = tf.concat([x, skip_3], -1)\n",
        "x = layers.Conv1D(128, 9, strides=2, padding='same', activation='relu')(x)\n",
        "x = layers.Dropout(0.3)(x)\n",
        "\n",
        "x = layers.Flatten()(x)\n",
        "x = layers.Dense(64)(x)\n",
        "x = layers.BatchNormalization()(x)\n",
        "x = layers.Activation('relu')(x)\n",
        "\n",
        "output_tensor = layers.Dense(12)(x)\n",
        "\n",
        "model = tf.keras.Model(input_tensor, output_tensor)"
      ],
      "metadata": {
        "id": "qICvNzEMm3Qd"
      },
      "execution_count": 22,
      "outputs": []
    },
    {
      "cell_type": "code",
      "metadata": {
        "id": "igiurfQXphNY"
      },
      "source": [
        "# layers.Dense(12, activation='softmax') -> tf.keras.losses.CategoricalCrossentropy(from_logits=False)\n",
        "# layers.Dense(12) -> tf.keras.losses.CategoricalCrossentropy(from_logits=True)\n",
        "optimizer=tf.keras.optimizers.Adam(1e-4)\n",
        "model.compile(loss=tf.keras.losses.CategoricalCrossentropy(from_logits=True), # Ture or False\n",
        "             optimizer=optimizer,# 1e-3\n",
        "             metrics=['accuracy'])"
      ],
      "execution_count": 23,
      "outputs": []
    },
    {
      "cell_type": "code",
      "metadata": {
        "id": "4_DpuDp3phNb",
        "colab": {
          "base_uri": "https://localhost:8080/"
        },
        "outputId": "5a789f49-1202-4bad-8e26-c2d015b3a9bd"
      },
      "source": [
        "# without training, just inference a model\n",
        "predictions = model(train_wav[0:1], training=False)\n",
        "print(\"Predictions: \", predictions.numpy())"
      ],
      "execution_count": 24,
      "outputs": [
        {
          "output_type": "stream",
          "name": "stdout",
          "text": [
            "Predictions:  [[-0.00046316 -0.00068264 -0.0019125   0.00222419  0.00209888 -0.00244935\n",
            "  -0.00223028 -0.00313574 -0.00366557 -0.0015869   0.00326525  0.00166351]]\n"
          ]
        }
      ]
    },
    {
      "cell_type": "code",
      "metadata": {
        "id": "3PhoJx8wphNe",
        "colab": {
          "base_uri": "https://localhost:8080/"
        },
        "outputId": "b9c62cbe-5814-4c13-bcbf-3905ebe30969"
      },
      "source": [
        "model.summary()"
      ],
      "execution_count": 25,
      "outputs": [
        {
          "output_type": "stream",
          "name": "stdout",
          "text": [
            "Model: \"model\"\n",
            "__________________________________________________________________________________________________\n",
            " Layer (type)                Output Shape                 Param #   Connected to                  \n",
            "==================================================================================================\n",
            " input_1 (InputLayer)        [(None, 8000, 1)]            0         []                            \n",
            "                                                                                                  \n",
            " conv1d (Conv1D)             (None, 8000, 16)             160       ['input_1[0][0]']             \n",
            "                                                                                                  \n",
            " conv1d_1 (Conv1D)           (None, 4000, 16)             2320      ['conv1d[0][0]']              \n",
            "                                                                                                  \n",
            " conv1d_2 (Conv1D)           (None, 4000, 32)             4640      ['conv1d_1[0][0]']            \n",
            "                                                                                                  \n",
            " tf.concat (TFOpLambda)      (None, 4000, 48)             0         ['conv1d_2[0][0]',            \n",
            "                                                                     'conv1d_1[0][0]']            \n",
            "                                                                                                  \n",
            " conv1d_3 (Conv1D)           (None, 2000, 32)             13856     ['tf.concat[0][0]']           \n",
            "                                                                                                  \n",
            " conv1d_4 (Conv1D)           (None, 2000, 64)             18496     ['conv1d_3[0][0]']            \n",
            "                                                                                                  \n",
            " conv1d_5 (Conv1D)           (None, 2000, 64)             36928     ['conv1d_4[0][0]']            \n",
            "                                                                                                  \n",
            " tf.concat_1 (TFOpLambda)    (None, 2000, 96)             0         ['conv1d_5[0][0]',            \n",
            "                                                                     'conv1d_3[0][0]']            \n",
            "                                                                                                  \n",
            " conv1d_6 (Conv1D)           (None, 1000, 64)             55360     ['tf.concat_1[0][0]']         \n",
            "                                                                                                  \n",
            " conv1d_7 (Conv1D)           (None, 1000, 128)            73856     ['conv1d_6[0][0]']            \n",
            "                                                                                                  \n",
            " conv1d_8 (Conv1D)           (None, 1000, 128)            147584    ['conv1d_7[0][0]']            \n",
            "                                                                                                  \n",
            " tf.concat_2 (TFOpLambda)    (None, 1000, 192)            0         ['conv1d_8[0][0]',            \n",
            "                                                                     'conv1d_6[0][0]']            \n",
            "                                                                                                  \n",
            " conv1d_9 (Conv1D)           (None, 500, 128)             221312    ['tf.concat_2[0][0]']         \n",
            "                                                                                                  \n",
            " dropout (Dropout)           (None, 500, 128)             0         ['conv1d_9[0][0]']            \n",
            "                                                                                                  \n",
            " flatten (Flatten)           (None, 64000)                0         ['dropout[0][0]']             \n",
            "                                                                                                  \n",
            " dense (Dense)               (None, 64)                   4096064   ['flatten[0][0]']             \n",
            "                                                                                                  \n",
            " batch_normalization (Batch  (None, 64)                   256       ['dense[0][0]']               \n",
            " Normalization)                                                                                   \n",
            "                                                                                                  \n",
            " activation (Activation)     (None, 64)                   0         ['batch_normalization[0][0]'] \n",
            "                                                                                                  \n",
            " dense_1 (Dense)             (None, 12)                   780       ['activation[0][0]']          \n",
            "                                                                                                  \n",
            "==================================================================================================\n",
            "Total params: 4671612 (17.82 MB)\n",
            "Trainable params: 4671484 (17.82 MB)\n",
            "Non-trainable params: 128 (512.00 Byte)\n",
            "__________________________________________________________________________________________________\n"
          ]
        }
      ]
    },
    {
      "cell_type": "code",
      "source": [
        "tf.keras.utils.plot_model(model, show_shapes=True, dpi=64)"
      ],
      "metadata": {
        "colab": {
          "base_uri": "https://localhost:8080/",
          "height": 1000
        },
        "id": "cOCD3LGI-Rpn",
        "outputId": "8f441d12-efdb-42a9-e7d5-7c9290021fc2"
      },
      "execution_count": 26,
      "outputs": [
        {
          "output_type": "execute_result",
          "data": {
            "image/png": "[encoded data removed]",
            "text/plain": [
              "<IPython.core.display.Image object>"
            ]
          },
          "metadata": {},
          "execution_count": 26
        }
      ]
    },
    {
      "cell_type": "markdown",
      "metadata": {
        "id": "wMMneOo2bIvz"
      },
      "source": [
        "### Model training\n",
        "* 모델 체크포인트로 저장공간을 확인 후 학습을 진행합니다."
      ]
    },
    {
      "cell_type": "code",
      "metadata": {
        "id": "5V_3I0W11MrR"
      },
      "source": [
        "max_epochs = 10\n",
        "cp_callback = tf.keras.callbacks.ModelCheckpoint(checkpoint_dir,\n",
        "                                                 save_weights_only=True,\n",
        "                                                 monitor='val_loss',\n",
        "                                                 mode='auto',\n",
        "                                                 save_best_only=True,\n",
        "                                                 verbose=1)\n",
        "\n",
        "#early_stopping_cb = tf.keras.callbacks.EarlyStopping(patience=10,\n",
        "                                                    #  monitor='val_loss',\n",
        "                                                    #  restore_best_weights=True,\n",
        "                                                    #  verbose=1)"
      ],
      "execution_count": 27,
      "outputs": []
    },
    {
      "cell_type": "markdown",
      "metadata": {
        "id": "QpAcLbWqOAfE"
      },
      "source": [
        "* Learning rate를 조절하는 callback 함수도 있습니다.\n",
        "* Cos 그래프 형태로 Learning rate를 줄여주는 함수를 확인해봅시다.\n",
        "\n",
        "```python\n",
        "tf.keras.optimizers.schedules.CosineDecay(\n",
        "    initial_learning_rate, decay_steps, alpha=0.0, name=None\n",
        ")\n",
        "```\n",
        "* 코사인 디케이 함수가 어떻게 동작하는지 확인해봅시다.\n",
        "```python\n",
        "def decayed_learning_rate(step):\n",
        "  step = min(step, decay_steps)\n",
        "  cosine_decay = 0.5 * (1 + cos(pi * step / decay_steps))\n",
        "  decayed = (1 - alpha) * cosine_decay + alpha\n",
        "  return initial_learning_rate * decayed\n",
        "```\n",
        "\n",
        "```python\n",
        "decay_steps = 100\n",
        "lr_decayed_fn = tf.keras.optimizers.schedules.CosineDecay(\n",
        "    initial_learning_rate, decay_steps)\n",
        "```"
      ]
    },
    {
      "cell_type": "markdown",
      "source": [
        "* cos_decay : learning rate를 cos 모양으로 줄여주는 역할"
      ],
      "metadata": {
        "id": "YphRopw-Diu7"
      }
    },
    {
      "cell_type": "code",
      "metadata": {
        "id": "7058BHIoNvsW"
      },
      "source": [
        "cos_decay = tf.keras.experimental.CosineDecay(1e-4, # 초기 learning rate\n",
        "                                               max_epochs * 1.5)#decay_steps # 에폭기준으로 언제 0이 될건지\n",
        "lr_callback = tf.keras.callbacks.LearningRateScheduler(cos_decay, verbose=1)"
      ],
      "execution_count": 28,
      "outputs": []
    },
    {
      "cell_type": "code",
      "metadata": {
        "id": "KygmTczhphNg",
        "colab": {
          "base_uri": "https://localhost:8080/"
        },
        "outputId": "5fbba70c-533c-4ffa-b234-5b8ca64b2176"
      },
      "source": [
        "# using `tf.data.Dataset`, model.fit_generator\n",
        "history = model.fit(train_dataset,# dataset,\n",
        "                    steps_per_epoch=len(train_wav) // batch_size,\n",
        "                    epochs=max_epochs,\n",
        "                    validation_data=test_dataset,\n",
        "                    validation_steps=len(train_wav) // batch_size,\n",
        "                    callbacks=[lr_callback,cp_callback])\n",
        "\n",
        "# fit(\n",
        "#     x=None, y=None, batch_size=None, epochs=1, verbose='auto',\n",
        "#     callbacks=None, validation_split=0.0, validation_data=None, shuffle=True,\n",
        "#     class_weight=None, sample_weight=None, initial_epoch=0, steps_per_epoch=None,\n",
        "#     validation_steps=None, validation_batch_size=None, validation_freq=1,\n",
        "#     max_queue_size=10, workers=1, use_multiprocessing=False\n",
        "# )\n",
        "\n",
        "# fit_generator(\n",
        "#     generator, steps_per_epoch=None, epochs=1, verbose=1, callbacks=None,\n",
        "#     validation_data=None, validation_steps=None, validation_freq=1,\n",
        "#     class_weight=None, max_queue_size=10, workers=1, use_multiprocessing=False,\n",
        "#     shuffle=True, initial_epoch=0\n",
        "# )"
      ],
      "execution_count": 29,
      "outputs": [
        {
          "output_type": "stream",
          "name": "stdout",
          "text": [
            "\n",
            "Epoch 1: LearningRateScheduler setting learning rate to 9.999999747378752e-05.\n",
            "Epoch 1/10\n",
            "177/177 [==============================] - ETA: 0s - loss: 2.0150 - accuracy: 0.3074"
          ]
        },
        {
          "output_type": "stream",
          "name": "stderr",
          "text": [
            "WARNING:tensorflow:Your input ran out of data; interrupting training. Make sure that your dataset or generator can generate at least `steps_per_epoch * epochs` batches (in this case, 177 batches). You may need to use the repeat() function when building your dataset.\n"
          ]
        },
        {
          "output_type": "stream",
          "name": "stdout",
          "text": [
            "\n",
            "Epoch 1: val_loss improved from inf to 2.24237, saving model to ./drive/MyDrive/train_ckpt/wave/exp1\n",
            "177/177 [==============================] - 103s 490ms/step - loss: 2.0150 - accuracy: 0.3074 - val_loss: 2.2424 - val_accuracy: 0.3919 - lr: 1.0000e-04\n",
            "\n",
            "Epoch 2: LearningRateScheduler setting learning rate to 9.890738147078082e-05.\n",
            "Epoch 2/10\n",
            "177/177 [==============================] - ETA: 0s - loss: 1.5068 - accuracy: 0.5295"
          ]
        },
        {
          "output_type": "stream",
          "name": "stderr",
          "text": [
            "WARNING:tensorflow:Can save best model only with val_loss available, skipping.\n"
          ]
        },
        {
          "output_type": "stream",
          "name": "stdout",
          "text": [
            "\b\b\b\b\b\b\b\b\b\b\b\b\b\b\b\b\b\b\b\b\b\b\b\b\b\b\b\b\b\b\b\b\b\b\b\b\b\b\b\b\b\b\b\b\b\b\b\b\b\b\b\b\b\b\b\b\b\b\b\b\b\b\b\b\b\b\b\b\b\b\b\b\b\b\b\b\b\b\b\b\b\b\b\b\r177/177 [==============================] - 76s 427ms/step - loss: 1.5068 - accuracy: 0.5295 - lr: 9.8907e-05\n",
            "\n",
            "Epoch 3: LearningRateScheduler setting learning rate to 9.567726374370977e-05.\n",
            "Epoch 3/10\n",
            "177/177 [==============================] - ETA: 0s - loss: 1.2365 - accuracy: 0.6454"
          ]
        },
        {
          "output_type": "stream",
          "name": "stderr",
          "text": [
            "WARNING:tensorflow:Can save best model only with val_loss available, skipping.\n"
          ]
        },
        {
          "output_type": "stream",
          "name": "stdout",
          "text": [
            "\b\b\b\b\b\b\b\b\b\b\b\b\b\b\b\b\b\b\b\b\b\b\b\b\b\b\b\b\b\b\b\b\b\b\b\b\b\b\b\b\b\b\b\b\b\b\b\b\b\b\b\b\b\b\b\b\b\b\b\b\b\b\b\b\b\b\b\b\b\b\b\b\b\b\b\b\b\b\b\b\b\b\b\b\r177/177 [==============================] - 75s 426ms/step - loss: 1.2365 - accuracy: 0.6454 - lr: 9.5677e-05\n",
            "\n",
            "Epoch 4: LearningRateScheduler setting learning rate to 9.045084152603522e-05.\n",
            "Epoch 4/10\n",
            "177/177 [==============================] - ETA: 0s - loss: 1.0494 - accuracy: 0.7186"
          ]
        },
        {
          "output_type": "stream",
          "name": "stderr",
          "text": [
            "WARNING:tensorflow:Can save best model only with val_loss available, skipping.\n"
          ]
        },
        {
          "output_type": "stream",
          "name": "stdout",
          "text": [
            "\b\b\b\b\b\b\b\b\b\b\b\b\b\b\b\b\b\b\b\b\b\b\b\b\b\b\b\b\b\b\b\b\b\b\b\b\b\b\b\b\b\b\b\b\b\b\b\b\b\b\b\b\b\b\b\b\b\b\b\b\b\b\b\b\b\b\b\b\b\b\b\b\b\b\b\b\b\b\b\b\b\b\b\b\r177/177 [==============================] - 75s 426ms/step - loss: 1.0494 - accuracy: 0.7186 - lr: 9.0451e-05\n",
            "\n",
            "Epoch 5: LearningRateScheduler setting learning rate to 8.345652895513922e-05.\n",
            "Epoch 5/10\n",
            "177/177 [==============================] - ETA: 0s - loss: 0.8805 - accuracy: 0.7771"
          ]
        },
        {
          "output_type": "stream",
          "name": "stderr",
          "text": [
            "WARNING:tensorflow:Can save best model only with val_loss available, skipping.\n"
          ]
        },
        {
          "output_type": "stream",
          "name": "stdout",
          "text": [
            "\b\b\b\b\b\b\b\b\b\b\b\b\b\b\b\b\b\b\b\b\b\b\b\b\b\b\b\b\b\b\b\b\b\b\b\b\b\b\b\b\b\b\b\b\b\b\b\b\b\b\b\b\b\b\b\b\b\b\b\b\b\b\b\b\b\b\b\b\b\b\b\b\b\b\b\b\b\b\b\b\b\b\b\b\r177/177 [==============================] - 75s 427ms/step - loss: 0.8805 - accuracy: 0.7771 - lr: 8.3457e-05\n",
            "\n",
            "Epoch 6: LearningRateScheduler setting learning rate to 7.499999628635123e-05.\n",
            "Epoch 6/10\n",
            "177/177 [==============================] - ETA: 0s - loss: 0.7281 - accuracy: 0.8264"
          ]
        },
        {
          "output_type": "stream",
          "name": "stderr",
          "text": [
            "WARNING:tensorflow:Can save best model only with val_loss available, skipping.\n"
          ]
        },
        {
          "output_type": "stream",
          "name": "stdout",
          "text": [
            "\b\b\b\b\b\b\b\b\b\b\b\b\b\b\b\b\b\b\b\b\b\b\b\b\b\b\b\b\b\b\b\b\b\b\b\b\b\b\b\b\b\b\b\b\b\b\b\b\b\b\b\b\b\b\b\b\b\b\b\b\b\b\b\b\b\b\b\b\b\b\b\b\b\b\b\b\b\b\b\b\b\b\b\b\r177/177 [==============================] - 75s 425ms/step - loss: 0.7281 - accuracy: 0.8264 - lr: 7.5000e-05\n",
            "\n",
            "Epoch 7: LearningRateScheduler setting learning rate to 6.545084761455655e-05.\n",
            "Epoch 7/10\n",
            "177/177 [==============================] - ETA: 0s - loss: 0.6159 - accuracy: 0.8607"
          ]
        },
        {
          "output_type": "stream",
          "name": "stderr",
          "text": [
            "WARNING:tensorflow:Can save best model only with val_loss available, skipping.\n"
          ]
        },
        {
          "output_type": "stream",
          "name": "stdout",
          "text": [
            "\b\b\b\b\b\b\b\b\b\b\b\b\b\b\b\b\b\b\b\b\b\b\b\b\b\b\b\b\b\b\b\b\b\b\b\b\b\b\b\b\b\b\b\b\b\b\b\b\b\b\b\b\b\b\b\b\b\b\b\b\b\b\b\b\b\b\b\b\b\b\b\b\b\b\b\b\b\b\b\b\b\b\b\b\r177/177 [==============================] - 76s 427ms/step - loss: 0.6159 - accuracy: 0.8607 - lr: 6.5451e-05\n",
            "\n",
            "Epoch 8: LearningRateScheduler setting learning rate to 5.522642095456831e-05.\n",
            "Epoch 8/10\n",
            "177/177 [==============================] - ETA: 0s - loss: 0.5260 - accuracy: 0.8859"
          ]
        },
        {
          "output_type": "stream",
          "name": "stderr",
          "text": [
            "WARNING:tensorflow:Can save best model only with val_loss available, skipping.\n"
          ]
        },
        {
          "output_type": "stream",
          "name": "stdout",
          "text": [
            "\b\b\b\b\b\b\b\b\b\b\b\b\b\b\b\b\b\b\b\b\b\b\b\b\b\b\b\b\b\b\b\b\b\b\b\b\b\b\b\b\b\b\b\b\b\b\b\b\b\b\b\b\b\b\b\b\b\b\b\b\b\b\b\b\b\b\b\b\b\b\b\b\b\b\b\b\b\b\b\b\b\b\b\b\r177/177 [==============================] - 76s 427ms/step - loss: 0.5260 - accuracy: 0.8859 - lr: 5.5226e-05\n",
            "\n",
            "Epoch 9: LearningRateScheduler setting learning rate to 4.477356924326159e-05.\n",
            "Epoch 9/10\n",
            "177/177 [==============================] - ETA: 0s - loss: 0.4585 - accuracy: 0.9057"
          ]
        },
        {
          "output_type": "stream",
          "name": "stderr",
          "text": [
            "WARNING:tensorflow:Can save best model only with val_loss available, skipping.\n"
          ]
        },
        {
          "output_type": "stream",
          "name": "stdout",
          "text": [
            "\b\b\b\b\b\b\b\b\b\b\b\b\b\b\b\b\b\b\b\b\b\b\b\b\b\b\b\b\b\b\b\b\b\b\b\b\b\b\b\b\b\b\b\b\b\b\b\b\b\b\b\b\b\b\b\b\b\b\b\b\b\b\b\b\b\b\b\b\b\b\b\b\b\b\b\b\b\b\b\b\b\b\b\b\r177/177 [==============================] - 76s 427ms/step - loss: 0.4585 - accuracy: 0.9057 - lr: 4.4774e-05\n",
            "\n",
            "Epoch 10: LearningRateScheduler setting learning rate to 3.4549138945294544e-05.\n",
            "Epoch 10/10\n",
            "177/177 [==============================] - ETA: 0s - loss: 0.4125 - accuracy: 0.9204"
          ]
        },
        {
          "output_type": "stream",
          "name": "stderr",
          "text": [
            "WARNING:tensorflow:Can save best model only with val_loss available, skipping.\n"
          ]
        },
        {
          "output_type": "stream",
          "name": "stdout",
          "text": [
            "\b\b\b\b\b\b\b\b\b\b\b\b\b\b\b\b\b\b\b\b\b\b\b\b\b\b\b\b\b\b\b\b\b\b\b\b\b\b\b\b\b\b\b\b\b\b\b\b\b\b\b\b\b\b\b\b\b\b\b\b\b\b\b\b\b\b\b\b\b\b\b\b\b\b\b\b\b\b\b\b\b\b\b\b\r177/177 [==============================] - 76s 427ms/step - loss: 0.4125 - accuracy: 0.9204 - lr: 3.4549e-05\n"
          ]
        }
      ]
    },
    {
      "cell_type": "markdown",
      "metadata": {
        "id": "44ZAf1ldaCkz"
      },
      "source": [
        "### 학습 결과 확인\n",
        "* model fit의 return 값인 history에서 학습에 대한 결과를 확인해보자"
      ]
    },
    {
      "cell_type": "code",
      "metadata": {
        "id": "NaLXC0aKphNj",
        "colab": {
          "base_uri": "https://localhost:8080/",
          "height": 1000
        },
        "outputId": "f35c6c0a-9bb9-4e76-9188-cd9515e48363"
      },
      "source": [
        "acc = history.history['accuracy']\n",
        "val_acc = history.history['val_accuracy']\n",
        "\n",
        "loss=history.history['loss']\n",
        "val_loss=history.history['val_loss']\n",
        "\n",
        "epochs_range = range(len(acc))\n",
        "\n",
        "plt.figure(figsize=(8, 8))\n",
        "plt.subplot(1, 2, 1)\n",
        "plt.plot(epochs_range, acc, label='Training Accuracy')\n",
        "plt.plot(epochs_range, val_acc, label='Validation Accuracy')\n",
        "plt.legend(loc='lower right')\n",
        "plt.title('Training and Validation Accuracy')\n",
        "\n",
        "plt.subplot(1, 2, 2)\n",
        "plt.plot(epochs_range, loss, label='Training Loss')\n",
        "plt.plot(epochs_range, val_loss, label='Validation Loss')\n",
        "plt.legend(loc='upper right')\n",
        "plt.title('Training and Validation Loss')\n",
        "plt.show()"
      ],
      "execution_count": 32,
      "outputs": [
        {
          "output_type": "error",
          "ename": "ValueError",
          "evalue": "ignored",
          "traceback": [
            "\u001b[0;31m---------------------------------------------------------------------------\u001b[0m",
            "\u001b[0;31mValueError\u001b[0m                                Traceback (most recent call last)",
            "\u001b[0;32m<ipython-input-32-d1bc2b0b62f2>\u001b[0m in \u001b[0;36m<cell line: 12>\u001b[0;34m()\u001b[0m\n\u001b[1;32m     10\u001b[0m \u001b[0mplt\u001b[0m\u001b[0;34m.\u001b[0m\u001b[0msubplot\u001b[0m\u001b[0;34m(\u001b[0m\u001b[0;36m1\u001b[0m\u001b[0;34m,\u001b[0m \u001b[0;36m2\u001b[0m\u001b[0;34m,\u001b[0m \u001b[0;36m1\u001b[0m\u001b[0;34m)\u001b[0m\u001b[0;34m\u001b[0m\u001b[0;34m\u001b[0m\u001b[0m\n\u001b[1;32m     11\u001b[0m \u001b[0mplt\u001b[0m\u001b[0;34m.\u001b[0m\u001b[0mplot\u001b[0m\u001b[0;34m(\u001b[0m\u001b[0mepochs_range\u001b[0m\u001b[0;34m,\u001b[0m \u001b[0macc\u001b[0m\u001b[0;34m,\u001b[0m \u001b[0mlabel\u001b[0m\u001b[0;34m=\u001b[0m\u001b[0;34m'Training Accuracy'\u001b[0m\u001b[0;34m)\u001b[0m\u001b[0;34m\u001b[0m\u001b[0;34m\u001b[0m\u001b[0m\n\u001b[0;32m---> 12\u001b[0;31m \u001b[0mplt\u001b[0m\u001b[0;34m.\u001b[0m\u001b[0mplot\u001b[0m\u001b[0;34m(\u001b[0m\u001b[0mepochs_range\u001b[0m\u001b[0;34m,\u001b[0m \u001b[0mval_acc\u001b[0m\u001b[0;34m,\u001b[0m \u001b[0mlabel\u001b[0m\u001b[0;34m=\u001b[0m\u001b[0;34m'Validation Accuracy'\u001b[0m\u001b[0;34m)\u001b[0m\u001b[0;34m\u001b[0m\u001b[0;34m\u001b[0m\u001b[0m\n\u001b[0m\u001b[1;32m     13\u001b[0m \u001b[0mplt\u001b[0m\u001b[0;34m.\u001b[0m\u001b[0mlegend\u001b[0m\u001b[0;34m(\u001b[0m\u001b[0mloc\u001b[0m\u001b[0;34m=\u001b[0m\u001b[0;34m'lower right'\u001b[0m\u001b[0;34m)\u001b[0m\u001b[0;34m\u001b[0m\u001b[0;34m\u001b[0m\u001b[0m\n\u001b[1;32m     14\u001b[0m \u001b[0mplt\u001b[0m\u001b[0;34m.\u001b[0m\u001b[0mtitle\u001b[0m\u001b[0;34m(\u001b[0m\u001b[0;34m'Training and Validation Accuracy'\u001b[0m\u001b[0;34m)\u001b[0m\u001b[0;34m\u001b[0m\u001b[0;34m\u001b[0m\u001b[0m\n",
            "\u001b[0;32m/usr/local/lib/python3.10/dist-packages/matplotlib/pyplot.py\u001b[0m in \u001b[0;36mplot\u001b[0;34m(scalex, scaley, data, *args, **kwargs)\u001b[0m\n\u001b[1;32m   2810\u001b[0m \u001b[0;34m@\u001b[0m\u001b[0m_copy_docstring_and_deprecators\u001b[0m\u001b[0;34m(\u001b[0m\u001b[0mAxes\u001b[0m\u001b[0;34m.\u001b[0m\u001b[0mplot\u001b[0m\u001b[0;34m)\u001b[0m\u001b[0;34m\u001b[0m\u001b[0;34m\u001b[0m\u001b[0m\n\u001b[1;32m   2811\u001b[0m \u001b[0;32mdef\u001b[0m \u001b[0mplot\u001b[0m\u001b[0;34m(\u001b[0m\u001b[0;34m*\u001b[0m\u001b[0margs\u001b[0m\u001b[0;34m,\u001b[0m \u001b[0mscalex\u001b[0m\u001b[0;34m=\u001b[0m\u001b[0;32mTrue\u001b[0m\u001b[0;34m,\u001b[0m \u001b[0mscaley\u001b[0m\u001b[0;34m=\u001b[0m\u001b[0;32mTrue\u001b[0m\u001b[0;34m,\u001b[0m \u001b[0mdata\u001b[0m\u001b[0;34m=\u001b[0m\u001b[0;32mNone\u001b[0m\u001b[0;34m,\u001b[0m \u001b[0;34m**\u001b[0m\u001b[0mkwargs\u001b[0m\u001b[0;34m)\u001b[0m\u001b[0;34m:\u001b[0m\u001b[0;34m\u001b[0m\u001b[0;34m\u001b[0m\u001b[0m\n\u001b[0;32m-> 2812\u001b[0;31m     return gca().plot(\n\u001b[0m\u001b[1;32m   2813\u001b[0m         \u001b[0;34m*\u001b[0m\u001b[0margs\u001b[0m\u001b[0;34m,\u001b[0m \u001b[0mscalex\u001b[0m\u001b[0;34m=\u001b[0m\u001b[0mscalex\u001b[0m\u001b[0;34m,\u001b[0m \u001b[0mscaley\u001b[0m\u001b[0;34m=\u001b[0m\u001b[0mscaley\u001b[0m\u001b[0;34m,\u001b[0m\u001b[0;34m\u001b[0m\u001b[0;34m\u001b[0m\u001b[0m\n\u001b[1;32m   2814\u001b[0m         **({\"data\": data} if data is not None else {}), **kwargs)\n",
            "\u001b[0;32m/usr/local/lib/python3.10/dist-packages/matplotlib/axes/_axes.py\u001b[0m in \u001b[0;36mplot\u001b[0;34m(self, scalex, scaley, data, *args, **kwargs)\u001b[0m\n\u001b[1;32m   1686\u001b[0m         \"\"\"\n\u001b[1;32m   1687\u001b[0m         \u001b[0mkwargs\u001b[0m \u001b[0;34m=\u001b[0m \u001b[0mcbook\u001b[0m\u001b[0;34m.\u001b[0m\u001b[0mnormalize_kwargs\u001b[0m\u001b[0;34m(\u001b[0m\u001b[0mkwargs\u001b[0m\u001b[0;34m,\u001b[0m \u001b[0mmlines\u001b[0m\u001b[0;34m.\u001b[0m\u001b[0mLine2D\u001b[0m\u001b[0;34m)\u001b[0m\u001b[0;34m\u001b[0m\u001b[0;34m\u001b[0m\u001b[0m\n\u001b[0;32m-> 1688\u001b[0;31m         \u001b[0mlines\u001b[0m \u001b[0;34m=\u001b[0m \u001b[0;34m[\u001b[0m\u001b[0;34m*\u001b[0m\u001b[0mself\u001b[0m\u001b[0;34m.\u001b[0m\u001b[0m_get_lines\u001b[0m\u001b[0;34m(\u001b[0m\u001b[0;34m*\u001b[0m\u001b[0margs\u001b[0m\u001b[0;34m,\u001b[0m \u001b[0mdata\u001b[0m\u001b[0;34m=\u001b[0m\u001b[0mdata\u001b[0m\u001b[0;34m,\u001b[0m \u001b[0;34m**\u001b[0m\u001b[0mkwargs\u001b[0m\u001b[0;34m)\u001b[0m\u001b[0;34m]\u001b[0m\u001b[0;34m\u001b[0m\u001b[0;34m\u001b[0m\u001b[0m\n\u001b[0m\u001b[1;32m   1689\u001b[0m         \u001b[0;32mfor\u001b[0m \u001b[0mline\u001b[0m \u001b[0;32min\u001b[0m \u001b[0mlines\u001b[0m\u001b[0;34m:\u001b[0m\u001b[0;34m\u001b[0m\u001b[0;34m\u001b[0m\u001b[0m\n\u001b[1;32m   1690\u001b[0m             \u001b[0mself\u001b[0m\u001b[0;34m.\u001b[0m\u001b[0madd_line\u001b[0m\u001b[0;34m(\u001b[0m\u001b[0mline\u001b[0m\u001b[0;34m)\u001b[0m\u001b[0;34m\u001b[0m\u001b[0;34m\u001b[0m\u001b[0m\n",
            "\u001b[0;32m/usr/local/lib/python3.10/dist-packages/matplotlib/axes/_base.py\u001b[0m in \u001b[0;36m__call__\u001b[0;34m(self, data, *args, **kwargs)\u001b[0m\n\u001b[1;32m    309\u001b[0m                 \u001b[0mthis\u001b[0m \u001b[0;34m+=\u001b[0m \u001b[0margs\u001b[0m\u001b[0;34m[\u001b[0m\u001b[0;36m0\u001b[0m\u001b[0;34m]\u001b[0m\u001b[0;34m,\u001b[0m\u001b[0;34m\u001b[0m\u001b[0;34m\u001b[0m\u001b[0m\n\u001b[1;32m    310\u001b[0m                 \u001b[0margs\u001b[0m \u001b[0;34m=\u001b[0m \u001b[0margs\u001b[0m\u001b[0;34m[\u001b[0m\u001b[0;36m1\u001b[0m\u001b[0;34m:\u001b[0m\u001b[0;34m]\u001b[0m\u001b[0;34m\u001b[0m\u001b[0;34m\u001b[0m\u001b[0m\n\u001b[0;32m--> 311\u001b[0;31m             yield from self._plot_args(\n\u001b[0m\u001b[1;32m    312\u001b[0m                 this, kwargs, ambiguous_fmt_datakey=ambiguous_fmt_datakey)\n\u001b[1;32m    313\u001b[0m \u001b[0;34m\u001b[0m\u001b[0m\n",
            "\u001b[0;32m/usr/local/lib/python3.10/dist-packages/matplotlib/axes/_base.py\u001b[0m in \u001b[0;36m_plot_args\u001b[0;34m(self, tup, kwargs, return_kwargs, ambiguous_fmt_datakey)\u001b[0m\n\u001b[1;32m    502\u001b[0m \u001b[0;34m\u001b[0m\u001b[0m\n\u001b[1;32m    503\u001b[0m         \u001b[0;32mif\u001b[0m \u001b[0mx\u001b[0m\u001b[0;34m.\u001b[0m\u001b[0mshape\u001b[0m\u001b[0;34m[\u001b[0m\u001b[0;36m0\u001b[0m\u001b[0;34m]\u001b[0m \u001b[0;34m!=\u001b[0m \u001b[0my\u001b[0m\u001b[0;34m.\u001b[0m\u001b[0mshape\u001b[0m\u001b[0;34m[\u001b[0m\u001b[0;36m0\u001b[0m\u001b[0;34m]\u001b[0m\u001b[0;34m:\u001b[0m\u001b[0;34m\u001b[0m\u001b[0;34m\u001b[0m\u001b[0m\n\u001b[0;32m--> 504\u001b[0;31m             raise ValueError(f\"x and y must have same first dimension, but \"\n\u001b[0m\u001b[1;32m    505\u001b[0m                              f\"have shapes {x.shape} and {y.shape}\")\n\u001b[1;32m    506\u001b[0m         \u001b[0;32mif\u001b[0m \u001b[0mx\u001b[0m\u001b[0;34m.\u001b[0m\u001b[0mndim\u001b[0m \u001b[0;34m>\u001b[0m \u001b[0;36m2\u001b[0m \u001b[0;32mor\u001b[0m \u001b[0my\u001b[0m\u001b[0;34m.\u001b[0m\u001b[0mndim\u001b[0m \u001b[0;34m>\u001b[0m \u001b[0;36m2\u001b[0m\u001b[0;34m:\u001b[0m\u001b[0;34m\u001b[0m\u001b[0;34m\u001b[0m\u001b[0m\n",
            "\u001b[0;31mValueError\u001b[0m: x and y must have same first dimension, but have shapes (10,) and (1,)"
          ]
        },
        {
          "output_type": "display_data",
          "data": {
            "text/plain": [
              "<Figure size 800x800 with 1 Axes>"
            ],
            "image/png": "[encoded data removed]"
          },
          "metadata": {}
        }
      ]
    },
    {
      "cell_type": "markdown",
      "metadata": {
        "id": "mGn-bvDej1Wz"
      },
      "source": [
        "## Evaluation\n",
        "* Test dataset을 이용해서 모델의 성능을 평가합니다."
      ]
    },
    {
      "cell_type": "code",
      "metadata": {
        "id": "jclBKezE1YKr"
      },
      "source": [
        "model.load_weights(checkpoint_dir)"
      ],
      "execution_count": null,
      "outputs": []
    },
    {
      "cell_type": "code",
      "metadata": {
        "id": "6VonCCKaphNm"
      },
      "source": [
        "results = model.evaluate(test_dataset)"
      ],
      "execution_count": null,
      "outputs": []
    },
    {
      "cell_type": "markdown",
      "metadata": {
        "id": "Pz6DBBuPbEhM"
      },
      "source": [
        "### 스코어 결과\n",
        "* 위의 스코어는 분류모델에 적용되는 스코어입니다.\n",
        "* 모델의 크기 (MB) 와 정확도를 이용해 스코어를 출력합니다."
      ]
    },
    {
      "cell_type": "code",
      "metadata": {
        "id": "fJ6TU2s36-To"
      },
      "source": [
        "def final_score():\n",
        "    print(\"Model params num : \" + str(model.count_params()))\n",
        "    print(\"Accuracy : \" + str(results[1]))\n",
        "\n",
        "    s = (model.count_params() * 32) / (1024 ** 2)\n",
        "    score = 50 * (results[1] + min((1/s), 1))\n",
        "\n",
        "    print(\"score : \" + str(score))"
      ],
      "execution_count": null,
      "outputs": []
    },
    {
      "cell_type": "code",
      "metadata": {
        "id": "35_0lz1KaBgc"
      },
      "source": [
        "final_score()"
      ],
      "execution_count": null,
      "outputs": []
    },
    {
      "cell_type": "code",
      "metadata": {
        "id": "Hem0e88_x2yr"
      },
      "source": [],
      "execution_count": null,
      "outputs": []
    }
  ]
}