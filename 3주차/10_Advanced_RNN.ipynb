{
  "nbformat": 4,
  "nbformat_minor": 0,
  "metadata": {
    "kernelspec": {
      "display_name": "Python 3",
      "language": "python",
      "name": "python3"
    },
    "language_info": {
      "codemirror_mode": {
        "name": "ipython",
        "version": 3
      },
      "file_extension": ".py",
      "mimetype": "text/x-python",
      "name": "python",
      "nbconvert_exporter": "python",
      "pygments_lexer": "ipython3",
      "version": "3.6.8"
    },
    "latex_envs": {
      "LaTeX_envs_menu_present": true,
      "autoclose": false,
      "autocomplete": true,
      "bibliofile": "biblio.bib",
      "cite_by": "apalike",
      "current_citInitial": 1,
      "eqLabelWithNumbers": true,
      "eqNumInitial": 1,
      "hotkeys": {
        "equation": "Ctrl-E",
        "itemize": "Ctrl-I"
      },
      "labels_anchors": false,
      "latex_user_defs": false,
      "report_style_numbering": false,
      "user_envs_cfg": false
    },
    "toc": {
      "base_numbering": 1,
      "nav_menu": {},
      "number_sections": true,
      "sideBar": true,
      "skip_h1_title": false,
      "title_cell": "Table of Contents",
      "title_sidebar": "Contents",
      "toc_cell": false,
      "toc_position": {},
      "toc_section_display": true,
      "toc_window_display": false
    },
    "varInspector": {
      "cols": {
        "lenName": 16,
        "lenType": 16,
        "lenVar": 40
      },
      "kernels_config": {
        "python": {
          "delete_cmd_postfix": "",
          "delete_cmd_prefix": "del ",
          "library": "var_list.py",
          "varRefreshCmd": "print(var_dic_list())"
        },
        "r": {
          "delete_cmd_postfix": ") ",
          "delete_cmd_prefix": "rm(",
          "library": "var_list.r",
          "varRefreshCmd": "cat(var_dic_list()) "
        }
      },
      "types_to_exclude": [
        "module",
        "function",
        "builtin_function_or_method",
        "instance",
        "_Feature"
      ],
      "window_display": false
    },
    "colab": {
      "provenance": [],
      "include_colab_link": true
    }
  },
  "cells": [
    {
      "cell_type": "markdown",
      "metadata": {
        "id": "view-in-github",
        "colab_type": "text"
      },
      "source": [
        "<a href=\"https://colab.research.google.com/github/yusica09/seoul-AI-hub-study/blob/main/3%EC%A3%BC%EC%B0%A8/10_Advanced_RNN.ipynb\" target=\"_parent\"><img src=\"https://colab.research.google.com/assets/colab-badge.svg\" alt=\"Open In Colab\"/></a>"
      ]
    },
    {
      "cell_type": "code",
      "metadata": {
        "id": "483OID-fQ4L_",
        "colab": {
          "base_uri": "https://localhost:8080/",
          "height": 35
        },
        "outputId": "8a83f06f-9dd1-4ebc-f3a7-855067300dd8"
      },
      "source": [
        "import tensorflow as tf\n",
        "tf.__version__"
      ],
      "execution_count": 1,
      "outputs": [
        {
          "output_type": "execute_result",
          "data": {
            "text/plain": [
              "'2.15.0'"
            ],
            "application/vnd.google.colaboratory.intrinsic+json": {
              "type": "string"
            }
          },
          "metadata": {},
          "execution_count": 1
        }
      ]
    },
    {
      "cell_type": "code",
      "metadata": {
        "id": "EocX6KoYQ4MC"
      },
      "source": [
        "layers = tf.keras.layers"
      ],
      "execution_count": 2,
      "outputs": []
    },
    {
      "cell_type": "markdown",
      "metadata": {
        "id": "1JCc3ptnRIq-"
      },
      "source": [
        "### RNN 테스트를 위한 더미데이터 생성"
      ]
    },
    {
      "cell_type": "code",
      "metadata": {
        "id": "vNZYM3KhQ4MF"
      },
      "source": [
        "inputs = tf.random.normal([2, 5, 4])"
      ],
      "execution_count": 3,
      "outputs": []
    },
    {
      "cell_type": "code",
      "metadata": {
        "id": "ACxPndJdf6KE",
        "colab": {
          "base_uri": "https://localhost:8080/"
        },
        "outputId": "498c24fe-4223-474a-8185-eb2a1afe3a39"
      },
      "source": [
        "inputs"
      ],
      "execution_count": 4,
      "outputs": [
        {
          "output_type": "execute_result",
          "data": {
            "text/plain": [
              "<tf.Tensor: shape=(2, 5, 4), dtype=float32, numpy=\n",
              "array([[[-0.24538273, -0.01497399, -0.17145683,  1.3977969 ],\n",
              "        [-1.5405202 , -1.3604292 , -0.11382049, -0.04012011],\n",
              "        [-0.3070257 , -1.2349538 ,  2.2304971 ,  0.8341074 ],\n",
              "        [-0.08772027,  0.49865624,  0.28437397,  0.46033856],\n",
              "        [ 0.42408118, -0.8600902 ,  1.236416  ,  0.8156111 ]],\n",
              "\n",
              "       [[-0.18999712, -1.3815571 , -0.33136007, -0.1632942 ],\n",
              "        [-1.0750673 , -2.5784533 , -0.71872115, -0.51347554],\n",
              "        [ 0.06528535, -0.11180785,  0.84131956,  1.0187334 ],\n",
              "        [ 0.6015381 , -1.0673988 , -0.6291547 , -0.9794008 ],\n",
              "        [ 1.0323014 , -0.4284913 , -1.3416685 ,  0.68226373]]],\n",
              "      dtype=float32)>"
            ]
          },
          "metadata": {},
          "execution_count": 4
        }
      ]
    },
    {
      "cell_type": "markdown",
      "metadata": {
        "id": "Dl0VO8jGRQJa"
      },
      "source": [
        "* tf.keras를 이용한 다양한 RNN layer를 구현해보자"
      ]
    },
    {
      "cell_type": "markdown",
      "metadata": {
        "id": "SiFrSekfQ4MH"
      },
      "source": [
        "## Multi-Layer RNN"
      ]
    },
    {
      "cell_type": "markdown",
      "metadata": {
        "id": "-QV1A5odQ4MI"
      },
      "source": [
        "![multilayer_rnn](https://user-images.githubusercontent.com/11681225/46912330-5fe5fd00-cfad-11e8-95c2-94bb8e7b1bf6.png)"
      ]
    },
    {
      "cell_type": "code",
      "metadata": {
        "id": "Qt7c6N-fQ4MI"
      },
      "source": [
        "model = tf.keras.Sequential()"
      ],
      "execution_count": 5,
      "outputs": []
    },
    {
      "cell_type": "code",
      "metadata": {
        "id": "TEPMfzKNQ4MM"
      },
      "source": [
        "model.add(layers.SimpleRNN(1, return_sequences=True))\n",
        "model.add(layers.SimpleRNN(1, return_sequences=False)) # 2, 1을 입력값을 받을 수 없다."
      ],
      "execution_count": 6,
      "outputs": []
    },
    {
      "cell_type": "code",
      "metadata": {
        "id": "s75ckQVzQ4MP",
        "colab": {
          "base_uri": "https://localhost:8080/"
        },
        "outputId": "d6426d31-7fa0-4b93-f951-404532e60be6"
      },
      "source": [
        "model(inputs)"
      ],
      "execution_count": 7,
      "outputs": [
        {
          "output_type": "execute_result",
          "data": {
            "text/plain": [
              "<tf.Tensor: shape=(2, 1), dtype=float32, numpy=\n",
              "array([[-0.9871455],\n",
              "       [-0.9694009]], dtype=float32)>"
            ]
          },
          "metadata": {},
          "execution_count": 7
        }
      ]
    },
    {
      "cell_type": "code",
      "metadata": {
        "id": "X7GKW0grje69",
        "colab": {
          "base_uri": "https://localhost:8080/"
        },
        "outputId": "72840094-2a29-40c9-9125-1f456a2c9292"
      },
      "source": [
        "model.summary()"
      ],
      "execution_count": 8,
      "outputs": [
        {
          "output_type": "stream",
          "name": "stdout",
          "text": [
            "Model: \"sequential\"\n",
            "_________________________________________________________________\n",
            " Layer (type)                Output Shape              Param #   \n",
            "=================================================================\n",
            " simple_rnn (SimpleRNN)      (2, 5, 1)                 6         \n",
            "                                                                 \n",
            " simple_rnn_1 (SimpleRNN)    (2, 1)                    3         \n",
            "                                                                 \n",
            "=================================================================\n",
            "Total params: 9 (36.00 Byte)\n",
            "Trainable params: 9 (36.00 Byte)\n",
            "Non-trainable params: 0 (0.00 Byte)\n",
            "_________________________________________________________________\n"
          ]
        }
      ]
    },
    {
      "cell_type": "markdown",
      "metadata": {
        "id": "iLko8dm6Q4MR"
      },
      "source": [
        "## Bi-directional RNN"
      ]
    },
    {
      "cell_type": "markdown",
      "metadata": {
        "id": "PolaGks5Q4MS"
      },
      "source": [
        "![bidirectional_rnn](https://user-images.githubusercontent.com/11681225/46912324-3d53e400-cfad-11e8-8b09-85d8ebdb0e66.png)"
      ]
    },
    {
      "cell_type": "code",
      "metadata": {
        "id": "MMHF7xQuQ4MU"
      },
      "source": [
        "model = tf.keras.Sequential()"
      ],
      "execution_count": 9,
      "outputs": []
    },
    {
      "cell_type": "code",
      "metadata": {
        "id": "MmBK-71qQ4MY"
      },
      "source": [
        "model.add(layers.Bidirectional(layers.LSTM(1, return_sequences=True)))\n",
        "model.add(layers.Bidirectional(layers.LSTM(1, return_sequences=True)))\n",
        "model.add(layers.Bidirectional(layers.LSTM(1)))"
      ],
      "execution_count": 10,
      "outputs": []
    },
    {
      "cell_type": "code",
      "metadata": {
        "id": "JfrRNRfbQ4Md",
        "colab": {
          "base_uri": "https://localhost:8080/"
        },
        "outputId": "c77eec6f-add3-4e67-c38c-01220b391102"
      },
      "source": [
        "model(inputs)"
      ],
      "execution_count": 11,
      "outputs": [
        {
          "output_type": "execute_result",
          "data": {
            "text/plain": [
              "<tf.Tensor: shape=(2, 2), dtype=float32, numpy=\n",
              "array([[-0.06866948,  0.0715776 ],\n",
              "       [-0.14023781,  0.09994718]], dtype=float32)>"
            ]
          },
          "metadata": {},
          "execution_count": 11
        }
      ]
    },
    {
      "cell_type": "code",
      "metadata": {
        "id": "3dwRdBhlQ4Mi",
        "colab": {
          "base_uri": "https://localhost:8080/"
        },
        "outputId": "441100ed-6a1c-4c69-c0a6-d7b1a5378e22"
      },
      "source": [
        "model.summary()"
      ],
      "execution_count": 12,
      "outputs": [
        {
          "output_type": "stream",
          "name": "stdout",
          "text": [
            "Model: \"sequential_1\"\n",
            "_________________________________________________________________\n",
            " Layer (type)                Output Shape              Param #   \n",
            "=================================================================\n",
            " bidirectional (Bidirection  (2, 5, 2)                 48        \n",
            " al)                                                             \n",
            "                                                                 \n",
            " bidirectional_1 (Bidirecti  (2, 5, 2)                 32        \n",
            " onal)                                                           \n",
            "                                                                 \n",
            " bidirectional_2 (Bidirecti  (2, 2)                    32        \n",
            " onal)                                                           \n",
            "                                                                 \n",
            "=================================================================\n",
            "Total params: 112 (448.00 Byte)\n",
            "Trainable params: 112 (448.00 Byte)\n",
            "Non-trainable params: 0 (0.00 Byte)\n",
            "_________________________________________________________________\n"
          ]
        }
      ]
    },
    {
      "cell_type": "code",
      "metadata": {
        "id": "SRHWH3TcQ4Ml"
      },
      "source": [],
      "execution_count": 12,
      "outputs": []
    },
    {
      "cell_type": "code",
      "metadata": {
        "id": "2QfMg_eCQ4Mo"
      },
      "source": [],
      "execution_count": 12,
      "outputs": []
    }
  ]
}