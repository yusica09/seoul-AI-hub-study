{
  "nbformat": 4,
  "nbformat_minor": 0,
  "metadata": {
    "colab": {
      "provenance": [],
      "include_colab_link": true
    },
    "kernelspec": {
      "display_name": "Python 3",
      "language": "python",
      "name": "python3"
    },
    "language_info": {
      "codemirror_mode": {
        "name": "ipython",
        "version": 3
      },
      "file_extension": ".py",
      "mimetype": "text/x-python",
      "name": "python",
      "nbconvert_exporter": "python",
      "pygments_lexer": "ipython3",
      "version": "3.6.8"
    },
    "accelerator": "GPU"
  },
  "cells": [
    {
      "cell_type": "markdown",
      "metadata": {
        "id": "view-in-github",
        "colab_type": "text"
      },
      "source": [
        "<a href=\"https://colab.research.google.com/github/yusica09/seoul-AI-hub-study/blob/main/2%EC%A3%BC%EC%B0%A8/Q5_fashion_MNIST_keras.ipynb\" target=\"_parent\"><img src=\"https://colab.research.google.com/assets/colab-badge.svg\" alt=\"Open In Colab\"/></a>"
      ]
    },
    {
      "cell_type": "code",
      "metadata": {
        "id": "TCKHChmFfyVL",
        "colab": {
          "base_uri": "https://localhost:8080/",
          "height": 35
        },
        "outputId": "3947df03-4bc0-4346-a3f9-6b5507d870d6"
      },
      "source": [
        "import tensorflow as tf\n",
        "from tensorflow.keras import layers\n",
        "from tensorflow.keras import callbacks\n",
        "\n",
        "from sklearn.model_selection import train_test_split\n",
        "\n",
        "import numpy as np\n",
        "import matplotlib.pyplot as plt\n",
        "\n",
        "tf.__version__"
      ],
      "execution_count": 39,
      "outputs": [
        {
          "output_type": "execute_result",
          "data": {
            "text/plain": [
              "'2.15.0'"
            ],
            "application/vnd.google.colaboratory.intrinsic+json": {
              "type": "string"
            }
          },
          "metadata": {},
          "execution_count": 39
        }
      ]
    },
    {
      "cell_type": "markdown",
      "metadata": {
        "id": "o2GvLGzZhicw"
      },
      "source": [
        "### 데이터 로드\n",
        "* TF에서 제공하는 데이터셋을 load해 간단한 전처리 진행"
      ]
    },
    {
      "cell_type": "code",
      "metadata": {
        "id": "Vem5Yu6nkT3b"
      },
      "source": [
        "# Load training and eval data from tf.keras\n",
        "(train_data, train_labels), (test_data, test_labels) = \\\n",
        "    tf.keras.datasets.fashion_mnist.load_data()"
      ],
      "execution_count": 40,
      "outputs": []
    },
    {
      "cell_type": "code",
      "metadata": {
        "id": "sWu2zE_SkVSG",
        "colab": {
          "base_uri": "https://localhost:8080/"
        },
        "outputId": "ab3327d6-1c22-473c-9d90-7b2d9b36ad7e"
      },
      "source": [
        "print(train_data.shape, train_labels.shape)"
      ],
      "execution_count": 41,
      "outputs": [
        {
          "output_type": "stream",
          "name": "stdout",
          "text": [
            "(60000, 28, 28) (60000,)\n"
          ]
        }
      ]
    },
    {
      "cell_type": "code",
      "metadata": {
        "id": "mpHEO3i3kutr"
      },
      "source": [
        "train_data, valid_data, train_labels, valid_labels = \\\n",
        "    train_test_split(train_data, train_labels, test_size=0.1, shuffle=True)"
      ],
      "execution_count": 42,
      "outputs": []
    },
    {
      "cell_type": "code",
      "metadata": {
        "id": "9xlXz7RHkvvc",
        "colab": {
          "base_uri": "https://localhost:8080/"
        },
        "outputId": "e9ffd9c4-e996-415a-9766-2390ecd7abb4"
      },
      "source": [
        "print(train_data.shape, train_labels.shape)"
      ],
      "execution_count": 43,
      "outputs": [
        {
          "output_type": "stream",
          "name": "stdout",
          "text": [
            "(54000, 28, 28) (54000,)\n"
          ]
        }
      ]
    },
    {
      "cell_type": "code",
      "metadata": {
        "id": "h6qbYPmjkz07",
        "colab": {
          "base_uri": "https://localhost:8080/"
        },
        "outputId": "a8e71fdd-7b1d-4583-efb4-4bf5b063fb4f"
      },
      "source": [
        "print(valid_data.shape, valid_labels.shape)"
      ],
      "execution_count": 44,
      "outputs": [
        {
          "output_type": "stream",
          "name": "stdout",
          "text": [
            "(6000, 28, 28) (6000,)\n"
          ]
        }
      ]
    },
    {
      "cell_type": "code",
      "metadata": {
        "id": "AOPRVh6QlEAT",
        "colab": {
          "base_uri": "https://localhost:8080/",
          "height": 447
        },
        "outputId": "aee48ae5-720b-420e-b511-2ffc8fb515d0"
      },
      "source": [
        "index = 5901\n",
        "print(\"label = {}\".format(valid_labels[index]))\n",
        "plt.imshow(valid_data[index].reshape(28, 28))\n",
        "plt.colorbar()\n",
        "#plt.gca().grid(False)\n",
        "plt.show()"
      ],
      "execution_count": 45,
      "outputs": [
        {
          "output_type": "stream",
          "name": "stdout",
          "text": [
            "label = 8\n"
          ]
        },
        {
          "output_type": "display_data",
          "data": {
            "text/plain": [
              "<Figure size 640x480 with 2 Axes>"
            ],
            "image/png": "[encoded data removed]"
          },
          "metadata": {}
        }
      ]
    },
    {
      "cell_type": "code",
      "metadata": {
        "id": "4-eGKQNGgfCm",
        "colab": {
          "base_uri": "https://localhost:8080/"
        },
        "outputId": "0f8c956a-db62-4f72-dd82-2dada29be3d7"
      },
      "source": [
        "train_data = train_data / 255.\n",
        "train_data = train_data.reshape(-1, 28*28)\n",
        "train_data = train_data.astype(np.float32)\n",
        "train_labels = train_labels.astype(np.int32)\n",
        "\n",
        "test_data = test_data / 255.\n",
        "test_data = test_data.reshape(-1, 28*28)\n",
        "test_data = test_data.astype(np.float32)\n",
        "test_labels = test_labels.astype(np.int32)\n",
        "\n",
        "valid_data = valid_data / 255.\n",
        "valid_data = valid_data.reshape(-1, 28*28)\n",
        "valid_data = valid_data.astype(np.float32)\n",
        "valid_labels = valid_labels.astype(np.int32)\n",
        "\n",
        "\n",
        "print(train_data.shape, train_labels.shape)\n",
        "print(test_data.shape, test_labels.shape)\n",
        "print(valid_data.shape, valid_labels.shape)\n"
      ],
      "execution_count": 46,
      "outputs": [
        {
          "output_type": "stream",
          "name": "stdout",
          "text": [
            "(54000, 784) (54000,)\n",
            "(10000, 784) (10000,)\n",
            "(6000, 784) (6000,)\n"
          ]
        }
      ]
    },
    {
      "cell_type": "markdown",
      "metadata": {
        "id": "YqZ7iqFohpPJ"
      },
      "source": [
        "### 학습에 사용할 tf.data.Dataset 구성\n",
        "* 학습에 잘 적용할 수 있도록 label 처리\n",
        "* 데이터셋 구성"
      ]
    },
    {
      "cell_type": "code",
      "metadata": {
        "id": "xmm6PIkGhQ9z"
      },
      "source": [
        "def one_hot_label(image, label):\n",
        "  label = tf.one_hot(label, depth=10)\n",
        "  return image, label"
      ],
      "execution_count": 47,
      "outputs": []
    },
    {
      "cell_type": "code",
      "metadata": {
        "id": "_QewaIZ0hQ92",
        "colab": {
          "base_uri": "https://localhost:8080/"
        },
        "outputId": "81acf4a0-7e8c-4c69-f8a3-bd2f829950ea"
      },
      "source": [
        "batch_size = 32\n",
        "\n",
        "# for train\n",
        "train_dataset = tf.data.Dataset.from_tensor_slices((train_data, train_labels))\n",
        "train_dataset = train_dataset.shuffle(buffer_size=10000)\n",
        "train_dataset = train_dataset.map(one_hot_label)\n",
        "train_dataset = train_dataset.repeat().batch(batch_size=batch_size)\n",
        "print(train_dataset)\n",
        "\n",
        "# for test\n",
        "test_dataset = tf.data.Dataset.from_tensor_slices((test_data, test_labels))\n",
        "test_dataset = test_dataset.map(one_hot_label)\n",
        "test_dataset = test_dataset.batch(batch_size=batch_size)\n",
        "print(test_dataset)\n",
        "\n",
        "# for test\n",
        "valid_dataset = tf.data.Dataset.from_tensor_slices((valid_data, valid_labels))\n",
        "valid_dataset = valid_dataset.map(one_hot_label)\n",
        "valid_dataset = valid_dataset.batch(batch_size=batch_size)\n",
        "print(valid_dataset)\n",
        "\n",
        "# print를 이용하여 정보를 확인하는 것이 중요"
      ],
      "execution_count": 48,
      "outputs": [
        {
          "output_type": "stream",
          "name": "stdout",
          "text": [
            "<_BatchDataset element_spec=(TensorSpec(shape=(None, 784), dtype=tf.float32, name=None), TensorSpec(shape=(None, 10), dtype=tf.float32, name=None))>\n",
            "<_BatchDataset element_spec=(TensorSpec(shape=(None, 784), dtype=tf.float32, name=None), TensorSpec(shape=(None, 10), dtype=tf.float32, name=None))>\n",
            "<_BatchDataset element_spec=(TensorSpec(shape=(None, 784), dtype=tf.float32, name=None), TensorSpec(shape=(None, 10), dtype=tf.float32, name=None))>\n"
          ]
        }
      ]
    },
    {
      "cell_type": "markdown",
      "metadata": {
        "id": "2Nuty9VRhyqh"
      },
      "source": [
        "### 모델 구성"
      ]
    },
    {
      "cell_type": "code",
      "metadata": {
        "id": "rxm7uM4Vg8Y1"
      },
      "source": [
        "# Dense 64 relu\n",
        "# Dense 32 relu\n",
        "# Output Layer\n",
        "# input shape은 실수하는 경우가 많으므로 자동으로 가져오게 하는 편이 좋다.\n",
        "# 28 * 28\n",
        "model = tf.keras.Sequential([\n",
        "    layers.Dense(64, activation='relu'),\n",
        "    layers.Dense(32, activation='relu'),\n",
        "    layers.Dense(16, activation='relu'),\n",
        "    layers.Dense(10)\n",
        "])"
      ],
      "execution_count": 52,
      "outputs": []
    },
    {
      "cell_type": "code",
      "metadata": {
        "id": "w5wTN0SdhgUy"
      },
      "source": [
        "# from_logits = True 잊지말기\n",
        "model.compile(optimizer=tf.keras.optimizers.Adam(1e-4),\n",
        "              loss=tf.keras.losses.CategoricalCrossentropy(from_logits=True),\n",
        "              metrics=['accuracy'])"
      ],
      "execution_count": 53,
      "outputs": []
    },
    {
      "cell_type": "code",
      "metadata": {
        "id": "aBiwV68thnJe",
        "colab": {
          "base_uri": "https://localhost:8080/"
        },
        "outputId": "5f1d2703-5ea0-4458-9627-46af361a5ae4"
      },
      "source": [
        "# without training, just inference a model in eager execution:\n",
        "predictions = model(train_data[0:1], training=False)\n",
        "print(\"Predictions: \", predictions.numpy())"
      ],
      "execution_count": 54,
      "outputs": [
        {
          "output_type": "stream",
          "name": "stdout",
          "text": [
            "Predictions:  [[-0.12047834 -0.00034373  0.0451146   0.03338142 -0.05239188 -0.18060885\n",
            "  -0.12920743 -0.2452113  -0.10624401  0.04954673]]\n"
          ]
        }
      ]
    },
    {
      "cell_type": "code",
      "metadata": {
        "id": "q0yMruVchi4z",
        "colab": {
          "base_uri": "https://localhost:8080/"
        },
        "outputId": "e7c3368a-b9f2-4b4a-afef-388a96a226c0"
      },
      "source": [
        "model.summary()"
      ],
      "execution_count": 55,
      "outputs": [
        {
          "output_type": "stream",
          "name": "stdout",
          "text": [
            "Model: \"sequential_3\"\n",
            "_________________________________________________________________\n",
            " Layer (type)                Output Shape              Param #   \n",
            "=================================================================\n",
            " dense_9 (Dense)             (1, 64)                   50240     \n",
            "                                                                 \n",
            " dense_10 (Dense)            (1, 32)                   2080      \n",
            "                                                                 \n",
            " dense_11 (Dense)            (1, 16)                   528       \n",
            "                                                                 \n",
            " dense_12 (Dense)            (1, 10)                   170       \n",
            "                                                                 \n",
            "=================================================================\n",
            "Total params: 53018 (207.10 KB)\n",
            "Trainable params: 53018 (207.10 KB)\n",
            "Non-trainable params: 0 (0.00 Byte)\n",
            "_________________________________________________________________\n"
          ]
        }
      ]
    },
    {
      "cell_type": "markdown",
      "metadata": {
        "id": "8DOW-3_uh0rF"
      },
      "source": [
        "### 모델 학습 구성"
      ]
    },
    {
      "cell_type": "code",
      "source": [
        "check_point_cb = callbacks.ModelCheckpoint('fashion_mnist_model.h5',\n",
        "                                           save_best_only=True,\n",
        "                                           verbose=1)\n",
        "early_stopping_cb = callbacks.EarlyStopping(patience=10,\n",
        "                                            monitor='val_loss',\n",
        "                                            restore_best_weights=True,\n",
        "                                            verbose=1)"
      ],
      "metadata": {
        "id": "Mp_2_AHW0c0t"
      },
      "execution_count": 56,
      "outputs": []
    },
    {
      "cell_type": "code",
      "metadata": {
        "id": "HLqC2Qx6hjFc",
        "colab": {
          "base_uri": "https://localhost:8080/"
        },
        "outputId": "2edd5be3-41e2-4e23-9e9d-b83d4b2b0ff0"
      },
      "source": [
        "max_epochs = 100\n",
        "# using `tf.data.Dataset`\n",
        "history = model.fit(train_dataset,\n",
        "                    epochs=max_epochs,\n",
        "                    steps_per_epoch=len(train_data) // batch_size,\n",
        "                    validation_data=valid_dataset,\n",
        "                    validation_steps=len(valid_data) // batch_size,\n",
        "                    callbacks=[check_point_cb, early_stopping_cb]\n",
        "                   )"
      ],
      "execution_count": 57,
      "outputs": [
        {
          "output_type": "stream",
          "name": "stdout",
          "text": [
            "Epoch 1/100\n",
            "1676/1687 [============================>.] - ETA: 0s - loss: 0.8920 - accuracy: 0.7221\n",
            "Epoch 1: val_loss improved from inf to 0.56467, saving model to fashion_mnist_model.h5\n",
            "1687/1687 [==============================] - 13s 5ms/step - loss: 0.8897 - accuracy: 0.7228 - val_loss: 0.5647 - val_accuracy: 0.8118\n",
            "Epoch 2/100\n",
            "1681/1687 [============================>.] - ETA: 0s - loss: 0.5112 - accuracy: 0.8297\n",
            "Epoch 2: val_loss improved from 0.56467 to 0.48690, saving model to fashion_mnist_model.h5\n",
            "1687/1687 [==============================] - 8s 5ms/step - loss: 0.5110 - accuracy: 0.8296 - val_loss: 0.4869 - val_accuracy: 0.8319\n",
            "Epoch 3/100\n",
            "1687/1687 [==============================] - ETA: 0s - loss: 0.4577 - accuracy: 0.8435\n",
            "Epoch 3: val_loss improved from 0.48690 to 0.44887, saving model to fashion_mnist_model.h5\n",
            "1687/1687 [==============================] - 9s 5ms/step - loss: 0.4577 - accuracy: 0.8435 - val_loss: 0.4489 - val_accuracy: 0.8416\n",
            "Epoch 4/100\n",
            "1681/1687 [============================>.] - ETA: 0s - loss: 0.4294 - accuracy: 0.8521\n",
            "Epoch 4: val_loss improved from 0.44887 to 0.43606, saving model to fashion_mnist_model.h5\n",
            "1687/1687 [==============================] - 7s 4ms/step - loss: 0.4292 - accuracy: 0.8522 - val_loss: 0.4361 - val_accuracy: 0.8449\n",
            "Epoch 5/100\n",
            "1683/1687 [============================>.] - ETA: 0s - loss: 0.4083 - accuracy: 0.8580\n",
            "Epoch 5: val_loss improved from 0.43606 to 0.41383, saving model to fashion_mnist_model.h5\n",
            "1687/1687 [==============================] - 8s 5ms/step - loss: 0.4082 - accuracy: 0.8582 - val_loss: 0.4138 - val_accuracy: 0.8523\n",
            "Epoch 6/100\n",
            "1683/1687 [============================>.] - ETA: 0s - loss: 0.3951 - accuracy: 0.8619\n",
            "Epoch 6: val_loss improved from 0.41383 to 0.40698, saving model to fashion_mnist_model.h5\n",
            "1687/1687 [==============================] - 7s 4ms/step - loss: 0.3952 - accuracy: 0.8620 - val_loss: 0.4070 - val_accuracy: 0.8531\n",
            "Epoch 7/100\n",
            "1677/1687 [============================>.] - ETA: 0s - loss: 0.3831 - accuracy: 0.8668\n",
            "Epoch 7: val_loss improved from 0.40698 to 0.39506, saving model to fashion_mnist_model.h5\n",
            "1687/1687 [==============================] - 8s 5ms/step - loss: 0.3827 - accuracy: 0.8669 - val_loss: 0.3951 - val_accuracy: 0.8590\n",
            "Epoch 8/100\n",
            "1680/1687 [============================>.] - ETA: 0s - loss: 0.3709 - accuracy: 0.8701\n",
            "Epoch 8: val_loss improved from 0.39506 to 0.38037, saving model to fashion_mnist_model.h5\n",
            "1687/1687 [==============================] - 8s 5ms/step - loss: 0.3710 - accuracy: 0.8701 - val_loss: 0.3804 - val_accuracy: 0.8641\n",
            "Epoch 9/100\n",
            "1677/1687 [============================>.] - ETA: 0s - loss: 0.3624 - accuracy: 0.8726\n",
            "Epoch 9: val_loss improved from 0.38037 to 0.37727, saving model to fashion_mnist_model.h5\n",
            "1687/1687 [==============================] - 7s 4ms/step - loss: 0.3624 - accuracy: 0.8726 - val_loss: 0.3773 - val_accuracy: 0.8621\n",
            "Epoch 10/100\n",
            "1686/1687 [============================>.] - ETA: 0s - loss: 0.3560 - accuracy: 0.8747\n",
            "Epoch 10: val_loss improved from 0.37727 to 0.36877, saving model to fashion_mnist_model.h5\n",
            "1687/1687 [==============================] - 8s 5ms/step - loss: 0.3560 - accuracy: 0.8747 - val_loss: 0.3688 - val_accuracy: 0.8648\n",
            "Epoch 11/100\n",
            "1685/1687 [============================>.] - ETA: 0s - loss: 0.3483 - accuracy: 0.8774\n",
            "Epoch 11: val_loss improved from 0.36877 to 0.36436, saving model to fashion_mnist_model.h5\n",
            "1687/1687 [==============================] - 7s 4ms/step - loss: 0.3483 - accuracy: 0.8774 - val_loss: 0.3644 - val_accuracy: 0.8643\n",
            "Epoch 12/100\n",
            "1678/1687 [============================>.] - ETA: 0s - loss: 0.3418 - accuracy: 0.8784\n",
            "Epoch 12: val_loss did not improve from 0.36436\n",
            "1687/1687 [==============================] - 11s 6ms/step - loss: 0.3420 - accuracy: 0.8783 - val_loss: 0.3725 - val_accuracy: 0.8660\n",
            "Epoch 13/100\n",
            "1676/1687 [============================>.] - ETA: 0s - loss: 0.3360 - accuracy: 0.8813\n",
            "Epoch 13: val_loss improved from 0.36436 to 0.35848, saving model to fashion_mnist_model.h5\n",
            "1687/1687 [==============================] - 8s 5ms/step - loss: 0.3361 - accuracy: 0.8812 - val_loss: 0.3585 - val_accuracy: 0.8695\n",
            "Epoch 14/100\n",
            "1685/1687 [============================>.] - ETA: 0s - loss: 0.3294 - accuracy: 0.8835\n",
            "Epoch 14: val_loss improved from 0.35848 to 0.35678, saving model to fashion_mnist_model.h5\n",
            "1687/1687 [==============================] - 7s 4ms/step - loss: 0.3292 - accuracy: 0.8836 - val_loss: 0.3568 - val_accuracy: 0.8698\n",
            "Epoch 15/100\n",
            "1687/1687 [==============================] - ETA: 0s - loss: 0.3253 - accuracy: 0.8838\n",
            "Epoch 15: val_loss did not improve from 0.35678\n",
            "1687/1687 [==============================] - 8s 5ms/step - loss: 0.3253 - accuracy: 0.8838 - val_loss: 0.3722 - val_accuracy: 0.8616\n",
            "Epoch 16/100\n",
            "1685/1687 [============================>.] - ETA: 0s - loss: 0.3205 - accuracy: 0.8868\n",
            "Epoch 16: val_loss improved from 0.35678 to 0.34800, saving model to fashion_mnist_model.h5\n",
            "1687/1687 [==============================] - 7s 4ms/step - loss: 0.3204 - accuracy: 0.8869 - val_loss: 0.3480 - val_accuracy: 0.8747\n",
            "Epoch 17/100\n",
            "1687/1687 [==============================] - ETA: 0s - loss: 0.3148 - accuracy: 0.8883\n",
            "Epoch 17: val_loss improved from 0.34800 to 0.34274, saving model to fashion_mnist_model.h5\n",
            "1687/1687 [==============================] - 8s 5ms/step - loss: 0.3148 - accuracy: 0.8883 - val_loss: 0.3427 - val_accuracy: 0.8750\n",
            "Epoch 18/100\n",
            "1679/1687 [============================>.] - ETA: 0s - loss: 0.3110 - accuracy: 0.8888\n",
            "Epoch 18: val_loss did not improve from 0.34274\n",
            "1687/1687 [==============================] - 8s 5ms/step - loss: 0.3111 - accuracy: 0.8887 - val_loss: 0.3459 - val_accuracy: 0.8763\n",
            "Epoch 19/100\n",
            "1684/1687 [============================>.] - ETA: 0s - loss: 0.3060 - accuracy: 0.8905\n",
            "Epoch 19: val_loss improved from 0.34274 to 0.34260, saving model to fashion_mnist_model.h5\n",
            "1687/1687 [==============================] - 7s 4ms/step - loss: 0.3059 - accuracy: 0.8905 - val_loss: 0.3426 - val_accuracy: 0.8762\n",
            "Epoch 20/100\n",
            "1687/1687 [==============================] - ETA: 0s - loss: 0.3031 - accuracy: 0.8913\n",
            "Epoch 20: val_loss improved from 0.34260 to 0.34250, saving model to fashion_mnist_model.h5\n",
            "1687/1687 [==============================] - 8s 5ms/step - loss: 0.3031 - accuracy: 0.8913 - val_loss: 0.3425 - val_accuracy: 0.8762\n",
            "Epoch 21/100\n",
            "1676/1687 [============================>.] - ETA: 0s - loss: 0.3001 - accuracy: 0.8931\n",
            "Epoch 21: val_loss did not improve from 0.34250\n",
            "1687/1687 [==============================] - 7s 4ms/step - loss: 0.2998 - accuracy: 0.8931 - val_loss: 0.3438 - val_accuracy: 0.8778\n",
            "Epoch 22/100\n",
            "1679/1687 [============================>.] - ETA: 0s - loss: 0.2953 - accuracy: 0.8934\n",
            "Epoch 22: val_loss did not improve from 0.34250\n",
            "1687/1687 [==============================] - 8s 5ms/step - loss: 0.2950 - accuracy: 0.8934 - val_loss: 0.3457 - val_accuracy: 0.8743\n",
            "Epoch 23/100\n",
            "1687/1687 [==============================] - ETA: 0s - loss: 0.2923 - accuracy: 0.8954\n",
            "Epoch 23: val_loss improved from 0.34250 to 0.33255, saving model to fashion_mnist_model.h5\n",
            "1687/1687 [==============================] - 8s 5ms/step - loss: 0.2923 - accuracy: 0.8954 - val_loss: 0.3326 - val_accuracy: 0.8807\n",
            "Epoch 24/100\n",
            "1687/1687 [==============================] - ETA: 0s - loss: 0.2883 - accuracy: 0.8967\n",
            "Epoch 24: val_loss did not improve from 0.33255\n",
            "1687/1687 [==============================] - 7s 4ms/step - loss: 0.2883 - accuracy: 0.8967 - val_loss: 0.3358 - val_accuracy: 0.8762\n",
            "Epoch 25/100\n",
            "1681/1687 [============================>.] - ETA: 0s - loss: 0.2874 - accuracy: 0.8964\n",
            "Epoch 25: val_loss improved from 0.33255 to 0.33094, saving model to fashion_mnist_model.h5\n",
            "1687/1687 [==============================] - 8s 5ms/step - loss: 0.2875 - accuracy: 0.8964 - val_loss: 0.3309 - val_accuracy: 0.8782\n",
            "Epoch 26/100\n",
            "1686/1687 [============================>.] - ETA: 0s - loss: 0.2829 - accuracy: 0.8975\n",
            "Epoch 26: val_loss did not improve from 0.33094\n",
            "1687/1687 [==============================] - 7s 4ms/step - loss: 0.2829 - accuracy: 0.8975 - val_loss: 0.3365 - val_accuracy: 0.8772\n",
            "Epoch 27/100\n",
            "1675/1687 [============================>.] - ETA: 0s - loss: 0.2790 - accuracy: 0.8995\n",
            "Epoch 27: val_loss improved from 0.33094 to 0.32656, saving model to fashion_mnist_model.h5\n",
            "1687/1687 [==============================] - 8s 5ms/step - loss: 0.2791 - accuracy: 0.8996 - val_loss: 0.3266 - val_accuracy: 0.8792\n",
            "Epoch 28/100\n",
            "1679/1687 [============================>.] - ETA: 0s - loss: 0.2765 - accuracy: 0.8999\n",
            "Epoch 28: val_loss did not improve from 0.32656\n",
            "1687/1687 [==============================] - 8s 5ms/step - loss: 0.2766 - accuracy: 0.8998 - val_loss: 0.3291 - val_accuracy: 0.8793\n",
            "Epoch 29/100\n",
            "1683/1687 [============================>.] - ETA: 0s - loss: 0.2746 - accuracy: 0.9005\n",
            "Epoch 29: val_loss improved from 0.32656 to 0.32569, saving model to fashion_mnist_model.h5\n",
            "1687/1687 [==============================] - 8s 5ms/step - loss: 0.2744 - accuracy: 0.9006 - val_loss: 0.3257 - val_accuracy: 0.8793\n",
            "Epoch 30/100\n",
            "1683/1687 [============================>.] - ETA: 0s - loss: 0.2716 - accuracy: 0.9018\n",
            "Epoch 30: val_loss improved from 0.32569 to 0.32346, saving model to fashion_mnist_model.h5\n",
            "1687/1687 [==============================] - 8s 5ms/step - loss: 0.2718 - accuracy: 0.9017 - val_loss: 0.3235 - val_accuracy: 0.8835\n",
            "Epoch 31/100\n",
            "1681/1687 [============================>.] - ETA: 0s - loss: 0.2689 - accuracy: 0.9029\n",
            "Epoch 31: val_loss improved from 0.32346 to 0.32331, saving model to fashion_mnist_model.h5\n",
            "1687/1687 [==============================] - 7s 4ms/step - loss: 0.2692 - accuracy: 0.9029 - val_loss: 0.3233 - val_accuracy: 0.8815\n",
            "Epoch 32/100\n",
            "1686/1687 [============================>.] - ETA: 0s - loss: 0.2662 - accuracy: 0.9035\n",
            "Epoch 32: val_loss did not improve from 0.32331\n",
            "1687/1687 [==============================] - 8s 5ms/step - loss: 0.2662 - accuracy: 0.9034 - val_loss: 0.3317 - val_accuracy: 0.8785\n",
            "Epoch 33/100\n",
            "1686/1687 [============================>.] - ETA: 0s - loss: 0.2637 - accuracy: 0.9045\n",
            "Epoch 33: val_loss did not improve from 0.32331\n",
            "1687/1687 [==============================] - 8s 5ms/step - loss: 0.2637 - accuracy: 0.9045 - val_loss: 0.3408 - val_accuracy: 0.8730\n",
            "Epoch 34/100\n",
            "1682/1687 [============================>.] - ETA: 0s - loss: 0.2616 - accuracy: 0.9051\n",
            "Epoch 34: val_loss did not improve from 0.32331\n",
            "1687/1687 [==============================] - 8s 4ms/step - loss: 0.2618 - accuracy: 0.9050 - val_loss: 0.3336 - val_accuracy: 0.8793\n",
            "Epoch 35/100\n",
            "1676/1687 [============================>.] - ETA: 0s - loss: 0.2596 - accuracy: 0.9064\n",
            "Epoch 35: val_loss improved from 0.32331 to 0.32115, saving model to fashion_mnist_model.h5\n",
            "1687/1687 [==============================] - 8s 5ms/step - loss: 0.2594 - accuracy: 0.9064 - val_loss: 0.3212 - val_accuracy: 0.8844\n",
            "Epoch 36/100\n",
            "1687/1687 [==============================] - ETA: 0s - loss: 0.2579 - accuracy: 0.9068\n",
            "Epoch 36: val_loss did not improve from 0.32115\n",
            "1687/1687 [==============================] - 7s 4ms/step - loss: 0.2579 - accuracy: 0.9068 - val_loss: 0.3305 - val_accuracy: 0.8822\n",
            "Epoch 37/100\n",
            "1678/1687 [============================>.] - ETA: 0s - loss: 0.2555 - accuracy: 0.9071\n",
            "Epoch 37: val_loss did not improve from 0.32115\n",
            "1687/1687 [==============================] - 8s 5ms/step - loss: 0.2552 - accuracy: 0.9072 - val_loss: 0.3325 - val_accuracy: 0.8785\n",
            "Epoch 38/100\n",
            "1683/1687 [============================>.] - ETA: 0s - loss: 0.2539 - accuracy: 0.9087\n",
            "Epoch 38: val_loss did not improve from 0.32115\n",
            "1687/1687 [==============================] - 8s 5ms/step - loss: 0.2538 - accuracy: 0.9086 - val_loss: 0.3215 - val_accuracy: 0.8849\n",
            "Epoch 39/100\n",
            "1678/1687 [============================>.] - ETA: 0s - loss: 0.2515 - accuracy: 0.9079\n",
            "Epoch 39: val_loss did not improve from 0.32115\n",
            "1687/1687 [==============================] - 8s 5ms/step - loss: 0.2516 - accuracy: 0.9078 - val_loss: 0.3251 - val_accuracy: 0.8825\n",
            "Epoch 40/100\n",
            "1686/1687 [============================>.] - ETA: 0s - loss: 0.2483 - accuracy: 0.9111\n",
            "Epoch 40: val_loss did not improve from 0.32115\n",
            "1687/1687 [==============================] - 8s 5ms/step - loss: 0.2483 - accuracy: 0.9111 - val_loss: 0.3313 - val_accuracy: 0.8857\n",
            "Epoch 41/100\n",
            "1683/1687 [============================>.] - ETA: 0s - loss: 0.2475 - accuracy: 0.9109\n",
            "Epoch 41: val_loss did not improve from 0.32115\n",
            "1687/1687 [==============================] - 7s 4ms/step - loss: 0.2476 - accuracy: 0.9109 - val_loss: 0.3225 - val_accuracy: 0.8844\n",
            "Epoch 42/100\n",
            "1678/1687 [============================>.] - ETA: 0s - loss: 0.2453 - accuracy: 0.9117\n",
            "Epoch 42: val_loss improved from 0.32115 to 0.32062, saving model to fashion_mnist_model.h5\n",
            "1687/1687 [==============================] - 8s 5ms/step - loss: 0.2452 - accuracy: 0.9118 - val_loss: 0.3206 - val_accuracy: 0.8842\n",
            "Epoch 43/100\n",
            "1683/1687 [============================>.] - ETA: 0s - loss: 0.2422 - accuracy: 0.9130\n",
            "Epoch 43: val_loss did not improve from 0.32062\n",
            "1687/1687 [==============================] - 8s 5ms/step - loss: 0.2422 - accuracy: 0.9130 - val_loss: 0.3210 - val_accuracy: 0.8839\n",
            "Epoch 44/100\n",
            "1687/1687 [==============================] - ETA: 0s - loss: 0.2414 - accuracy: 0.9136\n",
            "Epoch 44: val_loss did not improve from 0.32062\n",
            "1687/1687 [==============================] - 7s 4ms/step - loss: 0.2414 - accuracy: 0.9136 - val_loss: 0.3292 - val_accuracy: 0.8815\n",
            "Epoch 45/100\n",
            "1687/1687 [==============================] - ETA: 0s - loss: 0.2404 - accuracy: 0.9129\n",
            "Epoch 45: val_loss did not improve from 0.32062\n",
            "1687/1687 [==============================] - 8s 5ms/step - loss: 0.2404 - accuracy: 0.9129 - val_loss: 0.3281 - val_accuracy: 0.8812\n",
            "Epoch 46/100\n",
            "1676/1687 [============================>.] - ETA: 0s - loss: 0.2384 - accuracy: 0.9138\n",
            "Epoch 46: val_loss improved from 0.32062 to 0.31653, saving model to fashion_mnist_model.h5\n",
            "1687/1687 [==============================] - 7s 4ms/step - loss: 0.2379 - accuracy: 0.9140 - val_loss: 0.3165 - val_accuracy: 0.8862\n",
            "Epoch 47/100\n",
            "1679/1687 [============================>.] - ETA: 0s - loss: 0.2359 - accuracy: 0.9141\n",
            "Epoch 47: val_loss did not improve from 0.31653\n",
            "1687/1687 [==============================] - 8s 5ms/step - loss: 0.2360 - accuracy: 0.9141 - val_loss: 0.3170 - val_accuracy: 0.8852\n",
            "Epoch 48/100\n",
            "1680/1687 [============================>.] - ETA: 0s - loss: 0.2329 - accuracy: 0.9165\n",
            "Epoch 48: val_loss did not improve from 0.31653\n",
            "1687/1687 [==============================] - 8s 5ms/step - loss: 0.2333 - accuracy: 0.9163 - val_loss: 0.3176 - val_accuracy: 0.8860\n",
            "Epoch 49/100\n",
            "1681/1687 [============================>.] - ETA: 0s - loss: 0.2320 - accuracy: 0.9155\n",
            "Epoch 49: val_loss did not improve from 0.31653\n",
            "1687/1687 [==============================] - 8s 5ms/step - loss: 0.2318 - accuracy: 0.9156 - val_loss: 0.3344 - val_accuracy: 0.8830\n",
            "Epoch 50/100\n",
            "1687/1687 [==============================] - ETA: 0s - loss: 0.2310 - accuracy: 0.9159\n",
            "Epoch 50: val_loss did not improve from 0.31653\n",
            "1687/1687 [==============================] - 8s 5ms/step - loss: 0.2310 - accuracy: 0.9159 - val_loss: 0.3204 - val_accuracy: 0.8822\n",
            "Epoch 51/100\n",
            "1676/1687 [============================>.] - ETA: 0s - loss: 0.2299 - accuracy: 0.9160\n",
            "Epoch 51: val_loss did not improve from 0.31653\n",
            "1687/1687 [==============================] - 7s 4ms/step - loss: 0.2298 - accuracy: 0.9161 - val_loss: 0.3274 - val_accuracy: 0.8807\n",
            "Epoch 52/100\n",
            "1676/1687 [============================>.] - ETA: 0s - loss: 0.2268 - accuracy: 0.9184\n",
            "Epoch 52: val_loss did not improve from 0.31653\n",
            "1687/1687 [==============================] - 8s 5ms/step - loss: 0.2267 - accuracy: 0.9184 - val_loss: 0.3297 - val_accuracy: 0.8832\n",
            "Epoch 53/100\n",
            "1682/1687 [============================>.] - ETA: 0s - loss: 0.2264 - accuracy: 0.9182\n",
            "Epoch 53: val_loss did not improve from 0.31653\n",
            "1687/1687 [==============================] - 8s 5ms/step - loss: 0.2263 - accuracy: 0.9182 - val_loss: 0.3214 - val_accuracy: 0.8887\n",
            "Epoch 54/100\n",
            "1685/1687 [============================>.] - ETA: 0s - loss: 0.2246 - accuracy: 0.9185\n",
            "Epoch 54: val_loss did not improve from 0.31653\n",
            "1687/1687 [==============================] - 7s 4ms/step - loss: 0.2246 - accuracy: 0.9185 - val_loss: 0.3200 - val_accuracy: 0.8874\n",
            "Epoch 55/100\n",
            "1682/1687 [============================>.] - ETA: 0s - loss: 0.2212 - accuracy: 0.9201\n",
            "Epoch 55: val_loss did not improve from 0.31653\n",
            "1687/1687 [==============================] - 8s 5ms/step - loss: 0.2211 - accuracy: 0.9201 - val_loss: 0.3326 - val_accuracy: 0.8844\n",
            "Epoch 56/100\n",
            "1680/1687 [============================>.] - ETA: 0s - loss: 0.2217 - accuracy: 0.9197\n",
            "Epoch 56: val_loss improved from 0.31653 to 0.31635, saving model to fashion_mnist_model.h5\n",
            "1687/1687 [==============================] - 7s 4ms/step - loss: 0.2216 - accuracy: 0.9198 - val_loss: 0.3163 - val_accuracy: 0.8899\n",
            "Epoch 57/100\n",
            "1679/1687 [============================>.] - ETA: 0s - loss: 0.2188 - accuracy: 0.9200\n",
            "Epoch 57: val_loss did not improve from 0.31635\n",
            "1687/1687 [==============================] - 8s 5ms/step - loss: 0.2188 - accuracy: 0.9199 - val_loss: 0.3207 - val_accuracy: 0.8879\n",
            "Epoch 58/100\n",
            "1685/1687 [============================>.] - ETA: 0s - loss: 0.2172 - accuracy: 0.9221\n",
            "Epoch 58: val_loss did not improve from 0.31635\n",
            "1687/1687 [==============================] - 8s 5ms/step - loss: 0.2174 - accuracy: 0.9221 - val_loss: 0.3255 - val_accuracy: 0.8847\n",
            "Epoch 59/100\n",
            "1679/1687 [============================>.] - ETA: 0s - loss: 0.2164 - accuracy: 0.9224\n",
            "Epoch 59: val_loss did not improve from 0.31635\n",
            "1687/1687 [==============================] - 7s 4ms/step - loss: 0.2166 - accuracy: 0.9223 - val_loss: 0.3306 - val_accuracy: 0.8819\n",
            "Epoch 60/100\n",
            "1674/1687 [============================>.] - ETA: 0s - loss: 0.2149 - accuracy: 0.9224\n",
            "Epoch 60: val_loss did not improve from 0.31635\n",
            "1687/1687 [==============================] - 8s 5ms/step - loss: 0.2148 - accuracy: 0.9225 - val_loss: 0.3280 - val_accuracy: 0.8837\n",
            "Epoch 61/100\n",
            "1684/1687 [============================>.] - ETA: 0s - loss: 0.2140 - accuracy: 0.9224\n",
            "Epoch 61: val_loss did not improve from 0.31635\n",
            "1687/1687 [==============================] - 7s 4ms/step - loss: 0.2143 - accuracy: 0.9223 - val_loss: 0.3374 - val_accuracy: 0.8820\n",
            "Epoch 62/100\n",
            "1682/1687 [============================>.] - ETA: 0s - loss: 0.2120 - accuracy: 0.9237\n",
            "Epoch 62: val_loss did not improve from 0.31635\n",
            "1687/1687 [==============================] - 8s 5ms/step - loss: 0.2121 - accuracy: 0.9237 - val_loss: 0.3234 - val_accuracy: 0.8862\n",
            "Epoch 63/100\n",
            "1683/1687 [============================>.] - ETA: 0s - loss: 0.2104 - accuracy: 0.9239\n",
            "Epoch 63: val_loss did not improve from 0.31635\n",
            "1687/1687 [==============================] - 9s 5ms/step - loss: 0.2105 - accuracy: 0.9237 - val_loss: 0.3242 - val_accuracy: 0.8880\n",
            "Epoch 64/100\n",
            "1685/1687 [============================>.] - ETA: 0s - loss: 0.2092 - accuracy: 0.9234\n",
            "Epoch 64: val_loss did not improve from 0.31635\n",
            "1687/1687 [==============================] - 7s 4ms/step - loss: 0.2092 - accuracy: 0.9234 - val_loss: 0.3231 - val_accuracy: 0.8872\n",
            "Epoch 65/100\n",
            "1686/1687 [============================>.] - ETA: 0s - loss: 0.2077 - accuracy: 0.9252\n",
            "Epoch 65: val_loss did not improve from 0.31635\n",
            "1687/1687 [==============================] - 8s 5ms/step - loss: 0.2076 - accuracy: 0.9252 - val_loss: 0.3270 - val_accuracy: 0.8832\n",
            "Epoch 66/100\n",
            "1683/1687 [============================>.] - ETA: 0s - loss: 0.2062 - accuracy: 0.9251\n",
            "Epoch 66: val_loss did not improve from 0.31635\n",
            "Restoring model weights from the end of the best epoch: 56.\n",
            "1687/1687 [==============================] - 7s 4ms/step - loss: 0.2063 - accuracy: 0.9250 - val_loss: 0.3212 - val_accuracy: 0.8872\n",
            "Epoch 66: early stopping\n"
          ]
        }
      ]
    },
    {
      "cell_type": "code",
      "metadata": {
        "id": "P5ZcVB42hqDE",
        "colab": {
          "base_uri": "https://localhost:8080/",
          "height": 699
        },
        "outputId": "15539a7d-cb68-4b65-b299-6e68394b64c5"
      },
      "source": [
        "# 그래프에서 1)학습이 잘되었는지 확인 2)overfitting 발생여부 3)개선방향\n",
        "acc = history.history['accuracy']\n",
        "val_acc = history.history['val_accuracy']\n",
        "\n",
        "loss = history.history['loss']\n",
        "val_loss = history.history['val_loss']\n",
        "\n",
        "epochs_range = range(len(acc))\n",
        "\n",
        "plt.figure(figsize=(8, 8))\n",
        "plt.subplot(1, 2, 1)\n",
        "plt.plot(epochs_range, acc, label='Training Accuracy')\n",
        "plt.plot(epochs_range, val_acc, label='Validation Accuracy')\n",
        "plt.legend(loc='lower right')\n",
        "plt.title('Training and Valid Accuracy')\n",
        "\n",
        "plt.subplot(1, 2, 2)\n",
        "plt.plot(epochs_range, loss, label='Training Loss')\n",
        "plt.plot(epochs_range, val_loss, label='Validation Loss')\n",
        "plt.legend(loc='upper right')\n",
        "plt.title('Training and Valid Loss')\n",
        "plt.show()"
      ],
      "execution_count": 58,
      "outputs": [
        {
          "output_type": "display_data",
          "data": {
            "text/plain": [
              "<Figure size 800x800 with 2 Axes>"
            ],
            "image/png": "[encoded data removed]"
          },
          "metadata": {}
        }
      ]
    },
    {
      "cell_type": "code",
      "metadata": {
        "id": "MIfLiTlehtAC",
        "colab": {
          "base_uri": "https://localhost:8080/"
        },
        "outputId": "e67e358d-de6f-4e9c-c66c-73e9d255fe87"
      },
      "source": [
        "results = model.evaluate(test_dataset)"
      ],
      "execution_count": 59,
      "outputs": [
        {
          "output_type": "stream",
          "name": "stdout",
          "text": [
            "313/313 [==============================] - 1s 3ms/step - loss: 0.3531 - accuracy: 0.8792\n"
          ]
        }
      ]
    },
    {
      "cell_type": "code",
      "metadata": {
        "id": "nrwS9PJ6hxlm"
      },
      "source": [],
      "execution_count": 59,
      "outputs": []
    }
  ]
}