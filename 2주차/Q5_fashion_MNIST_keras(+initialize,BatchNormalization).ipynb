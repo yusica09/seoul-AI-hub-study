{
  "nbformat": 4,
  "nbformat_minor": 0,
  "metadata": {
    "colab": {
      "provenance": [],
      "include_colab_link": true
    },
    "kernelspec": {
      "display_name": "Python 3",
      "language": "python",
      "name": "python3"
    },
    "language_info": {
      "codemirror_mode": {
        "name": "ipython",
        "version": 3
      },
      "file_extension": ".py",
      "mimetype": "text/x-python",
      "name": "python",
      "nbconvert_exporter": "python",
      "pygments_lexer": "ipython3",
      "version": "3.6.8"
    },
    "accelerator": "GPU"
  },
  "cells": [
    {
      "cell_type": "markdown",
      "metadata": {
        "id": "view-in-github",
        "colab_type": "text"
      },
      "source": [
        "<a href=\"https://colab.research.google.com/github/yusica09/seoul-AI-hub-study/blob/main/2%EC%A3%BC%EC%B0%A8/Q5_fashion_MNIST_keras(%2Binitialize%2CBatchNormalization).ipynb\" target=\"_parent\"><img src=\"https://colab.research.google.com/assets/colab-badge.svg\" alt=\"Open In Colab\"/></a>"
      ]
    },
    {
      "cell_type": "code",
      "metadata": {
        "id": "TCKHChmFfyVL",
        "colab": {
          "base_uri": "https://localhost:8080/",
          "height": 35
        },
        "outputId": "4b234b40-0898-417f-ae16-eebc26807562"
      },
      "source": [
        "import tensorflow as tf\n",
        "from tensorflow.keras import layers\n",
        "from tensorflow.keras import callbacks\n",
        "\n",
        "from sklearn.model_selection import train_test_split\n",
        "\n",
        "import numpy as np\n",
        "import matplotlib.pyplot as plt\n",
        "\n",
        "tf.__version__"
      ],
      "execution_count": 1,
      "outputs": [
        {
          "output_type": "execute_result",
          "data": {
            "text/plain": [
              "'2.15.0'"
            ],
            "application/vnd.google.colaboratory.intrinsic+json": {
              "type": "string"
            }
          },
          "metadata": {},
          "execution_count": 1
        }
      ]
    },
    {
      "cell_type": "markdown",
      "metadata": {
        "id": "o2GvLGzZhicw"
      },
      "source": [
        "### 데이터 로드\n",
        "* TF에서 제공하는 데이터셋을 load해 간단한 전처리 진행"
      ]
    },
    {
      "cell_type": "code",
      "metadata": {
        "id": "Vem5Yu6nkT3b",
        "colab": {
          "base_uri": "https://localhost:8080/"
        },
        "outputId": "c3af72dc-5db5-4edd-a0a8-31bda9895525"
      },
      "source": [
        "# Load training and eval data from tf.keras\n",
        "(train_data, train_labels), (test_data, test_labels) = \\\n",
        "    tf.keras.datasets.fashion_mnist.load_data()"
      ],
      "execution_count": 2,
      "outputs": [
        {
          "output_type": "stream",
          "name": "stdout",
          "text": [
            "Downloading data from https://storage.googleapis.com/tensorflow/tf-keras-datasets/train-labels-idx1-ubyte.gz\n",
            "29515/29515 [==============================] - 0s 0us/step\n",
            "Downloading data from https://storage.googleapis.com/tensorflow/tf-keras-datasets/train-images-idx3-ubyte.gz\n",
            "26421880/26421880 [==============================] - 0s 0us/step\n",
            "Downloading data from https://storage.googleapis.com/tensorflow/tf-keras-datasets/t10k-labels-idx1-ubyte.gz\n",
            "5148/5148 [==============================] - 0s 0us/step\n",
            "Downloading data from https://storage.googleapis.com/tensorflow/tf-keras-datasets/t10k-images-idx3-ubyte.gz\n",
            "4422102/4422102 [==============================] - 0s 0us/step\n"
          ]
        }
      ]
    },
    {
      "cell_type": "code",
      "metadata": {
        "id": "sWu2zE_SkVSG",
        "colab": {
          "base_uri": "https://localhost:8080/"
        },
        "outputId": "aa8b4dda-87ef-40c2-fdc6-fa2e367f3c1a"
      },
      "source": [
        "print(train_data.shape, train_labels.shape)"
      ],
      "execution_count": 3,
      "outputs": [
        {
          "output_type": "stream",
          "name": "stdout",
          "text": [
            "(60000, 28, 28) (60000,)\n"
          ]
        }
      ]
    },
    {
      "cell_type": "code",
      "metadata": {
        "id": "mpHEO3i3kutr"
      },
      "source": [
        "train_data, valid_data, train_labels, valid_labels = \\\n",
        "    train_test_split(train_data, train_labels, test_size=0.1, shuffle=True)"
      ],
      "execution_count": 7,
      "outputs": []
    },
    {
      "cell_type": "code",
      "metadata": {
        "id": "9xlXz7RHkvvc",
        "colab": {
          "base_uri": "https://localhost:8080/"
        },
        "outputId": "10996164-7289-40ff-e361-a98369f8d21a"
      },
      "source": [
        "print(train_data.shape, train_labels.shape)"
      ],
      "execution_count": 8,
      "outputs": [
        {
          "output_type": "stream",
          "name": "stdout",
          "text": [
            "(48600, 28, 28) (48600,)\n"
          ]
        }
      ]
    },
    {
      "cell_type": "code",
      "metadata": {
        "id": "h6qbYPmjkz07",
        "colab": {
          "base_uri": "https://localhost:8080/"
        },
        "outputId": "0c122fc5-3cea-480d-e0f9-db251ecd915b"
      },
      "source": [
        "print(valid_data.shape, valid_labels.shape)"
      ],
      "execution_count": 9,
      "outputs": [
        {
          "output_type": "stream",
          "name": "stdout",
          "text": [
            "(5400, 28, 28) (5400,)\n"
          ]
        }
      ]
    },
    {
      "cell_type": "code",
      "metadata": {
        "id": "AOPRVh6QlEAT",
        "colab": {
          "base_uri": "https://localhost:8080/",
          "height": 447
        },
        "outputId": "8d22160c-323f-4f94-86c9-0fb5baa8168c"
      },
      "source": [
        "index = 5001\n",
        "print(\"label = {}\".format(valid_labels[index]))\n",
        "plt.imshow(valid_data[index].reshape(28, 28))\n",
        "plt.colorbar()\n",
        "#plt.gca().grid(False)\n",
        "plt.show()"
      ],
      "execution_count": 12,
      "outputs": [
        {
          "output_type": "stream",
          "name": "stdout",
          "text": [
            "label = 1\n"
          ]
        },
        {
          "output_type": "display_data",
          "data": {
            "text/plain": [
              "<Figure size 640x480 with 2 Axes>"
            ],
            "image/png": "[encoded data removed]"
          },
          "metadata": {}
        }
      ]
    },
    {
      "cell_type": "code",
      "metadata": {
        "id": "4-eGKQNGgfCm",
        "colab": {
          "base_uri": "https://localhost:8080/"
        },
        "outputId": "972f6d20-3008-4cb9-d52f-2ff72d2e17de"
      },
      "source": [
        "train_data = train_data / 255.\n",
        "train_data = train_data.reshape(-1, 28*28)\n",
        "train_data = train_data.astype(np.float32)\n",
        "train_labels = train_labels.astype(np.int32)\n",
        "\n",
        "test_data = test_data / 255.\n",
        "test_data = test_data.reshape(-1, 28*28)\n",
        "test_data = test_data.astype(np.float32)\n",
        "test_labels = test_labels.astype(np.int32)\n",
        "\n",
        "valid_data = valid_data / 255.\n",
        "valid_data = valid_data.reshape(-1, 28*28)\n",
        "valid_data = valid_data.astype(np.float32)\n",
        "valid_labels = valid_labels.astype(np.int32)\n",
        "\n",
        "\n",
        "print(train_data.shape, train_labels.shape)\n",
        "print(test_data.shape, test_labels.shape)\n",
        "print(valid_data.shape, valid_labels.shape)\n"
      ],
      "execution_count": 13,
      "outputs": [
        {
          "output_type": "stream",
          "name": "stdout",
          "text": [
            "(48600, 784) (48600,)\n",
            "(10000, 784) (10000,)\n",
            "(5400, 784) (5400,)\n"
          ]
        }
      ]
    },
    {
      "cell_type": "markdown",
      "metadata": {
        "id": "YqZ7iqFohpPJ"
      },
      "source": [
        "### 학습에 사용할 tf.data.Dataset 구성\n",
        "* 학습에 잘 적용할 수 있도록 label 처리\n",
        "* 데이터셋 구성"
      ]
    },
    {
      "cell_type": "code",
      "metadata": {
        "id": "xmm6PIkGhQ9z"
      },
      "source": [
        "def one_hot_label(image, label):\n",
        "  label = tf.one_hot(label, depth=10)\n",
        "  return image, label"
      ],
      "execution_count": 14,
      "outputs": []
    },
    {
      "cell_type": "code",
      "metadata": {
        "id": "_QewaIZ0hQ92",
        "colab": {
          "base_uri": "https://localhost:8080/"
        },
        "outputId": "63c35c2d-000c-4508-baac-ae7655838af6"
      },
      "source": [
        "batch_size = 32\n",
        "\n",
        "# for train\n",
        "train_dataset = tf.data.Dataset.from_tensor_slices((train_data, train_labels))\n",
        "train_dataset = train_dataset.shuffle(buffer_size=10000)\n",
        "train_dataset = train_dataset.map(one_hot_label)\n",
        "train_dataset = train_dataset.repeat().batch(batch_size=batch_size)\n",
        "print(train_dataset)\n",
        "\n",
        "# for test\n",
        "test_dataset = tf.data.Dataset.from_tensor_slices((test_data, test_labels))\n",
        "test_dataset = test_dataset.map(one_hot_label)\n",
        "test_dataset = test_dataset.batch(batch_size=batch_size)\n",
        "print(test_dataset)\n",
        "\n",
        "# for test\n",
        "valid_dataset = tf.data.Dataset.from_tensor_slices((valid_data, valid_labels))\n",
        "valid_dataset = valid_dataset.map(one_hot_label)\n",
        "valid_dataset = valid_dataset.batch(batch_size=batch_size)\n",
        "print(valid_dataset)\n",
        "\n",
        "# print를 이용하여 정보를 확인하는 것이 중요"
      ],
      "execution_count": 15,
      "outputs": [
        {
          "output_type": "stream",
          "name": "stdout",
          "text": [
            "<_BatchDataset element_spec=(TensorSpec(shape=(None, 784), dtype=tf.float32, name=None), TensorSpec(shape=(None, 10), dtype=tf.float32, name=None))>\n",
            "<_BatchDataset element_spec=(TensorSpec(shape=(None, 784), dtype=tf.float32, name=None), TensorSpec(shape=(None, 10), dtype=tf.float32, name=None))>\n",
            "<_BatchDataset element_spec=(TensorSpec(shape=(None, 784), dtype=tf.float32, name=None), TensorSpec(shape=(None, 10), dtype=tf.float32, name=None))>\n"
          ]
        }
      ]
    },
    {
      "cell_type": "markdown",
      "metadata": {
        "id": "2Nuty9VRhyqh"
      },
      "source": [
        "### 모델 구성"
      ]
    },
    {
      "cell_type": "code",
      "metadata": {
        "id": "rxm7uM4Vg8Y1"
      },
      "source": [
        "# Dense 64 relu\n",
        "# Dense 32 relu\n",
        "# Output Layer\n",
        "# input shape은 실수하는 경우가 많으므로 자동으로 가져오게 하는 편이 좋다.\n",
        "# 28 * 28\n",
        "model = tf.keras.Sequential([\n",
        "    # 학습이 잘 안될때 (학습 시작이 안될때) initializer 사용. layer별로 다 써줘야함.\n",
        "    # BatchNormalization 이용시에도 layer별로 다 써줘야함.\n",
        "    # initial과 BatchNormal을 넣으면, 모델 사이즈는 바뀌지 않아서 성능은 비슷하다. 그러나 학습이 좀 더 빨라짐\n",
        "    layers.Dense(64, kernel_initializer=tf.keras.initializers.HeUniform()),\n",
        "    layers.BatchNormalization(),\n",
        "    layers.Activation('relu'),\n",
        "\n",
        "    layers.Dense(32, kernel_initializer=tf.keras.initializers.HeUniform()),\n",
        "    layers.BatchNormalization(),\n",
        "    layers.Activation('relu'),\n",
        "\n",
        "    layers.Dense(16, kernel_initializer=tf.keras.initializers.HeUniform()),\n",
        "    layers.BatchNormalization(),\n",
        "    layers.Activation('relu'),\n",
        "\n",
        "    layers.Dense(10)\n",
        "])"
      ],
      "execution_count": 27,
      "outputs": []
    },
    {
      "cell_type": "code",
      "metadata": {
        "id": "w5wTN0SdhgUy"
      },
      "source": [
        "# from_logits = True 잊지말기\n",
        "# 1e-4는 러닝메이트?\n",
        "model.compile(optimizer=tf.keras.optimizers.Adam(1e-4),\n",
        "              loss=tf.keras.losses.CategoricalCrossentropy(from_logits=True),\n",
        "              metrics=['accuracy'])"
      ],
      "execution_count": 28,
      "outputs": []
    },
    {
      "cell_type": "code",
      "metadata": {
        "id": "aBiwV68thnJe",
        "colab": {
          "base_uri": "https://localhost:8080/"
        },
        "outputId": "e64ce68c-6cd4-4d1b-d4f6-3dd87dd2c245"
      },
      "source": [
        "# without training, just inference a model in eager execution:\n",
        "predictions = model(train_data[0:1], training=False)\n",
        "print(\"Predictions: \", predictions.numpy())"
      ],
      "execution_count": 29,
      "outputs": [
        {
          "output_type": "stream",
          "name": "stdout",
          "text": [
            "Predictions:  [[ 0.74168813 -1.1307857   0.12827015 -1.3674271   0.02306467  0.4953066\n",
            "   0.4220236   0.6372555  -0.03227621 -0.75174046]]\n"
          ]
        }
      ]
    },
    {
      "cell_type": "code",
      "metadata": {
        "id": "q0yMruVchi4z",
        "colab": {
          "base_uri": "https://localhost:8080/"
        },
        "outputId": "224c6f1a-6ba9-4391-c741-b7aace91ed3d"
      },
      "source": [
        "model.summary()"
      ],
      "execution_count": 30,
      "outputs": [
        {
          "output_type": "stream",
          "name": "stdout",
          "text": [
            "Model: \"sequential_1\"\n",
            "_________________________________________________________________\n",
            " Layer (type)                Output Shape              Param #   \n",
            "=================================================================\n",
            " dense_4 (Dense)             (1, 64)                   50240     \n",
            "                                                                 \n",
            " batch_normalization (Batch  (1, 64)                   256       \n",
            " Normalization)                                                  \n",
            "                                                                 \n",
            " activation (Activation)     (1, 64)                   0         \n",
            "                                                                 \n",
            " dense_5 (Dense)             (1, 32)                   2080      \n",
            "                                                                 \n",
            " batch_normalization_1 (Bat  (1, 32)                   128       \n",
            " chNormalization)                                                \n",
            "                                                                 \n",
            " activation_1 (Activation)   (1, 32)                   0         \n",
            "                                                                 \n",
            " dense_6 (Dense)             (1, 16)                   528       \n",
            "                                                                 \n",
            " batch_normalization_2 (Bat  (1, 16)                   64        \n",
            " chNormalization)                                                \n",
            "                                                                 \n",
            " activation_2 (Activation)   (1, 16)                   0         \n",
            "                                                                 \n",
            " dense_7 (Dense)             (1, 10)                   170       \n",
            "                                                                 \n",
            "=================================================================\n",
            "Total params: 53466 (208.85 KB)\n",
            "Trainable params: 53242 (207.98 KB)\n",
            "Non-trainable params: 224 (896.00 Byte)\n",
            "_________________________________________________________________\n"
          ]
        }
      ]
    },
    {
      "cell_type": "markdown",
      "metadata": {
        "id": "8DOW-3_uh0rF"
      },
      "source": [
        "### 모델 학습 구성"
      ]
    },
    {
      "cell_type": "code",
      "source": [
        "# call back\n",
        "# cp->모델제작\n",
        "check_point_cb = callbacks.ModelCheckpoint('fashion_mnist_model.h5',\n",
        "                                           save_best_only=True,\n",
        "                                           verbose=1)\n",
        "# 학습중단\n",
        "early_stopping_cb = callbacks.EarlyStopping(patience=10,\n",
        "                                            monitor='val_loss',\n",
        "                                            restore_best_weights=True,\n",
        "                                            verbose=1)"
      ],
      "metadata": {
        "id": "Mp_2_AHW0c0t"
      },
      "execution_count": 31,
      "outputs": []
    },
    {
      "cell_type": "code",
      "metadata": {
        "id": "HLqC2Qx6hjFc",
        "colab": {
          "base_uri": "https://localhost:8080/"
        },
        "outputId": "710744e1-355a-4f7d-b3c7-56596249583d"
      },
      "source": [
        "max_epochs = 100\n",
        "# using `tf.data.Dataset`\n",
        "history = model.fit(train_dataset,\n",
        "                    epochs=max_epochs,\n",
        "                    steps_per_epoch=len(train_data) // batch_size,\n",
        "                    validation_data=valid_dataset,\n",
        "                    validation_steps=len(valid_data) // batch_size,\n",
        "                    # list형태로 동작\n",
        "                    callbacks=[check_point_cb, early_stopping_cb]\n",
        "                   )"
      ],
      "execution_count": 32,
      "outputs": [
        {
          "output_type": "stream",
          "name": "stdout",
          "text": [
            "Epoch 1/100\n",
            "1517/1518 [============================>.] - ETA: 0s - loss: 1.2991 - accuracy: 0.6431\n",
            "Epoch 1: val_loss improved from inf to 0.83078, saving model to fashion_mnist_model.h5\n",
            "1518/1518 [==============================] - 14s 7ms/step - loss: 1.2989 - accuracy: 0.6432 - val_loss: 0.8308 - val_accuracy: 0.7982\n",
            "Epoch 2/100\n",
            "  19/1518 [..............................] - ETA: 8s - loss: 0.9480 - accuracy: 0.7516"
          ]
        },
        {
          "output_type": "stream",
          "name": "stderr",
          "text": [
            "/usr/local/lib/python3.10/dist-packages/keras/src/engine/training.py:3103: UserWarning: You are saving your model as an HDF5 file via `model.save()`. This file format is considered legacy. We recommend using instead the native Keras format, e.g. `model.save('my_model.keras')`.\n",
            "  saving_api.save_model(\n"
          ]
        },
        {
          "output_type": "stream",
          "name": "stdout",
          "text": [
            "1518/1518 [==============================] - ETA: 0s - loss: 0.7575 - accuracy: 0.8033\n",
            "Epoch 2: val_loss improved from 0.83078 to 0.58105, saving model to fashion_mnist_model.h5\n",
            "1518/1518 [==============================] - 11s 7ms/step - loss: 0.7575 - accuracy: 0.8033 - val_loss: 0.5810 - val_accuracy: 0.8387\n",
            "Epoch 3/100\n",
            "1511/1518 [============================>.] - ETA: 0s - loss: 0.5696 - accuracy: 0.8308\n",
            "Epoch 3: val_loss improved from 0.58105 to 0.46447, saving model to fashion_mnist_model.h5\n",
            "1518/1518 [==============================] - 10s 6ms/step - loss: 0.5695 - accuracy: 0.8307 - val_loss: 0.4645 - val_accuracy: 0.8531\n",
            "Epoch 4/100\n",
            "1515/1518 [============================>.] - ETA: 0s - loss: 0.4823 - accuracy: 0.8457\n",
            "Epoch 4: val_loss improved from 0.46447 to 0.41586, saving model to fashion_mnist_model.h5\n",
            "1518/1518 [==============================] - 12s 8ms/step - loss: 0.4826 - accuracy: 0.8456 - val_loss: 0.4159 - val_accuracy: 0.8607\n",
            "Epoch 5/100\n",
            "1517/1518 [============================>.] - ETA: 0s - loss: 0.4390 - accuracy: 0.8536\n",
            "Epoch 5: val_loss improved from 0.41586 to 0.38560, saving model to fashion_mnist_model.h5\n",
            "1518/1518 [==============================] - 12s 8ms/step - loss: 0.4391 - accuracy: 0.8535 - val_loss: 0.3856 - val_accuracy: 0.8683\n",
            "Epoch 6/100\n",
            "1512/1518 [============================>.] - ETA: 0s - loss: 0.4059 - accuracy: 0.8614\n",
            "Epoch 6: val_loss improved from 0.38560 to 0.38486, saving model to fashion_mnist_model.h5\n",
            "1518/1518 [==============================] - 11s 7ms/step - loss: 0.4059 - accuracy: 0.8614 - val_loss: 0.3849 - val_accuracy: 0.8653\n",
            "Epoch 7/100\n",
            "1518/1518 [==============================] - ETA: 0s - loss: 0.3861 - accuracy: 0.8667\n",
            "Epoch 7: val_loss improved from 0.38486 to 0.36803, saving model to fashion_mnist_model.h5\n",
            "1518/1518 [==============================] - 11s 7ms/step - loss: 0.3861 - accuracy: 0.8667 - val_loss: 0.3680 - val_accuracy: 0.8741\n",
            "Epoch 8/100\n",
            "1515/1518 [============================>.] - ETA: 0s - loss: 0.3723 - accuracy: 0.8708\n",
            "Epoch 8: val_loss improved from 0.36803 to 0.35152, saving model to fashion_mnist_model.h5\n",
            "1518/1518 [==============================] - 11s 7ms/step - loss: 0.3723 - accuracy: 0.8707 - val_loss: 0.3515 - val_accuracy: 0.8778\n",
            "Epoch 9/100\n",
            "1514/1518 [============================>.] - ETA: 0s - loss: 0.3582 - accuracy: 0.8751\n",
            "Epoch 9: val_loss improved from 0.35152 to 0.35087, saving model to fashion_mnist_model.h5\n",
            "1518/1518 [==============================] - 18s 12ms/step - loss: 0.3581 - accuracy: 0.8751 - val_loss: 0.3509 - val_accuracy: 0.8756\n",
            "Epoch 10/100\n",
            "1516/1518 [============================>.] - ETA: 0s - loss: 0.3491 - accuracy: 0.8771\n",
            "Epoch 10: val_loss improved from 0.35087 to 0.34495, saving model to fashion_mnist_model.h5\n",
            "1518/1518 [==============================] - 13s 9ms/step - loss: 0.3490 - accuracy: 0.8772 - val_loss: 0.3449 - val_accuracy: 0.8802\n",
            "Epoch 11/100\n",
            "1511/1518 [============================>.] - ETA: 0s - loss: 0.3384 - accuracy: 0.8806\n",
            "Epoch 11: val_loss did not improve from 0.34495\n",
            "1518/1518 [==============================] - 10s 7ms/step - loss: 0.3386 - accuracy: 0.8807 - val_loss: 0.3530 - val_accuracy: 0.8806\n",
            "Epoch 12/100\n",
            "1516/1518 [============================>.] - ETA: 0s - loss: 0.3296 - accuracy: 0.8821\n",
            "Epoch 12: val_loss improved from 0.34495 to 0.33500, saving model to fashion_mnist_model.h5\n",
            "1518/1518 [==============================] - 11s 7ms/step - loss: 0.3296 - accuracy: 0.8820 - val_loss: 0.3350 - val_accuracy: 0.8815\n",
            "Epoch 13/100\n",
            "1512/1518 [============================>.] - ETA: 0s - loss: 0.3213 - accuracy: 0.8853\n",
            "Epoch 13: val_loss improved from 0.33500 to 0.33415, saving model to fashion_mnist_model.h5\n",
            "1518/1518 [==============================] - 10s 7ms/step - loss: 0.3216 - accuracy: 0.8852 - val_loss: 0.3342 - val_accuracy: 0.8808\n",
            "Epoch 14/100\n",
            "1512/1518 [============================>.] - ETA: 0s - loss: 0.3153 - accuracy: 0.8871\n",
            "Epoch 14: val_loss did not improve from 0.33415\n",
            "1518/1518 [==============================] - 10s 7ms/step - loss: 0.3153 - accuracy: 0.8870 - val_loss: 0.3456 - val_accuracy: 0.8810\n",
            "Epoch 15/100\n",
            "1513/1518 [============================>.] - ETA: 0s - loss: 0.3078 - accuracy: 0.8915\n",
            "Epoch 15: val_loss improved from 0.33415 to 0.33185, saving model to fashion_mnist_model.h5\n",
            "1518/1518 [==============================] - 11s 7ms/step - loss: 0.3083 - accuracy: 0.8913 - val_loss: 0.3319 - val_accuracy: 0.8860\n",
            "Epoch 16/100\n",
            "1517/1518 [============================>.] - ETA: 0s - loss: 0.3002 - accuracy: 0.8933\n",
            "Epoch 16: val_loss did not improve from 0.33185\n",
            "1518/1518 [==============================] - 11s 7ms/step - loss: 0.3003 - accuracy: 0.8933 - val_loss: 0.3328 - val_accuracy: 0.8832\n",
            "Epoch 17/100\n",
            "1516/1518 [============================>.] - ETA: 0s - loss: 0.2966 - accuracy: 0.8938\n",
            "Epoch 17: val_loss did not improve from 0.33185\n",
            "1518/1518 [==============================] - 10s 7ms/step - loss: 0.2966 - accuracy: 0.8938 - val_loss: 0.3404 - val_accuracy: 0.8823\n",
            "Epoch 18/100\n",
            "1515/1518 [============================>.] - ETA: 0s - loss: 0.2946 - accuracy: 0.8943\n",
            "Epoch 18: val_loss did not improve from 0.33185\n",
            "1518/1518 [==============================] - 10s 6ms/step - loss: 0.2943 - accuracy: 0.8944 - val_loss: 0.3395 - val_accuracy: 0.8817\n",
            "Epoch 19/100\n",
            "1515/1518 [============================>.] - ETA: 0s - loss: 0.2857 - accuracy: 0.8974\n",
            "Epoch 19: val_loss did not improve from 0.33185\n",
            "1518/1518 [==============================] - 11s 7ms/step - loss: 0.2859 - accuracy: 0.8973 - val_loss: 0.3319 - val_accuracy: 0.8847\n",
            "Epoch 20/100\n",
            "1516/1518 [============================>.] - ETA: 0s - loss: 0.2798 - accuracy: 0.8988\n",
            "Epoch 20: val_loss did not improve from 0.33185\n",
            "1518/1518 [==============================] - 11s 7ms/step - loss: 0.2796 - accuracy: 0.8989 - val_loss: 0.3425 - val_accuracy: 0.8847\n",
            "Epoch 21/100\n",
            "1518/1518 [==============================] - ETA: 0s - loss: 0.2789 - accuracy: 0.8981\n",
            "Epoch 21: val_loss did not improve from 0.33185\n",
            "1518/1518 [==============================] - 10s 7ms/step - loss: 0.2789 - accuracy: 0.8981 - val_loss: 0.3610 - val_accuracy: 0.8802\n",
            "Epoch 22/100\n",
            "1515/1518 [============================>.] - ETA: 0s - loss: 0.2728 - accuracy: 0.9010\n",
            "Epoch 22: val_loss improved from 0.33185 to 0.33136, saving model to fashion_mnist_model.h5\n",
            "1518/1518 [==============================] - 11s 7ms/step - loss: 0.2726 - accuracy: 0.9011 - val_loss: 0.3314 - val_accuracy: 0.8886\n",
            "Epoch 23/100\n",
            "1513/1518 [============================>.] - ETA: 0s - loss: 0.2717 - accuracy: 0.9021\n",
            "Epoch 23: val_loss improved from 0.33136 to 0.32719, saving model to fashion_mnist_model.h5\n",
            "1518/1518 [==============================] - 10s 6ms/step - loss: 0.2717 - accuracy: 0.9021 - val_loss: 0.3272 - val_accuracy: 0.8906\n",
            "Epoch 24/100\n",
            "1510/1518 [============================>.] - ETA: 0s - loss: 0.2642 - accuracy: 0.9039\n",
            "Epoch 24: val_loss did not improve from 0.32719\n",
            "1518/1518 [==============================] - 11s 7ms/step - loss: 0.2639 - accuracy: 0.9040 - val_loss: 0.3521 - val_accuracy: 0.8787\n",
            "Epoch 25/100\n",
            "1515/1518 [============================>.] - ETA: 0s - loss: 0.2652 - accuracy: 0.9032\n",
            "Epoch 25: val_loss improved from 0.32719 to 0.32692, saving model to fashion_mnist_model.h5\n",
            "1518/1518 [==============================] - 11s 7ms/step - loss: 0.2652 - accuracy: 0.9032 - val_loss: 0.3269 - val_accuracy: 0.8886\n",
            "Epoch 26/100\n",
            "1514/1518 [============================>.] - ETA: 0s - loss: 0.2590 - accuracy: 0.9048\n",
            "Epoch 26: val_loss did not improve from 0.32692\n",
            "1518/1518 [==============================] - 11s 7ms/step - loss: 0.2591 - accuracy: 0.9047 - val_loss: 0.3353 - val_accuracy: 0.8860\n",
            "Epoch 27/100\n",
            "1514/1518 [============================>.] - ETA: 0s - loss: 0.2501 - accuracy: 0.9090\n",
            "Epoch 27: val_loss improved from 0.32692 to 0.32489, saving model to fashion_mnist_model.h5\n",
            "1518/1518 [==============================] - 11s 7ms/step - loss: 0.2504 - accuracy: 0.9089 - val_loss: 0.3249 - val_accuracy: 0.8880\n",
            "Epoch 28/100\n",
            "1516/1518 [============================>.] - ETA: 0s - loss: 0.2517 - accuracy: 0.9085\n",
            "Epoch 28: val_loss did not improve from 0.32489\n",
            "1518/1518 [==============================] - 11s 7ms/step - loss: 0.2516 - accuracy: 0.9085 - val_loss: 0.3262 - val_accuracy: 0.8895\n",
            "Epoch 29/100\n",
            "1516/1518 [============================>.] - ETA: 0s - loss: 0.2480 - accuracy: 0.9096\n",
            "Epoch 29: val_loss improved from 0.32489 to 0.32347, saving model to fashion_mnist_model.h5\n",
            "1518/1518 [==============================] - 10s 7ms/step - loss: 0.2481 - accuracy: 0.9096 - val_loss: 0.3235 - val_accuracy: 0.8886\n",
            "Epoch 30/100\n",
            "1517/1518 [============================>.] - ETA: 0s - loss: 0.2465 - accuracy: 0.9110\n",
            "Epoch 30: val_loss did not improve from 0.32347\n",
            "1518/1518 [==============================] - 11s 7ms/step - loss: 0.2464 - accuracy: 0.9110 - val_loss: 0.3334 - val_accuracy: 0.8878\n",
            "Epoch 31/100\n",
            "1515/1518 [============================>.] - ETA: 0s - loss: 0.2395 - accuracy: 0.9133\n",
            "Epoch 31: val_loss improved from 0.32347 to 0.32306, saving model to fashion_mnist_model.h5\n",
            "1518/1518 [==============================] - 11s 7ms/step - loss: 0.2396 - accuracy: 0.9133 - val_loss: 0.3231 - val_accuracy: 0.8904\n",
            "Epoch 32/100\n",
            "1514/1518 [============================>.] - ETA: 0s - loss: 0.2385 - accuracy: 0.9123\n",
            "Epoch 32: val_loss did not improve from 0.32306\n",
            "1518/1518 [==============================] - 11s 7ms/step - loss: 0.2384 - accuracy: 0.9123 - val_loss: 0.3347 - val_accuracy: 0.8837\n",
            "Epoch 33/100\n",
            "1514/1518 [============================>.] - ETA: 0s - loss: 0.2366 - accuracy: 0.9132\n",
            "Epoch 33: val_loss did not improve from 0.32306\n",
            "1518/1518 [==============================] - 11s 7ms/step - loss: 0.2368 - accuracy: 0.9130 - val_loss: 0.3329 - val_accuracy: 0.8869\n",
            "Epoch 34/100\n",
            "1511/1518 [============================>.] - ETA: 0s - loss: 0.2365 - accuracy: 0.9132\n",
            "Epoch 34: val_loss did not improve from 0.32306\n",
            "1518/1518 [==============================] - 10s 6ms/step - loss: 0.2364 - accuracy: 0.9133 - val_loss: 0.3271 - val_accuracy: 0.8878\n",
            "Epoch 35/100\n",
            "1512/1518 [============================>.] - ETA: 0s - loss: 0.2314 - accuracy: 0.9151\n",
            "Epoch 35: val_loss did not improve from 0.32306\n",
            "1518/1518 [==============================] - 11s 7ms/step - loss: 0.2315 - accuracy: 0.9150 - val_loss: 0.3382 - val_accuracy: 0.8867\n",
            "Epoch 36/100\n",
            "1516/1518 [============================>.] - ETA: 0s - loss: 0.2276 - accuracy: 0.9182\n",
            "Epoch 36: val_loss did not improve from 0.32306\n",
            "1518/1518 [==============================] - 11s 7ms/step - loss: 0.2278 - accuracy: 0.9182 - val_loss: 0.3455 - val_accuracy: 0.8860\n",
            "Epoch 37/100\n",
            "1516/1518 [============================>.] - ETA: 0s - loss: 0.2255 - accuracy: 0.9178\n",
            "Epoch 37: val_loss did not improve from 0.32306\n",
            "1518/1518 [==============================] - 12s 8ms/step - loss: 0.2255 - accuracy: 0.9179 - val_loss: 0.3427 - val_accuracy: 0.8888\n",
            "Epoch 38/100\n",
            "1518/1518 [==============================] - ETA: 0s - loss: 0.2276 - accuracy: 0.9168\n",
            "Epoch 38: val_loss did not improve from 0.32306\n",
            "1518/1518 [==============================] - 12s 8ms/step - loss: 0.2276 - accuracy: 0.9168 - val_loss: 0.3357 - val_accuracy: 0.8871\n",
            "Epoch 39/100\n",
            "1515/1518 [============================>.] - ETA: 0s - loss: 0.2230 - accuracy: 0.9186\n",
            "Epoch 39: val_loss did not improve from 0.32306\n",
            "1518/1518 [==============================] - 12s 8ms/step - loss: 0.2228 - accuracy: 0.9188 - val_loss: 0.3459 - val_accuracy: 0.8852\n",
            "Epoch 40/100\n",
            "1515/1518 [============================>.] - ETA: 0s - loss: 0.2205 - accuracy: 0.9193\n",
            "Epoch 40: val_loss did not improve from 0.32306\n",
            "1518/1518 [==============================] - 12s 8ms/step - loss: 0.2205 - accuracy: 0.9194 - val_loss: 0.3382 - val_accuracy: 0.8875\n",
            "Epoch 41/100\n",
            "1513/1518 [============================>.] - ETA: 0s - loss: 0.2136 - accuracy: 0.9214\n",
            "Epoch 41: val_loss did not improve from 0.32306\n",
            "Restoring model weights from the end of the best epoch: 31.\n",
            "1518/1518 [==============================] - 10s 7ms/step - loss: 0.2140 - accuracy: 0.9213 - val_loss: 0.3475 - val_accuracy: 0.8850\n",
            "Epoch 41: early stopping\n"
          ]
        }
      ]
    },
    {
      "cell_type": "code",
      "metadata": {
        "id": "P5ZcVB42hqDE",
        "colab": {
          "base_uri": "https://localhost:8080/",
          "height": 699
        },
        "outputId": "70307e5a-ca95-4136-e2e8-dfe3ccfe2a84"
      },
      "source": [
        "# 그래프에서 1)학습이 잘되었는지 확인 2)overfitting 발생여부 3)개선방향\n",
        "acc = history.history['accuracy']\n",
        "val_acc = history.history['val_accuracy']\n",
        "\n",
        "loss = history.history['loss']\n",
        "val_loss = history.history['val_loss']\n",
        "\n",
        "epochs_range = range(len(acc))\n",
        "\n",
        "plt.figure(figsize=(8, 8))\n",
        "plt.subplot(1, 2, 1)\n",
        "plt.plot(epochs_range, acc, label='Training Accuracy')\n",
        "plt.plot(epochs_range, val_acc, label='Validation Accuracy')\n",
        "plt.legend(loc='lower right')\n",
        "plt.title('Training and Valid Accuracy')\n",
        "\n",
        "plt.subplot(1, 2, 2)\n",
        "plt.plot(epochs_range, loss, label='Training Loss')\n",
        "plt.plot(epochs_range, val_loss, label='Validation Loss')\n",
        "plt.legend(loc='upper right')\n",
        "plt.title('Training and Valid Loss')\n",
        "plt.show()"
      ],
      "execution_count": 33,
      "outputs": [
        {
          "output_type": "display_data",
          "data": {
            "text/plain": [
              "<Figure size 800x800 with 2 Axes>"
            ],
            "image/png": "[encoded data removed]"
          },
          "metadata": {}
        }
      ]
    },
    {
      "cell_type": "code",
      "metadata": {
        "id": "MIfLiTlehtAC",
        "colab": {
          "base_uri": "https://localhost:8080/"
        },
        "outputId": "202b8633-5f85-47bb-fe6e-04e2748b716a"
      },
      "source": [
        "results = model.evaluate(test_dataset)"
      ],
      "execution_count": 34,
      "outputs": [
        {
          "output_type": "stream",
          "name": "stdout",
          "text": [
            "313/313 [==============================] - 1s 3ms/step - loss: 0.3571 - accuracy: 0.8771\n"
          ]
        }
      ]
    },
    {
      "cell_type": "code",
      "metadata": {
        "id": "nrwS9PJ6hxlm"
      },
      "source": [],
      "execution_count": 59,
      "outputs": []
    }
  ]
}