{
  "nbformat": 4,
  "nbformat_minor": 0,
  "metadata": {
    "colab": {
      "provenance": [],
      "include_colab_link": true
    },
    "kernelspec": {
      "display_name": "Python 3",
      "language": "python",
      "name": "python3"
    },
    "language_info": {
      "codemirror_mode": {
        "name": "ipython",
        "version": 3
      },
      "file_extension": ".py",
      "mimetype": "text/x-python",
      "name": "python",
      "nbconvert_exporter": "python",
      "pygments_lexer": "ipython3",
      "version": "3.6.8"
    },
    "accelerator": "GPU"
  },
  "cells": [
    {
      "cell_type": "markdown",
      "metadata": {
        "id": "view-in-github",
        "colab_type": "text"
      },
      "source": [
        "<a href=\"https://colab.research.google.com/github/yusica09/seoul-AI-hub-study/blob/main/2%EC%A3%BC%EC%B0%A8/Q5_fashion_MNIST_keras(%2Binitialize).ipynb\" target=\"_parent\"><img src=\"https://colab.research.google.com/assets/colab-badge.svg\" alt=\"Open In Colab\"/></a>"
      ]
    },
    {
      "cell_type": "code",
      "metadata": {
        "id": "TCKHChmFfyVL",
        "colab": {
          "base_uri": "https://localhost:8080/",
          "height": 35
        },
        "outputId": "4b234b40-0898-417f-ae16-eebc26807562"
      },
      "source": [
        "import tensorflow as tf\n",
        "from tensorflow.keras import layers\n",
        "from tensorflow.keras import callbacks\n",
        "\n",
        "from sklearn.model_selection import train_test_split\n",
        "\n",
        "import numpy as np\n",
        "import matplotlib.pyplot as plt\n",
        "\n",
        "tf.__version__"
      ],
      "execution_count": 1,
      "outputs": [
        {
          "output_type": "execute_result",
          "data": {
            "text/plain": [
              "'2.15.0'"
            ],
            "application/vnd.google.colaboratory.intrinsic+json": {
              "type": "string"
            }
          },
          "metadata": {},
          "execution_count": 1
        }
      ]
    },
    {
      "cell_type": "markdown",
      "metadata": {
        "id": "o2GvLGzZhicw"
      },
      "source": [
        "### 데이터 로드\n",
        "* TF에서 제공하는 데이터셋을 load해 간단한 전처리 진행"
      ]
    },
    {
      "cell_type": "code",
      "metadata": {
        "id": "Vem5Yu6nkT3b",
        "colab": {
          "base_uri": "https://localhost:8080/"
        },
        "outputId": "c3af72dc-5db5-4edd-a0a8-31bda9895525"
      },
      "source": [
        "# Load training and eval data from tf.keras\n",
        "(train_data, train_labels), (test_data, test_labels) = \\\n",
        "    tf.keras.datasets.fashion_mnist.load_data()"
      ],
      "execution_count": 2,
      "outputs": [
        {
          "output_type": "stream",
          "name": "stdout",
          "text": [
            "Downloading data from https://storage.googleapis.com/tensorflow/tf-keras-datasets/train-labels-idx1-ubyte.gz\n",
            "29515/29515 [==============================] - 0s 0us/step\n",
            "Downloading data from https://storage.googleapis.com/tensorflow/tf-keras-datasets/train-images-idx3-ubyte.gz\n",
            "26421880/26421880 [==============================] - 0s 0us/step\n",
            "Downloading data from https://storage.googleapis.com/tensorflow/tf-keras-datasets/t10k-labels-idx1-ubyte.gz\n",
            "5148/5148 [==============================] - 0s 0us/step\n",
            "Downloading data from https://storage.googleapis.com/tensorflow/tf-keras-datasets/t10k-images-idx3-ubyte.gz\n",
            "4422102/4422102 [==============================] - 0s 0us/step\n"
          ]
        }
      ]
    },
    {
      "cell_type": "code",
      "metadata": {
        "id": "sWu2zE_SkVSG",
        "colab": {
          "base_uri": "https://localhost:8080/"
        },
        "outputId": "aa8b4dda-87ef-40c2-fdc6-fa2e367f3c1a"
      },
      "source": [
        "print(train_data.shape, train_labels.shape)"
      ],
      "execution_count": 3,
      "outputs": [
        {
          "output_type": "stream",
          "name": "stdout",
          "text": [
            "(60000, 28, 28) (60000,)\n"
          ]
        }
      ]
    },
    {
      "cell_type": "code",
      "metadata": {
        "id": "mpHEO3i3kutr"
      },
      "source": [
        "train_data, valid_data, train_labels, valid_labels = \\\n",
        "    train_test_split(train_data, train_labels, test_size=0.1, shuffle=True)"
      ],
      "execution_count": 7,
      "outputs": []
    },
    {
      "cell_type": "code",
      "metadata": {
        "id": "9xlXz7RHkvvc",
        "colab": {
          "base_uri": "https://localhost:8080/"
        },
        "outputId": "10996164-7289-40ff-e361-a98369f8d21a"
      },
      "source": [
        "print(train_data.shape, train_labels.shape)"
      ],
      "execution_count": 8,
      "outputs": [
        {
          "output_type": "stream",
          "name": "stdout",
          "text": [
            "(48600, 28, 28) (48600,)\n"
          ]
        }
      ]
    },
    {
      "cell_type": "code",
      "metadata": {
        "id": "h6qbYPmjkz07",
        "colab": {
          "base_uri": "https://localhost:8080/"
        },
        "outputId": "0c122fc5-3cea-480d-e0f9-db251ecd915b"
      },
      "source": [
        "print(valid_data.shape, valid_labels.shape)"
      ],
      "execution_count": 9,
      "outputs": [
        {
          "output_type": "stream",
          "name": "stdout",
          "text": [
            "(5400, 28, 28) (5400,)\n"
          ]
        }
      ]
    },
    {
      "cell_type": "code",
      "metadata": {
        "id": "AOPRVh6QlEAT",
        "colab": {
          "base_uri": "https://localhost:8080/",
          "height": 447
        },
        "outputId": "8d22160c-323f-4f94-86c9-0fb5baa8168c"
      },
      "source": [
        "index = 5001\n",
        "print(\"label = {}\".format(valid_labels[index]))\n",
        "plt.imshow(valid_data[index].reshape(28, 28))\n",
        "plt.colorbar()\n",
        "#plt.gca().grid(False)\n",
        "plt.show()"
      ],
      "execution_count": 12,
      "outputs": [
        {
          "output_type": "stream",
          "name": "stdout",
          "text": [
            "label = 1\n"
          ]
        },
        {
          "output_type": "display_data",
          "data": {
            "text/plain": [
              "<Figure size 640x480 with 2 Axes>"
            ],
            "image/png": "[encoded data removed]"
          },
          "metadata": {}
        }
      ]
    },
    {
      "cell_type": "code",
      "metadata": {
        "id": "4-eGKQNGgfCm",
        "colab": {
          "base_uri": "https://localhost:8080/"
        },
        "outputId": "972f6d20-3008-4cb9-d52f-2ff72d2e17de"
      },
      "source": [
        "train_data = train_data / 255.\n",
        "train_data = train_data.reshape(-1, 28*28)\n",
        "train_data = train_data.astype(np.float32)\n",
        "train_labels = train_labels.astype(np.int32)\n",
        "\n",
        "test_data = test_data / 255.\n",
        "test_data = test_data.reshape(-1, 28*28)\n",
        "test_data = test_data.astype(np.float32)\n",
        "test_labels = test_labels.astype(np.int32)\n",
        "\n",
        "valid_data = valid_data / 255.\n",
        "valid_data = valid_data.reshape(-1, 28*28)\n",
        "valid_data = valid_data.astype(np.float32)\n",
        "valid_labels = valid_labels.astype(np.int32)\n",
        "\n",
        "\n",
        "print(train_data.shape, train_labels.shape)\n",
        "print(test_data.shape, test_labels.shape)\n",
        "print(valid_data.shape, valid_labels.shape)\n"
      ],
      "execution_count": 13,
      "outputs": [
        {
          "output_type": "stream",
          "name": "stdout",
          "text": [
            "(48600, 784) (48600,)\n",
            "(10000, 784) (10000,)\n",
            "(5400, 784) (5400,)\n"
          ]
        }
      ]
    },
    {
      "cell_type": "markdown",
      "metadata": {
        "id": "YqZ7iqFohpPJ"
      },
      "source": [
        "### 학습에 사용할 tf.data.Dataset 구성\n",
        "* 학습에 잘 적용할 수 있도록 label 처리\n",
        "* 데이터셋 구성"
      ]
    },
    {
      "cell_type": "code",
      "metadata": {
        "id": "xmm6PIkGhQ9z"
      },
      "source": [
        "def one_hot_label(image, label):\n",
        "  label = tf.one_hot(label, depth=10)\n",
        "  return image, label"
      ],
      "execution_count": 14,
      "outputs": []
    },
    {
      "cell_type": "code",
      "metadata": {
        "id": "_QewaIZ0hQ92",
        "colab": {
          "base_uri": "https://localhost:8080/"
        },
        "outputId": "63c35c2d-000c-4508-baac-ae7655838af6"
      },
      "source": [
        "batch_size = 32\n",
        "\n",
        "# for train\n",
        "train_dataset = tf.data.Dataset.from_tensor_slices((train_data, train_labels))\n",
        "train_dataset = train_dataset.shuffle(buffer_size=10000)\n",
        "train_dataset = train_dataset.map(one_hot_label)\n",
        "train_dataset = train_dataset.repeat().batch(batch_size=batch_size)\n",
        "print(train_dataset)\n",
        "\n",
        "# for test\n",
        "test_dataset = tf.data.Dataset.from_tensor_slices((test_data, test_labels))\n",
        "test_dataset = test_dataset.map(one_hot_label)\n",
        "test_dataset = test_dataset.batch(batch_size=batch_size)\n",
        "print(test_dataset)\n",
        "\n",
        "# for test\n",
        "valid_dataset = tf.data.Dataset.from_tensor_slices((valid_data, valid_labels))\n",
        "valid_dataset = valid_dataset.map(one_hot_label)\n",
        "valid_dataset = valid_dataset.batch(batch_size=batch_size)\n",
        "print(valid_dataset)\n",
        "\n",
        "# print를 이용하여 정보를 확인하는 것이 중요"
      ],
      "execution_count": 15,
      "outputs": [
        {
          "output_type": "stream",
          "name": "stdout",
          "text": [
            "<_BatchDataset element_spec=(TensorSpec(shape=(None, 784), dtype=tf.float32, name=None), TensorSpec(shape=(None, 10), dtype=tf.float32, name=None))>\n",
            "<_BatchDataset element_spec=(TensorSpec(shape=(None, 784), dtype=tf.float32, name=None), TensorSpec(shape=(None, 10), dtype=tf.float32, name=None))>\n",
            "<_BatchDataset element_spec=(TensorSpec(shape=(None, 784), dtype=tf.float32, name=None), TensorSpec(shape=(None, 10), dtype=tf.float32, name=None))>\n"
          ]
        }
      ]
    },
    {
      "cell_type": "markdown",
      "metadata": {
        "id": "2Nuty9VRhyqh"
      },
      "source": [
        "### 모델 구성"
      ]
    },
    {
      "cell_type": "code",
      "metadata": {
        "id": "rxm7uM4Vg8Y1"
      },
      "source": [
        "# Dense 64 relu\n",
        "# Dense 32 relu\n",
        "# Output Layer\n",
        "# input shape은 실수하는 경우가 많으므로 자동으로 가져오게 하는 편이 좋다.\n",
        "# 28 * 28\n",
        "model = tf.keras.Sequential([\n",
        "    # 학습이 잘 안될때 (학습 시작이 안될때) initializer 사용. layer별로 다 써줘야함\n",
        "    layers.Dense(64, activation='relu', kernel_initializer=tf.keras.initializers.HeUniform()),\n",
        "    layers.Dense(32, activation='relu', kernel_initializer=tf.keras.initializers.HeUniform()),\n",
        "    layers.Dense(16, activation='relu', kernel_initializer=tf.keras.initializers.HeUniform()),\n",
        "    layers.Dense(10)\n",
        "])"
      ],
      "execution_count": 19,
      "outputs": []
    },
    {
      "cell_type": "code",
      "metadata": {
        "id": "w5wTN0SdhgUy"
      },
      "source": [
        "# from_logits = True 잊지말기\n",
        "model.compile(optimizer=tf.keras.optimizers.Adam(1e-4),\n",
        "              loss=tf.keras.losses.CategoricalCrossentropy(from_logits=True),\n",
        "              metrics=['accuracy'])"
      ],
      "execution_count": 20,
      "outputs": []
    },
    {
      "cell_type": "code",
      "metadata": {
        "id": "aBiwV68thnJe",
        "colab": {
          "base_uri": "https://localhost:8080/"
        },
        "outputId": "0396af0a-8553-4f86-f8b4-1b03c4364647"
      },
      "source": [
        "# without training, just inference a model in eager execution:\n",
        "predictions = model(train_data[0:1], training=False)\n",
        "print(\"Predictions: \", predictions.numpy())"
      ],
      "execution_count": 21,
      "outputs": [
        {
          "output_type": "stream",
          "name": "stdout",
          "text": [
            "Predictions:  [[ 0.78640056  0.4220591   0.02465916  0.9261334  -0.12773864  0.38868362\n",
            "  -0.06126451 -0.45879823 -0.10224664  0.05816257]]\n"
          ]
        }
      ]
    },
    {
      "cell_type": "code",
      "metadata": {
        "id": "q0yMruVchi4z",
        "colab": {
          "base_uri": "https://localhost:8080/"
        },
        "outputId": "5eeb3128-17b4-4928-8cb6-078f9a0ab3e1"
      },
      "source": [
        "model.summary()"
      ],
      "execution_count": 22,
      "outputs": [
        {
          "output_type": "stream",
          "name": "stdout",
          "text": [
            "Model: \"sequential\"\n",
            "_________________________________________________________________\n",
            " Layer (type)                Output Shape              Param #   \n",
            "=================================================================\n",
            " dense (Dense)               (1, 64)                   50240     \n",
            "                                                                 \n",
            " dense_1 (Dense)             (1, 32)                   2080      \n",
            "                                                                 \n",
            " dense_2 (Dense)             (1, 16)                   528       \n",
            "                                                                 \n",
            " dense_3 (Dense)             (1, 10)                   170       \n",
            "                                                                 \n",
            "=================================================================\n",
            "Total params: 53018 (207.10 KB)\n",
            "Trainable params: 53018 (207.10 KB)\n",
            "Non-trainable params: 0 (0.00 Byte)\n",
            "_________________________________________________________________\n"
          ]
        }
      ]
    },
    {
      "cell_type": "markdown",
      "metadata": {
        "id": "8DOW-3_uh0rF"
      },
      "source": [
        "### 모델 학습 구성"
      ]
    },
    {
      "cell_type": "code",
      "source": [
        "check_point_cb = callbacks.ModelCheckpoint('fashion_mnist_model.h5',\n",
        "                                           save_best_only=True,\n",
        "                                           verbose=1)\n",
        "early_stopping_cb = callbacks.EarlyStopping(patience=10,\n",
        "                                            monitor='val_loss',\n",
        "                                            restore_best_weights=True,\n",
        "                                            verbose=1)"
      ],
      "metadata": {
        "id": "Mp_2_AHW0c0t"
      },
      "execution_count": 23,
      "outputs": []
    },
    {
      "cell_type": "code",
      "metadata": {
        "id": "HLqC2Qx6hjFc",
        "colab": {
          "base_uri": "https://localhost:8080/"
        },
        "outputId": "8574e292-0586-44f9-a240-11cc881a92d8"
      },
      "source": [
        "max_epochs = 100\n",
        "# using `tf.data.Dataset`\n",
        "history = model.fit(train_dataset,\n",
        "                    epochs=max_epochs,\n",
        "                    steps_per_epoch=len(train_data) // batch_size,\n",
        "                    validation_data=valid_dataset,\n",
        "                    validation_steps=len(valid_data) // batch_size,\n",
        "                    callbacks=[check_point_cb, early_stopping_cb]\n",
        "                   )"
      ],
      "execution_count": 24,
      "outputs": [
        {
          "output_type": "stream",
          "name": "stdout",
          "text": [
            "Epoch 1/100\n",
            "1518/1518 [==============================] - ETA: 0s - loss: 0.8749 - accuracy: 0.7177\n",
            "Epoch 1: val_loss improved from inf to 0.57521, saving model to fashion_mnist_model.h5\n",
            "1518/1518 [==============================] - 9s 5ms/step - loss: 0.8749 - accuracy: 0.7177 - val_loss: 0.5752 - val_accuracy: 0.8136\n",
            "Epoch 2/100\n",
            "  40/1518 [..............................] - ETA: 5s - loss: 0.5458 - accuracy: 0.8297"
          ]
        },
        {
          "output_type": "stream",
          "name": "stderr",
          "text": [
            "/usr/local/lib/python3.10/dist-packages/keras/src/engine/training.py:3103: UserWarning: You are saving your model as an HDF5 file via `model.save()`. This file format is considered legacy. We recommend using instead the native Keras format, e.g. `model.save('my_model.keras')`.\n",
            "  saving_api.save_model(\n"
          ]
        },
        {
          "output_type": "stream",
          "name": "stdout",
          "text": [
            "1514/1518 [============================>.] - ETA: 0s - loss: 0.5197 - accuracy: 0.8273\n",
            "Epoch 2: val_loss improved from 0.57521 to 0.48454, saving model to fashion_mnist_model.h5\n",
            "1518/1518 [==============================] - 8s 5ms/step - loss: 0.5196 - accuracy: 0.8273 - val_loss: 0.4845 - val_accuracy: 0.8385\n",
            "Epoch 3/100\n",
            "1514/1518 [============================>.] - ETA: 0s - loss: 0.4588 - accuracy: 0.8444\n",
            "Epoch 3: val_loss improved from 0.48454 to 0.44414, saving model to fashion_mnist_model.h5\n",
            "1518/1518 [==============================] - 6s 4ms/step - loss: 0.4586 - accuracy: 0.8444 - val_loss: 0.4441 - val_accuracy: 0.8501\n",
            "Epoch 4/100\n",
            "1511/1518 [============================>.] - ETA: 0s - loss: 0.4264 - accuracy: 0.8540\n",
            "Epoch 4: val_loss improved from 0.44414 to 0.42153, saving model to fashion_mnist_model.h5\n",
            "1518/1518 [==============================] - 9s 6ms/step - loss: 0.4266 - accuracy: 0.8538 - val_loss: 0.4215 - val_accuracy: 0.8551\n",
            "Epoch 5/100\n",
            "1509/1518 [============================>.] - ETA: 0s - loss: 0.4043 - accuracy: 0.8602\n",
            "Epoch 5: val_loss improved from 0.42153 to 0.41060, saving model to fashion_mnist_model.h5\n",
            "1518/1518 [==============================] - 7s 5ms/step - loss: 0.4042 - accuracy: 0.8603 - val_loss: 0.4106 - val_accuracy: 0.8610\n",
            "Epoch 6/100\n",
            "1511/1518 [============================>.] - ETA: 0s - loss: 0.3873 - accuracy: 0.8658\n",
            "Epoch 6: val_loss improved from 0.41060 to 0.39388, saving model to fashion_mnist_model.h5\n",
            "1518/1518 [==============================] - 7s 5ms/step - loss: 0.3876 - accuracy: 0.8657 - val_loss: 0.3939 - val_accuracy: 0.8642\n",
            "Epoch 7/100\n",
            "1511/1518 [============================>.] - ETA: 0s - loss: 0.3760 - accuracy: 0.8686\n",
            "Epoch 7: val_loss improved from 0.39388 to 0.37890, saving model to fashion_mnist_model.h5\n",
            "1518/1518 [==============================] - 8s 5ms/step - loss: 0.3760 - accuracy: 0.8686 - val_loss: 0.3789 - val_accuracy: 0.8713\n",
            "Epoch 8/100\n",
            "1514/1518 [============================>.] - ETA: 0s - loss: 0.3622 - accuracy: 0.8736\n",
            "Epoch 8: val_loss improved from 0.37890 to 0.37331, saving model to fashion_mnist_model.h5\n",
            "1518/1518 [==============================] - 6s 4ms/step - loss: 0.3622 - accuracy: 0.8735 - val_loss: 0.3733 - val_accuracy: 0.8722\n",
            "Epoch 9/100\n",
            "1510/1518 [============================>.] - ETA: 0s - loss: 0.3529 - accuracy: 0.8771\n",
            "Epoch 9: val_loss improved from 0.37331 to 0.37070, saving model to fashion_mnist_model.h5\n",
            "1518/1518 [==============================] - 7s 5ms/step - loss: 0.3531 - accuracy: 0.8771 - val_loss: 0.3707 - val_accuracy: 0.8720\n",
            "Epoch 10/100\n",
            "1511/1518 [============================>.] - ETA: 0s - loss: 0.3427 - accuracy: 0.8814\n",
            "Epoch 10: val_loss improved from 0.37070 to 0.35920, saving model to fashion_mnist_model.h5\n",
            "1518/1518 [==============================] - 6s 4ms/step - loss: 0.3425 - accuracy: 0.8815 - val_loss: 0.3592 - val_accuracy: 0.8791\n",
            "Epoch 11/100\n",
            "1507/1518 [============================>.] - ETA: 0s - loss: 0.3365 - accuracy: 0.8815\n",
            "Epoch 11: val_loss improved from 0.35920 to 0.35112, saving model to fashion_mnist_model.h5\n",
            "1518/1518 [==============================] - 8s 5ms/step - loss: 0.3367 - accuracy: 0.8814 - val_loss: 0.3511 - val_accuracy: 0.8798\n",
            "Epoch 12/100\n",
            "1517/1518 [============================>.] - ETA: 0s - loss: 0.3296 - accuracy: 0.8838\n",
            "Epoch 12: val_loss did not improve from 0.35112\n",
            "1518/1518 [==============================] - 7s 4ms/step - loss: 0.3295 - accuracy: 0.8838 - val_loss: 0.3539 - val_accuracy: 0.8782\n",
            "Epoch 13/100\n",
            "1511/1518 [============================>.] - ETA: 0s - loss: 0.3233 - accuracy: 0.8857\n",
            "Epoch 13: val_loss did not improve from 0.35112\n",
            "1518/1518 [==============================] - 8s 5ms/step - loss: 0.3232 - accuracy: 0.8857 - val_loss: 0.3514 - val_accuracy: 0.8804\n",
            "Epoch 14/100\n",
            "1513/1518 [============================>.] - ETA: 0s - loss: 0.3175 - accuracy: 0.8880\n",
            "Epoch 14: val_loss improved from 0.35112 to 0.34669, saving model to fashion_mnist_model.h5\n",
            "1518/1518 [==============================] - 7s 4ms/step - loss: 0.3175 - accuracy: 0.8881 - val_loss: 0.3467 - val_accuracy: 0.8819\n",
            "Epoch 15/100\n",
            "1513/1518 [============================>.] - ETA: 0s - loss: 0.3121 - accuracy: 0.8897\n",
            "Epoch 15: val_loss improved from 0.34669 to 0.34378, saving model to fashion_mnist_model.h5\n",
            "1518/1518 [==============================] - 8s 5ms/step - loss: 0.3121 - accuracy: 0.8897 - val_loss: 0.3438 - val_accuracy: 0.8826\n",
            "Epoch 16/100\n",
            "1514/1518 [============================>.] - ETA: 0s - loss: 0.3067 - accuracy: 0.8907\n",
            "Epoch 16: val_loss did not improve from 0.34378\n",
            "1518/1518 [==============================] - 8s 6ms/step - loss: 0.3068 - accuracy: 0.8907 - val_loss: 0.3531 - val_accuracy: 0.8782\n",
            "Epoch 17/100\n",
            "1507/1518 [============================>.] - ETA: 0s - loss: 0.3018 - accuracy: 0.8924\n",
            "Epoch 17: val_loss improved from 0.34378 to 0.33574, saving model to fashion_mnist_model.h5\n",
            "1518/1518 [==============================] - 6s 4ms/step - loss: 0.3020 - accuracy: 0.8923 - val_loss: 0.3357 - val_accuracy: 0.8860\n",
            "Epoch 18/100\n",
            "1515/1518 [============================>.] - ETA: 0s - loss: 0.2987 - accuracy: 0.8927\n",
            "Epoch 18: val_loss improved from 0.33574 to 0.33067, saving model to fashion_mnist_model.h5\n",
            "1518/1518 [==============================] - 8s 5ms/step - loss: 0.2986 - accuracy: 0.8928 - val_loss: 0.3307 - val_accuracy: 0.8849\n",
            "Epoch 19/100\n",
            "1513/1518 [============================>.] - ETA: 0s - loss: 0.2933 - accuracy: 0.8962\n",
            "Epoch 19: val_loss did not improve from 0.33067\n",
            "1518/1518 [==============================] - 6s 4ms/step - loss: 0.2932 - accuracy: 0.8961 - val_loss: 0.3346 - val_accuracy: 0.8830\n",
            "Epoch 20/100\n",
            "1513/1518 [============================>.] - ETA: 0s - loss: 0.2892 - accuracy: 0.8965\n",
            "Epoch 20: val_loss did not improve from 0.33067\n",
            "1518/1518 [==============================] - 8s 5ms/step - loss: 0.2889 - accuracy: 0.8966 - val_loss: 0.3379 - val_accuracy: 0.8817\n",
            "Epoch 21/100\n",
            "1514/1518 [============================>.] - ETA: 0s - loss: 0.2844 - accuracy: 0.8999\n",
            "Epoch 21: val_loss did not improve from 0.33067\n",
            "1518/1518 [==============================] - 7s 4ms/step - loss: 0.2847 - accuracy: 0.8999 - val_loss: 0.3323 - val_accuracy: 0.8821\n",
            "Epoch 22/100\n",
            "1514/1518 [============================>.] - ETA: 0s - loss: 0.2831 - accuracy: 0.8992\n",
            "Epoch 22: val_loss did not improve from 0.33067\n",
            "1518/1518 [==============================] - 8s 5ms/step - loss: 0.2829 - accuracy: 0.8993 - val_loss: 0.3312 - val_accuracy: 0.8834\n",
            "Epoch 23/100\n",
            "1512/1518 [============================>.] - ETA: 0s - loss: 0.2780 - accuracy: 0.9007\n",
            "Epoch 23: val_loss did not improve from 0.33067\n",
            "1518/1518 [==============================] - 8s 5ms/step - loss: 0.2778 - accuracy: 0.9008 - val_loss: 0.3312 - val_accuracy: 0.8808\n",
            "Epoch 24/100\n",
            "1515/1518 [============================>.] - ETA: 0s - loss: 0.2738 - accuracy: 0.9014\n",
            "Epoch 24: val_loss improved from 0.33067 to 0.32413, saving model to fashion_mnist_model.h5\n",
            "1518/1518 [==============================] - 7s 5ms/step - loss: 0.2738 - accuracy: 0.9014 - val_loss: 0.3241 - val_accuracy: 0.8854\n",
            "Epoch 25/100\n",
            "1517/1518 [============================>.] - ETA: 0s - loss: 0.2710 - accuracy: 0.9032\n",
            "Epoch 25: val_loss did not improve from 0.32413\n",
            "1518/1518 [==============================] - 8s 5ms/step - loss: 0.2711 - accuracy: 0.9031 - val_loss: 0.3322 - val_accuracy: 0.8817\n",
            "Epoch 26/100\n",
            "1515/1518 [============================>.] - ETA: 0s - loss: 0.2674 - accuracy: 0.9037\n",
            "Epoch 26: val_loss improved from 0.32413 to 0.32237, saving model to fashion_mnist_model.h5\n",
            "1518/1518 [==============================] - 7s 4ms/step - loss: 0.2674 - accuracy: 0.9037 - val_loss: 0.3224 - val_accuracy: 0.8862\n",
            "Epoch 27/100\n",
            "1510/1518 [============================>.] - ETA: 0s - loss: 0.2645 - accuracy: 0.9047\n",
            "Epoch 27: val_loss improved from 0.32237 to 0.32103, saving model to fashion_mnist_model.h5\n",
            "1518/1518 [==============================] - 8s 5ms/step - loss: 0.2647 - accuracy: 0.9047 - val_loss: 0.3210 - val_accuracy: 0.8865\n",
            "Epoch 28/100\n",
            "1518/1518 [==============================] - ETA: 0s - loss: 0.2619 - accuracy: 0.9057\n",
            "Epoch 28: val_loss improved from 0.32103 to 0.31868, saving model to fashion_mnist_model.h5\n",
            "1518/1518 [==============================] - 7s 4ms/step - loss: 0.2619 - accuracy: 0.9057 - val_loss: 0.3187 - val_accuracy: 0.8880\n",
            "Epoch 29/100\n",
            "1511/1518 [============================>.] - ETA: 0s - loss: 0.2574 - accuracy: 0.9079\n",
            "Epoch 29: val_loss did not improve from 0.31868\n",
            "1518/1518 [==============================] - 8s 5ms/step - loss: 0.2573 - accuracy: 0.9079 - val_loss: 0.3200 - val_accuracy: 0.8875\n",
            "Epoch 30/100\n",
            "1511/1518 [============================>.] - ETA: 0s - loss: 0.2542 - accuracy: 0.9082\n",
            "Epoch 30: val_loss did not improve from 0.31868\n",
            "1518/1518 [==============================] - 7s 4ms/step - loss: 0.2545 - accuracy: 0.9081 - val_loss: 0.3248 - val_accuracy: 0.8830\n",
            "Epoch 31/100\n",
            "1511/1518 [============================>.] - ETA: 0s - loss: 0.2544 - accuracy: 0.9077\n",
            "Epoch 31: val_loss did not improve from 0.31868\n",
            "1518/1518 [==============================] - 8s 5ms/step - loss: 0.2544 - accuracy: 0.9077 - val_loss: 0.3223 - val_accuracy: 0.8858\n",
            "Epoch 32/100\n",
            "1518/1518 [==============================] - ETA: 0s - loss: 0.2484 - accuracy: 0.9093\n",
            "Epoch 32: val_loss improved from 0.31868 to 0.31717, saving model to fashion_mnist_model.h5\n",
            "1518/1518 [==============================] - 8s 5ms/step - loss: 0.2484 - accuracy: 0.9093 - val_loss: 0.3172 - val_accuracy: 0.8865\n",
            "Epoch 33/100\n",
            "1507/1518 [============================>.] - ETA: 0s - loss: 0.2482 - accuracy: 0.9105\n",
            "Epoch 33: val_loss did not improve from 0.31717\n",
            "1518/1518 [==============================] - 6s 4ms/step - loss: 0.2479 - accuracy: 0.9107 - val_loss: 0.3237 - val_accuracy: 0.8852\n",
            "Epoch 34/100\n",
            "1507/1518 [============================>.] - ETA: 0s - loss: 0.2447 - accuracy: 0.9134\n",
            "Epoch 34: val_loss did not improve from 0.31717\n",
            "1518/1518 [==============================] - 8s 5ms/step - loss: 0.2451 - accuracy: 0.9134 - val_loss: 0.3227 - val_accuracy: 0.8871\n",
            "Epoch 35/100\n",
            "1514/1518 [============================>.] - ETA: 0s - loss: 0.2426 - accuracy: 0.9126\n",
            "Epoch 35: val_loss did not improve from 0.31717\n",
            "1518/1518 [==============================] - 6s 4ms/step - loss: 0.2426 - accuracy: 0.9126 - val_loss: 0.3209 - val_accuracy: 0.8834\n",
            "Epoch 36/100\n",
            "1515/1518 [============================>.] - ETA: 0s - loss: 0.2402 - accuracy: 0.9125\n",
            "Epoch 36: val_loss did not improve from 0.31717\n",
            "1518/1518 [==============================] - 8s 5ms/step - loss: 0.2401 - accuracy: 0.9125 - val_loss: 0.3174 - val_accuracy: 0.8869\n",
            "Epoch 37/100\n",
            "1510/1518 [============================>.] - ETA: 0s - loss: 0.2372 - accuracy: 0.9149\n",
            "Epoch 37: val_loss did not improve from 0.31717\n",
            "1518/1518 [==============================] - 6s 4ms/step - loss: 0.2371 - accuracy: 0.9149 - val_loss: 0.3246 - val_accuracy: 0.8876\n",
            "Epoch 38/100\n",
            "1509/1518 [============================>.] - ETA: 0s - loss: 0.2353 - accuracy: 0.9145\n",
            "Epoch 38: val_loss did not improve from 0.31717\n",
            "1518/1518 [==============================] - 7s 5ms/step - loss: 0.2352 - accuracy: 0.9145 - val_loss: 0.3323 - val_accuracy: 0.8828\n",
            "Epoch 39/100\n",
            "1513/1518 [============================>.] - ETA: 0s - loss: 0.2312 - accuracy: 0.9162\n",
            "Epoch 39: val_loss improved from 0.31717 to 0.31563, saving model to fashion_mnist_model.h5\n",
            "1518/1518 [==============================] - 6s 4ms/step - loss: 0.2312 - accuracy: 0.9162 - val_loss: 0.3156 - val_accuracy: 0.8878\n",
            "Epoch 40/100\n",
            "1514/1518 [============================>.] - ETA: 0s - loss: 0.2307 - accuracy: 0.9169\n",
            "Epoch 40: val_loss improved from 0.31563 to 0.31318, saving model to fashion_mnist_model.h5\n",
            "1518/1518 [==============================] - 8s 5ms/step - loss: 0.2307 - accuracy: 0.9168 - val_loss: 0.3132 - val_accuracy: 0.8893\n",
            "Epoch 41/100\n",
            "1510/1518 [============================>.] - ETA: 0s - loss: 0.2272 - accuracy: 0.9177\n",
            "Epoch 41: val_loss improved from 0.31318 to 0.31272, saving model to fashion_mnist_model.h5\n",
            "1518/1518 [==============================] - 7s 5ms/step - loss: 0.2275 - accuracy: 0.9176 - val_loss: 0.3127 - val_accuracy: 0.8897\n",
            "Epoch 42/100\n",
            "1518/1518 [==============================] - ETA: 0s - loss: 0.2255 - accuracy: 0.9188\n",
            "Epoch 42: val_loss did not improve from 0.31272\n",
            "1518/1518 [==============================] - 7s 4ms/step - loss: 0.2255 - accuracy: 0.9188 - val_loss: 0.3172 - val_accuracy: 0.8908\n",
            "Epoch 43/100\n",
            "1513/1518 [============================>.] - ETA: 0s - loss: 0.2232 - accuracy: 0.9202\n",
            "Epoch 43: val_loss did not improve from 0.31272\n",
            "1518/1518 [==============================] - 7s 5ms/step - loss: 0.2230 - accuracy: 0.9202 - val_loss: 0.3181 - val_accuracy: 0.8865\n",
            "Epoch 44/100\n",
            "1514/1518 [============================>.] - ETA: 0s - loss: 0.2229 - accuracy: 0.9202\n",
            "Epoch 44: val_loss did not improve from 0.31272\n",
            "1518/1518 [==============================] - 7s 4ms/step - loss: 0.2227 - accuracy: 0.9203 - val_loss: 0.3253 - val_accuracy: 0.8863\n",
            "Epoch 45/100\n",
            "1510/1518 [============================>.] - ETA: 0s - loss: 0.2196 - accuracy: 0.9204\n",
            "Epoch 45: val_loss did not improve from 0.31272\n",
            "1518/1518 [==============================] - 8s 5ms/step - loss: 0.2196 - accuracy: 0.9205 - val_loss: 0.3164 - val_accuracy: 0.8880\n",
            "Epoch 46/100\n",
            "1513/1518 [============================>.] - ETA: 0s - loss: 0.2164 - accuracy: 0.9219\n",
            "Epoch 46: val_loss did not improve from 0.31272\n",
            "1518/1518 [==============================] - 6s 4ms/step - loss: 0.2164 - accuracy: 0.9219 - val_loss: 0.3308 - val_accuracy: 0.8858\n",
            "Epoch 47/100\n",
            "1506/1518 [============================>.] - ETA: 0s - loss: 0.2134 - accuracy: 0.9237\n",
            "Epoch 47: val_loss did not improve from 0.31272\n",
            "1518/1518 [==============================] - 8s 5ms/step - loss: 0.2136 - accuracy: 0.9236 - val_loss: 0.3184 - val_accuracy: 0.8884\n",
            "Epoch 48/100\n",
            "1514/1518 [============================>.] - ETA: 0s - loss: 0.2154 - accuracy: 0.9216\n",
            "Epoch 48: val_loss did not improve from 0.31272\n",
            "1518/1518 [==============================] - 7s 4ms/step - loss: 0.2156 - accuracy: 0.9214 - val_loss: 0.3191 - val_accuracy: 0.8908\n",
            "Epoch 49/100\n",
            "1518/1518 [==============================] - ETA: 0s - loss: 0.2101 - accuracy: 0.9247\n",
            "Epoch 49: val_loss did not improve from 0.31272\n",
            "1518/1518 [==============================] - 8s 5ms/step - loss: 0.2101 - accuracy: 0.9247 - val_loss: 0.3201 - val_accuracy: 0.8904\n",
            "Epoch 50/100\n",
            "1510/1518 [============================>.] - ETA: 0s - loss: 0.2096 - accuracy: 0.9249\n",
            "Epoch 50: val_loss did not improve from 0.31272\n",
            "1518/1518 [==============================] - 7s 4ms/step - loss: 0.2095 - accuracy: 0.9250 - val_loss: 0.3168 - val_accuracy: 0.8908\n",
            "Epoch 51/100\n",
            "1509/1518 [============================>.] - ETA: 0s - loss: 0.2066 - accuracy: 0.9266\n",
            "Epoch 51: val_loss did not improve from 0.31272\n",
            "Restoring model weights from the end of the best epoch: 41.\n",
            "1518/1518 [==============================] - 8s 5ms/step - loss: 0.2063 - accuracy: 0.9267 - val_loss: 0.3213 - val_accuracy: 0.8893\n",
            "Epoch 51: early stopping\n"
          ]
        }
      ]
    },
    {
      "cell_type": "code",
      "metadata": {
        "id": "P5ZcVB42hqDE",
        "colab": {
          "base_uri": "https://localhost:8080/",
          "height": 699
        },
        "outputId": "7605c09e-5867-45e7-e8e4-bfadc8f8a9e0"
      },
      "source": [
        "# 그래프에서 1)학습이 잘되었는지 확인 2)overfitting 발생여부 3)개선방향\n",
        "acc = history.history['accuracy']\n",
        "val_acc = history.history['val_accuracy']\n",
        "\n",
        "loss = history.history['loss']\n",
        "val_loss = history.history['val_loss']\n",
        "\n",
        "epochs_range = range(len(acc))\n",
        "\n",
        "plt.figure(figsize=(8, 8))\n",
        "plt.subplot(1, 2, 1)\n",
        "plt.plot(epochs_range, acc, label='Training Accuracy')\n",
        "plt.plot(epochs_range, val_acc, label='Validation Accuracy')\n",
        "plt.legend(loc='lower right')\n",
        "plt.title('Training and Valid Accuracy')\n",
        "\n",
        "plt.subplot(1, 2, 2)\n",
        "plt.plot(epochs_range, loss, label='Training Loss')\n",
        "plt.plot(epochs_range, val_loss, label='Validation Loss')\n",
        "plt.legend(loc='upper right')\n",
        "plt.title('Training and Valid Loss')\n",
        "plt.show()"
      ],
      "execution_count": 25,
      "outputs": [
        {
          "output_type": "display_data",
          "data": {
            "text/plain": [
              "<Figure size 800x800 with 2 Axes>"
            ],
            "image/png": "[encoded data removed]"
          },
          "metadata": {}
        }
      ]
    },
    {
      "cell_type": "code",
      "metadata": {
        "id": "MIfLiTlehtAC",
        "colab": {
          "base_uri": "https://localhost:8080/"
        },
        "outputId": "a28cba74-e99d-460d-d0a4-c49b1bccf2f7"
      },
      "source": [
        "results = model.evaluate(test_dataset)"
      ],
      "execution_count": 26,
      "outputs": [
        {
          "output_type": "stream",
          "name": "stdout",
          "text": [
            "313/313 [==============================] - 1s 3ms/step - loss: 0.3480 - accuracy: 0.8802\n"
          ]
        }
      ]
    },
    {
      "cell_type": "code",
      "metadata": {
        "id": "nrwS9PJ6hxlm"
      },
      "source": [],
      "execution_count": 59,
      "outputs": []
    }
  ]
}