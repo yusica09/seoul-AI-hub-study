{
  "nbformat": 4,
  "nbformat_minor": 0,
  "metadata": {
    "colab": {
      "provenance": [],
      "gpuType": "T4",
      "include_colab_link": true
    },
    "kernelspec": {
      "name": "python3",
      "display_name": "Python 3"
    },
    "language_info": {
      "name": "python"
    },
    "accelerator": "GPU"
  },
  "cells": [
    {
      "cell_type": "markdown",
      "metadata": {
        "id": "view-in-github",
        "colab_type": "text"
      },
      "source": [
        "<a href=\"https://colab.research.google.com/github/yusica09/seoul-AI-hub-study/blob/main/4%EC%A3%BC%EC%B0%A8/Proj)_Spaceship_Titanic_classification_1.ipynb\" target=\"_parent\"><img src=\"https://colab.research.google.com/assets/colab-badge.svg\" alt=\"Open In Colab\"/></a>"
      ]
    },
    {
      "cell_type": "markdown",
      "source": [
        "# Spaceship Titanic with DL\n",
        "### 배경\n",
        "* 우주의 미스터리를 풀기 위해 데이터 과학 기술이 필요한 2912년에 오신 것을 환영합니다. 4광년 떨어진 곳에서 전송을 받았는데 상태가 좋지 않습니다.\n",
        "\n",
        "* 우주선 타이타닉은 한 달 전에 발사된 성간 여객선이었습니다. 약 13,000명의 승객을 태운 이 선박은 우리 태양계에서 가까운 별을 도는 새로 거주 가능한 세 개의 외계 행성으로 이민자들을 수송하는 첫 항해를 시작했습니다.\n",
        "\n",
        "* 첫 번째 목적지인 55 Cancri E로 가는 도중 Alpha Centauri를 돌던 중 부주의한 우주선 Titanic이 먼지 구름 속에 숨겨진 시공간 변칙과 충돌했습니다. 안타깝게도 1000년 전의 이름과 비슷한 운명을 맞이했습니다. 배는 온전했지만 승객의 거의 절반이 다른 차원으로 이동했습니다!\n",
        "\n",
        "### 데이터 정보\n",
        "* *PassengerId*\n",
        "    - 각 승객의 고유 ID. 각 Id는 승객이 함께 여행하는 그룹을 나타내고 그룹 내의 번호를 나타내는 형식을 취합니다 . 그룹의 사람들은 종종 가족 구성원이지만 항상 그런 것은 아닙니다.\n",
        "\n",
        "* *HomePlanet*\n",
        "    - 승객이 출발한 행성으로, 일반적으로 승객이 거주하는 행성입니다.\n",
        "\n",
        "* *CryoSleep*\n",
        "    - 승객이 항해 기간 동안 냉동 수면 선택했는지 여부를 나타냅니다. cryosleep의 승객은 객실에 갇혀 있습니다.\n",
        "\n",
        "* *Cabin*\n",
        "    - 승객이 머무르는 캐빈 번호. 형식을 취합니다 deck/num/side. 여기 에서 Port 또는 Starboard 가 side될 수 있습니다.\n",
        "\n",
        "* *Destination*\n",
        "    - 승객이 내릴 행성.\n",
        "\n",
        "* *Age*\n",
        "    - 승객의 나이.\n",
        "\n",
        "* *VIP*\n",
        "    - 승객이 항해 중 특별 VIP 서비스 비용을 지불했는지 여부.\n",
        "\n",
        "* *RoomService, FoodCourt, ShoppingMall, Spa, VRDeck*\n",
        "    - 승객이 Spaceship Titanic 의 다양한 고급 편의 시설 각각에 대해 청구한 금액입니다.\n",
        "\n",
        "* *Name*\n",
        "    - 승객의 성과 이름.\n",
        "\n",
        "* *Transported*\n",
        "    - 승객이 다른 차원으로 이동했는지 여부. 정답 데이터입니다."
      ],
      "metadata": {
        "id": "HkdCZ8yVq5Ya"
      }
    },
    {
      "cell_type": "markdown",
      "source": [
        "## import library"
      ],
      "metadata": {
        "id": "RX01utZISK6r"
      }
    },
    {
      "cell_type": "code",
      "execution_count": 1,
      "metadata": {
        "id": "Q8rWBE5W_YKL"
      },
      "outputs": [],
      "source": [
        "import pandas as pd\n",
        "import tensorflow as tf"
      ]
    },
    {
      "cell_type": "code",
      "source": [
        "from google.colab import drive\n",
        "drive.mount('/content/drive')"
      ],
      "metadata": {
        "id": "T0R3pg_fw0gL",
        "colab": {
          "base_uri": "https://localhost:8080/"
        },
        "outputId": "eaaf3d59-3d9b-46b6-bf53-b415089669b1"
      },
      "execution_count": 2,
      "outputs": [
        {
          "output_type": "stream",
          "name": "stdout",
          "text": [
            "Drive already mounted at /content/drive; to attempt to forcibly remount, call drive.mount(\"/content/drive\", force_remount=True).\n"
          ]
        }
      ]
    },
    {
      "cell_type": "markdown",
      "source": [
        "## Data Load\n",
        "### Read CSV files wit pandas"
      ],
      "metadata": {
        "id": "cf6id6YUq8ie"
      }
    },
    {
      "cell_type": "code",
      "source": [
        "train_data = pd.read_csv(\"/content/drive/MyDrive/Datasets/spaceship_titanic_train_data.csv\")\n",
        "train_labels = pd.read_csv(\"/content/drive/MyDrive/Datasets/spaceship_titanic_train_labels.csv\")\n",
        "\n",
        "test_data = pd.read_csv(\"/content/drive/MyDrive/Datasets/spaceship_titanic_test_data.csv\")\n",
        "test_labels = pd.read_csv(\"/content/drive/MyDrive/Datasets/spaceship_titanic_test_labels.csv\")\n",
        "\n",
        "train = pd.concat([train_data, train_labels], axis=1)\n",
        "test = pd.concat([test_data, test_labels], axis=1)"
      ],
      "metadata": {
        "id": "QqQ-lH0jArMP"
      },
      "execution_count": 3,
      "outputs": []
    },
    {
      "cell_type": "markdown",
      "source": [
        "### Preprocessing\n",
        "* 결측치 제거 후 데이터 로더에 연결"
      ],
      "metadata": {
        "id": "hyXdPwEYq-2m"
      }
    },
    {
      "cell_type": "code",
      "source": [
        "train = train.fillna(method='bfill')\n",
        "test = test.fillna(method='bfill')"
      ],
      "metadata": {
        "id": "eH2xjgpaDDny"
      },
      "execution_count": 4,
      "outputs": []
    },
    {
      "cell_type": "code",
      "source": [
        "train.dtypes"
      ],
      "metadata": {
        "id": "nybFLD29Eclv",
        "colab": {
          "base_uri": "https://localhost:8080/"
        },
        "outputId": "c861bfc9-1d7e-4653-ee0e-28633aeb91a9"
      },
      "execution_count": 5,
      "outputs": [
        {
          "output_type": "execute_result",
          "data": {
            "text/plain": [
              "PassengerId      object\n",
              "HomePlanet       object\n",
              "CryoSleep          bool\n",
              "Cabin            object\n",
              "Destination      object\n",
              "Age             float64\n",
              "VIP                bool\n",
              "RoomService     float64\n",
              "FoodCourt       float64\n",
              "ShoppingMall    float64\n",
              "Spa             float64\n",
              "VRDeck          float64\n",
              "Name             object\n",
              "Transported        bool\n",
              "dtype: object"
            ]
          },
          "metadata": {},
          "execution_count": 5
        }
      ]
    },
    {
      "cell_type": "code",
      "source": [
        "# a = train.sort_values(by='PassengerId')\n",
        "# a"
      ],
      "metadata": {
        "id": "ZYJ84r803Wyx"
      },
      "execution_count": 6,
      "outputs": []
    },
    {
      "cell_type": "code",
      "source": [
        "# train['PassengerId'] = train['PassengerId'].apply(lambda x: x.split('_')[0])\n",
        "# train['PassengerId'] = train['PassengerId'].astype(int)\n",
        "# train"
      ],
      "metadata": {
        "id": "SF5PMVqj4Tt5"
      },
      "execution_count": 7,
      "outputs": []
    },
    {
      "cell_type": "code",
      "source": [
        "# 일부 dtype은 tensor로 변경 불가\n",
        "train['HomePlanet'] = train['HomePlanet'].astype('category')\n",
        "train['CryoSleep'] = train['CryoSleep'].map({True: 1, False: 0})\n",
        "train['VIP'] = train['VIP'].map({True: 1, False: 0})\n",
        "train['Transported'] = train['Transported'].map({True: 1, False: 0})\n",
        "\n",
        "test['HomePlanet'] = test['HomePlanet'].astype('category')\n",
        "test['CryoSleep'] = test['CryoSleep'].map({True: 1, False: 0})\n",
        "test['VIP'] = test['VIP'].map({True: 1, False: 0})\n",
        "test['Transported'] = test['Transported'].map({True: 1, False: 0})"
      ],
      "metadata": {
        "id": "fw7o34_HGrNw"
      },
      "execution_count": 8,
      "outputs": []
    },
    {
      "cell_type": "code",
      "source": [
        "train"
      ],
      "metadata": {
        "id": "3wGlcJLVHQI5",
        "colab": {
          "base_uri": "https://localhost:8080/",
          "height": 575
        },
        "outputId": "97c9263a-0e49-43d1-cfd5-4c82d7f8502f"
      },
      "execution_count": 9,
      "outputs": [
        {
          "output_type": "execute_result",
          "data": {
            "text/plain": [
              "     PassengerId HomePlanet  CryoSleep     Cabin    Destination   Age  VIP  \\\n",
              "0        2513_01      Earth          0   F/575/P    TRAPPIST-1e  28.0    0   \n",
              "1        2774_02      Earth          0   F/575/P    TRAPPIST-1e  17.0    0   \n",
              "2        8862_04     Europa          1   C/329/S    55 Cancri e  28.0    0   \n",
              "3        8736_02       Mars          0  F/1800/P    TRAPPIST-1e  20.0    0   \n",
              "4        0539_02     Europa          1    C/18/P    55 Cancri e  36.0    0   \n",
              "...          ...        ...        ...       ...            ...   ...  ...   \n",
              "6949     6076_01      Earth          0   G/988/S    TRAPPIST-1e  18.0    0   \n",
              "6950     5537_01       Mars          0  F/1063/S    TRAPPIST-1e  50.0    0   \n",
              "6951     5756_06      Earth          0  F/1194/P  PSO J318.5-22  22.0    0   \n",
              "6952     0925_01       Mars          0   F/191/P    TRAPPIST-1e  34.0    0   \n",
              "6953     7775_01     Europa          0   C/253/P    55 Cancri e  28.0    0   \n",
              "\n",
              "      RoomService  FoodCourt  ShoppingMall    Spa  VRDeck                Name  \\\n",
              "0             0.0       55.0           0.0  656.0     0.0      Loree Mathison   \n",
              "1             0.0     1195.0          31.0    0.0     0.0   Crisey Mcbriddley   \n",
              "2             0.0        0.0           0.0    0.0     0.0      Alramix Myling   \n",
              "3             0.0        2.0         289.0  976.0     0.0           Tros Pota   \n",
              "4             0.0        0.0           0.0    0.0     0.0      Achyon Nalanet   \n",
              "...           ...        ...           ...    ...     ...                 ...   \n",
              "6949         14.0        2.0         144.0  610.0     0.0        Therry Cames   \n",
              "6950        690.0        0.0          30.0  762.0   428.0         Herms Bancy   \n",
              "6951        158.0        0.0         476.0    0.0    26.0    Karena Briggston   \n",
              "6952        379.0        0.0        1626.0    0.0     0.0          Skix Kraie   \n",
              "6953          7.0      489.0           0.0    4.0  6027.0  Alraium Disivering   \n",
              "\n",
              "      Transported  \n",
              "0               0  \n",
              "1               0  \n",
              "2               1  \n",
              "3               1  \n",
              "4               1  \n",
              "...           ...  \n",
              "6949            1  \n",
              "6950            0  \n",
              "6951            0  \n",
              "6952            0  \n",
              "6953            0  \n",
              "\n",
              "[6954 rows x 14 columns]"
            ],
            "text/html": [
              "\n",
              "  <div id=\"df-d92e41ba-819a-4f66-81f3-3b0c016e0768\" class=\"colab-df-container\">\n",
              "    <div>\n",
              "<style scoped>\n",
              "    .dataframe tbody tr th:only-of-type {\n",
              "        vertical-align: middle;\n",
              "    }\n",
              "\n",
              "    .dataframe tbody tr th {\n",
              "        vertical-align: top;\n",
              "    }\n",
              "\n",
              "    .dataframe thead th {\n",
              "        text-align: right;\n",
              "    }\n",
              "</style>\n",
              "<table border=\"1\" class=\"dataframe\">\n",
              "  <thead>\n",
              "    <tr style=\"text-align: right;\">\n",
              "      <th></th>\n",
              "      <th>PassengerId</th>\n",
              "      <th>HomePlanet</th>\n",
              "      <th>CryoSleep</th>\n",
              "      <th>Cabin</th>\n",
              "      <th>Destination</th>\n",
              "      <th>Age</th>\n",
              "      <th>VIP</th>\n",
              "      <th>RoomService</th>\n",
              "      <th>FoodCourt</th>\n",
              "      <th>ShoppingMall</th>\n",
              "      <th>Spa</th>\n",
              "      <th>VRDeck</th>\n",
              "      <th>Name</th>\n",
              "      <th>Transported</th>\n",
              "    </tr>\n",
              "  </thead>\n",
              "  <tbody>\n",
              "    <tr>\n",
              "      <th>0</th>\n",
              "      <td>2513_01</td>\n",
              "      <td>Earth</td>\n",
              "      <td>0</td>\n",
              "      <td>F/575/P</td>\n",
              "      <td>TRAPPIST-1e</td>\n",
              "      <td>28.0</td>\n",
              "      <td>0</td>\n",
              "      <td>0.0</td>\n",
              "      <td>55.0</td>\n",
              "      <td>0.0</td>\n",
              "      <td>656.0</td>\n",
              "      <td>0.0</td>\n",
              "      <td>Loree Mathison</td>\n",
              "      <td>0</td>\n",
              "    </tr>\n",
              "    <tr>\n",
              "      <th>1</th>\n",
              "      <td>2774_02</td>\n",
              "      <td>Earth</td>\n",
              "      <td>0</td>\n",
              "      <td>F/575/P</td>\n",
              "      <td>TRAPPIST-1e</td>\n",
              "      <td>17.0</td>\n",
              "      <td>0</td>\n",
              "      <td>0.0</td>\n",
              "      <td>1195.0</td>\n",
              "      <td>31.0</td>\n",
              "      <td>0.0</td>\n",
              "      <td>0.0</td>\n",
              "      <td>Crisey Mcbriddley</td>\n",
              "      <td>0</td>\n",
              "    </tr>\n",
              "    <tr>\n",
              "      <th>2</th>\n",
              "      <td>8862_04</td>\n",
              "      <td>Europa</td>\n",
              "      <td>1</td>\n",
              "      <td>C/329/S</td>\n",
              "      <td>55 Cancri e</td>\n",
              "      <td>28.0</td>\n",
              "      <td>0</td>\n",
              "      <td>0.0</td>\n",
              "      <td>0.0</td>\n",
              "      <td>0.0</td>\n",
              "      <td>0.0</td>\n",
              "      <td>0.0</td>\n",
              "      <td>Alramix Myling</td>\n",
              "      <td>1</td>\n",
              "    </tr>\n",
              "    <tr>\n",
              "      <th>3</th>\n",
              "      <td>8736_02</td>\n",
              "      <td>Mars</td>\n",
              "      <td>0</td>\n",
              "      <td>F/1800/P</td>\n",
              "      <td>TRAPPIST-1e</td>\n",
              "      <td>20.0</td>\n",
              "      <td>0</td>\n",
              "      <td>0.0</td>\n",
              "      <td>2.0</td>\n",
              "      <td>289.0</td>\n",
              "      <td>976.0</td>\n",
              "      <td>0.0</td>\n",
              "      <td>Tros Pota</td>\n",
              "      <td>1</td>\n",
              "    </tr>\n",
              "    <tr>\n",
              "      <th>4</th>\n",
              "      <td>0539_02</td>\n",
              "      <td>Europa</td>\n",
              "      <td>1</td>\n",
              "      <td>C/18/P</td>\n",
              "      <td>55 Cancri e</td>\n",
              "      <td>36.0</td>\n",
              "      <td>0</td>\n",
              "      <td>0.0</td>\n",
              "      <td>0.0</td>\n",
              "      <td>0.0</td>\n",
              "      <td>0.0</td>\n",
              "      <td>0.0</td>\n",
              "      <td>Achyon Nalanet</td>\n",
              "      <td>1</td>\n",
              "    </tr>\n",
              "    <tr>\n",
              "      <th>...</th>\n",
              "      <td>...</td>\n",
              "      <td>...</td>\n",
              "      <td>...</td>\n",
              "      <td>...</td>\n",
              "      <td>...</td>\n",
              "      <td>...</td>\n",
              "      <td>...</td>\n",
              "      <td>...</td>\n",
              "      <td>...</td>\n",
              "      <td>...</td>\n",
              "      <td>...</td>\n",
              "      <td>...</td>\n",
              "      <td>...</td>\n",
              "      <td>...</td>\n",
              "    </tr>\n",
              "    <tr>\n",
              "      <th>6949</th>\n",
              "      <td>6076_01</td>\n",
              "      <td>Earth</td>\n",
              "      <td>0</td>\n",
              "      <td>G/988/S</td>\n",
              "      <td>TRAPPIST-1e</td>\n",
              "      <td>18.0</td>\n",
              "      <td>0</td>\n",
              "      <td>14.0</td>\n",
              "      <td>2.0</td>\n",
              "      <td>144.0</td>\n",
              "      <td>610.0</td>\n",
              "      <td>0.0</td>\n",
              "      <td>Therry Cames</td>\n",
              "      <td>1</td>\n",
              "    </tr>\n",
              "    <tr>\n",
              "      <th>6950</th>\n",
              "      <td>5537_01</td>\n",
              "      <td>Mars</td>\n",
              "      <td>0</td>\n",
              "      <td>F/1063/S</td>\n",
              "      <td>TRAPPIST-1e</td>\n",
              "      <td>50.0</td>\n",
              "      <td>0</td>\n",
              "      <td>690.0</td>\n",
              "      <td>0.0</td>\n",
              "      <td>30.0</td>\n",
              "      <td>762.0</td>\n",
              "      <td>428.0</td>\n",
              "      <td>Herms Bancy</td>\n",
              "      <td>0</td>\n",
              "    </tr>\n",
              "    <tr>\n",
              "      <th>6951</th>\n",
              "      <td>5756_06</td>\n",
              "      <td>Earth</td>\n",
              "      <td>0</td>\n",
              "      <td>F/1194/P</td>\n",
              "      <td>PSO J318.5-22</td>\n",
              "      <td>22.0</td>\n",
              "      <td>0</td>\n",
              "      <td>158.0</td>\n",
              "      <td>0.0</td>\n",
              "      <td>476.0</td>\n",
              "      <td>0.0</td>\n",
              "      <td>26.0</td>\n",
              "      <td>Karena Briggston</td>\n",
              "      <td>0</td>\n",
              "    </tr>\n",
              "    <tr>\n",
              "      <th>6952</th>\n",
              "      <td>0925_01</td>\n",
              "      <td>Mars</td>\n",
              "      <td>0</td>\n",
              "      <td>F/191/P</td>\n",
              "      <td>TRAPPIST-1e</td>\n",
              "      <td>34.0</td>\n",
              "      <td>0</td>\n",
              "      <td>379.0</td>\n",
              "      <td>0.0</td>\n",
              "      <td>1626.0</td>\n",
              "      <td>0.0</td>\n",
              "      <td>0.0</td>\n",
              "      <td>Skix Kraie</td>\n",
              "      <td>0</td>\n",
              "    </tr>\n",
              "    <tr>\n",
              "      <th>6953</th>\n",
              "      <td>7775_01</td>\n",
              "      <td>Europa</td>\n",
              "      <td>0</td>\n",
              "      <td>C/253/P</td>\n",
              "      <td>55 Cancri e</td>\n",
              "      <td>28.0</td>\n",
              "      <td>0</td>\n",
              "      <td>7.0</td>\n",
              "      <td>489.0</td>\n",
              "      <td>0.0</td>\n",
              "      <td>4.0</td>\n",
              "      <td>6027.0</td>\n",
              "      <td>Alraium Disivering</td>\n",
              "      <td>0</td>\n",
              "    </tr>\n",
              "  </tbody>\n",
              "</table>\n",
              "<p>6954 rows × 14 columns</p>\n",
              "</div>\n",
              "    <div class=\"colab-df-buttons\">\n",
              "\n",
              "  <div class=\"colab-df-container\">\n",
              "    <button class=\"colab-df-convert\" onclick=\"convertToInteractive('df-d92e41ba-819a-4f66-81f3-3b0c016e0768')\"\n",
              "            title=\"Convert this dataframe to an interactive table.\"\n",
              "            style=\"display:none;\">\n",
              "\n",
              "  <svg xmlns=\"http://www.w3.org/2000/svg\" height=\"24px\" viewBox=\"0 -960 960 960\">\n",
              "    <path d=\"M120-120v-720h720v720H120Zm60-500h600v-160H180v160Zm220 220h160v-160H400v160Zm0 220h160v-160H400v160ZM180-400h160v-160H180v160Zm440 0h160v-160H620v160ZM180-180h160v-160H180v160Zm440 0h160v-160H620v160Z\"/>\n",
              "  </svg>\n",
              "    </button>\n",
              "\n",
              "  <style>\n",
              "    .colab-df-container {\n",
              "      display:flex;\n",
              "      gap: 12px;\n",
              "    }\n",
              "\n",
              "    .colab-df-convert {\n",
              "      background-color: #E8F0FE;\n",
              "      border: none;\n",
              "      border-radius: 50%;\n",
              "      cursor: pointer;\n",
              "      display: none;\n",
              "      fill: #1967D2;\n",
              "      height: 32px;\n",
              "      padding: 0 0 0 0;\n",
              "      width: 32px;\n",
              "    }\n",
              "\n",
              "    .colab-df-convert:hover {\n",
              "      background-color: #E2EBFA;\n",
              "      box-shadow: 0px 1px 2px rgba(60, 64, 67, 0.3), 0px 1px 3px 1px rgba(60, 64, 67, 0.15);\n",
              "      fill: #174EA6;\n",
              "    }\n",
              "\n",
              "    .colab-df-buttons div {\n",
              "      margin-bottom: 4px;\n",
              "    }\n",
              "\n",
              "    [theme=dark] .colab-df-convert {\n",
              "      background-color: #3B4455;\n",
              "      fill: #D2E3FC;\n",
              "    }\n",
              "\n",
              "    [theme=dark] .colab-df-convert:hover {\n",
              "      background-color: #434B5C;\n",
              "      box-shadow: 0px 1px 3px 1px rgba(0, 0, 0, 0.15);\n",
              "      filter: drop-shadow(0px 1px 2px rgba(0, 0, 0, 0.3));\n",
              "      fill: #FFFFFF;\n",
              "    }\n",
              "  </style>\n",
              "\n",
              "    <script>\n",
              "      const buttonEl =\n",
              "        document.querySelector('#df-d92e41ba-819a-4f66-81f3-3b0c016e0768 button.colab-df-convert');\n",
              "      buttonEl.style.display =\n",
              "        google.colab.kernel.accessAllowed ? 'block' : 'none';\n",
              "\n",
              "      async function convertToInteractive(key) {\n",
              "        const element = document.querySelector('#df-d92e41ba-819a-4f66-81f3-3b0c016e0768');\n",
              "        const dataTable =\n",
              "          await google.colab.kernel.invokeFunction('convertToInteractive',\n",
              "                                                    [key], {});\n",
              "        if (!dataTable) return;\n",
              "\n",
              "        const docLinkHtml = 'Like what you see? Visit the ' +\n",
              "          '<a target=\"_blank\" href=https://colab.research.google.com/notebooks/data_table.ipynb>data table notebook</a>'\n",
              "          + ' to learn more about interactive tables.';\n",
              "        element.innerHTML = '';\n",
              "        dataTable['output_type'] = 'display_data';\n",
              "        await google.colab.output.renderOutput(dataTable, element);\n",
              "        const docLink = document.createElement('div');\n",
              "        docLink.innerHTML = docLinkHtml;\n",
              "        element.appendChild(docLink);\n",
              "      }\n",
              "    </script>\n",
              "  </div>\n",
              "\n",
              "\n",
              "<div id=\"df-067b8e45-e836-4028-9ba5-feae4f50f626\">\n",
              "  <button class=\"colab-df-quickchart\" onclick=\"quickchart('df-067b8e45-e836-4028-9ba5-feae4f50f626')\"\n",
              "            title=\"Suggest charts\"\n",
              "            style=\"display:none;\">\n",
              "\n",
              "<svg xmlns=\"http://www.w3.org/2000/svg\" height=\"24px\"viewBox=\"0 0 24 24\"\n",
              "     width=\"24px\">\n",
              "    <g>\n",
              "        <path d=\"M19 3H5c-1.1 0-2 .9-2 2v14c0 1.1.9 2 2 2h14c1.1 0 2-.9 2-2V5c0-1.1-.9-2-2-2zM9 17H7v-7h2v7zm4 0h-2V7h2v10zm4 0h-2v-4h2v4z\"/>\n",
              "    </g>\n",
              "</svg>\n",
              "  </button>\n",
              "\n",
              "<style>\n",
              "  .colab-df-quickchart {\n",
              "      --bg-color: #E8F0FE;\n",
              "      --fill-color: #1967D2;\n",
              "      --hover-bg-color: #E2EBFA;\n",
              "      --hover-fill-color: #174EA6;\n",
              "      --disabled-fill-color: #AAA;\n",
              "      --disabled-bg-color: #DDD;\n",
              "  }\n",
              "\n",
              "  [theme=dark] .colab-df-quickchart {\n",
              "      --bg-color: #3B4455;\n",
              "      --fill-color: #D2E3FC;\n",
              "      --hover-bg-color: #434B5C;\n",
              "      --hover-fill-color: #FFFFFF;\n",
              "      --disabled-bg-color: #3B4455;\n",
              "      --disabled-fill-color: #666;\n",
              "  }\n",
              "\n",
              "  .colab-df-quickchart {\n",
              "    background-color: var(--bg-color);\n",
              "    border: none;\n",
              "    border-radius: 50%;\n",
              "    cursor: pointer;\n",
              "    display: none;\n",
              "    fill: var(--fill-color);\n",
              "    height: 32px;\n",
              "    padding: 0;\n",
              "    width: 32px;\n",
              "  }\n",
              "\n",
              "  .colab-df-quickchart:hover {\n",
              "    background-color: var(--hover-bg-color);\n",
              "    box-shadow: 0 1px 2px rgba(60, 64, 67, 0.3), 0 1px 3px 1px rgba(60, 64, 67, 0.15);\n",
              "    fill: var(--button-hover-fill-color);\n",
              "  }\n",
              "\n",
              "  .colab-df-quickchart-complete:disabled,\n",
              "  .colab-df-quickchart-complete:disabled:hover {\n",
              "    background-color: var(--disabled-bg-color);\n",
              "    fill: var(--disabled-fill-color);\n",
              "    box-shadow: none;\n",
              "  }\n",
              "\n",
              "  .colab-df-spinner {\n",
              "    border: 2px solid var(--fill-color);\n",
              "    border-color: transparent;\n",
              "    border-bottom-color: var(--fill-color);\n",
              "    animation:\n",
              "      spin 1s steps(1) infinite;\n",
              "  }\n",
              "\n",
              "  @keyframes spin {\n",
              "    0% {\n",
              "      border-color: transparent;\n",
              "      border-bottom-color: var(--fill-color);\n",
              "      border-left-color: var(--fill-color);\n",
              "    }\n",
              "    20% {\n",
              "      border-color: transparent;\n",
              "      border-left-color: var(--fill-color);\n",
              "      border-top-color: var(--fill-color);\n",
              "    }\n",
              "    30% {\n",
              "      border-color: transparent;\n",
              "      border-left-color: var(--fill-color);\n",
              "      border-top-color: var(--fill-color);\n",
              "      border-right-color: var(--fill-color);\n",
              "    }\n",
              "    40% {\n",
              "      border-color: transparent;\n",
              "      border-right-color: var(--fill-color);\n",
              "      border-top-color: var(--fill-color);\n",
              "    }\n",
              "    60% {\n",
              "      border-color: transparent;\n",
              "      border-right-color: var(--fill-color);\n",
              "    }\n",
              "    80% {\n",
              "      border-color: transparent;\n",
              "      border-right-color: var(--fill-color);\n",
              "      border-bottom-color: var(--fill-color);\n",
              "    }\n",
              "    90% {\n",
              "      border-color: transparent;\n",
              "      border-bottom-color: var(--fill-color);\n",
              "    }\n",
              "  }\n",
              "</style>\n",
              "\n",
              "  <script>\n",
              "    async function quickchart(key) {\n",
              "      const quickchartButtonEl =\n",
              "        document.querySelector('#' + key + ' button');\n",
              "      quickchartButtonEl.disabled = true;  // To prevent multiple clicks.\n",
              "      quickchartButtonEl.classList.add('colab-df-spinner');\n",
              "      try {\n",
              "        const charts = await google.colab.kernel.invokeFunction(\n",
              "            'suggestCharts', [key], {});\n",
              "      } catch (error) {\n",
              "        console.error('Error during call to suggestCharts:', error);\n",
              "      }\n",
              "      quickchartButtonEl.classList.remove('colab-df-spinner');\n",
              "      quickchartButtonEl.classList.add('colab-df-quickchart-complete');\n",
              "    }\n",
              "    (() => {\n",
              "      let quickchartButtonEl =\n",
              "        document.querySelector('#df-067b8e45-e836-4028-9ba5-feae4f50f626 button');\n",
              "      quickchartButtonEl.style.display =\n",
              "        google.colab.kernel.accessAllowed ? 'block' : 'none';\n",
              "    })();\n",
              "  </script>\n",
              "</div>\n",
              "\n",
              "  <div id=\"id_107c1334-f05f-4566-bece-c7179e228c3c\">\n",
              "    <style>\n",
              "      .colab-df-generate {\n",
              "        background-color: #E8F0FE;\n",
              "        border: none;\n",
              "        border-radius: 50%;\n",
              "        cursor: pointer;\n",
              "        display: none;\n",
              "        fill: #1967D2;\n",
              "        height: 32px;\n",
              "        padding: 0 0 0 0;\n",
              "        width: 32px;\n",
              "      }\n",
              "\n",
              "      .colab-df-generate:hover {\n",
              "        background-color: #E2EBFA;\n",
              "        box-shadow: 0px 1px 2px rgba(60, 64, 67, 0.3), 0px 1px 3px 1px rgba(60, 64, 67, 0.15);\n",
              "        fill: #174EA6;\n",
              "      }\n",
              "\n",
              "      [theme=dark] .colab-df-generate {\n",
              "        background-color: #3B4455;\n",
              "        fill: #D2E3FC;\n",
              "      }\n",
              "\n",
              "      [theme=dark] .colab-df-generate:hover {\n",
              "        background-color: #434B5C;\n",
              "        box-shadow: 0px 1px 3px 1px rgba(0, 0, 0, 0.15);\n",
              "        filter: drop-shadow(0px 1px 2px rgba(0, 0, 0, 0.3));\n",
              "        fill: #FFFFFF;\n",
              "      }\n",
              "    </style>\n",
              "    <button class=\"colab-df-generate\" onclick=\"generateWithVariable('train')\"\n",
              "            title=\"Generate code using this dataframe.\"\n",
              "            style=\"display:none;\">\n",
              "\n",
              "  <svg xmlns=\"http://www.w3.org/2000/svg\" height=\"24px\"viewBox=\"0 0 24 24\"\n",
              "       width=\"24px\">\n",
              "    <path d=\"M7,19H8.4L18.45,9,17,7.55,7,17.6ZM5,21V16.75L18.45,3.32a2,2,0,0,1,2.83,0l1.4,1.43a1.91,1.91,0,0,1,.58,1.4,1.91,1.91,0,0,1-.58,1.4L9.25,21ZM18.45,9,17,7.55Zm-12,3A5.31,5.31,0,0,0,4.9,8.1,5.31,5.31,0,0,0,1,6.5,5.31,5.31,0,0,0,4.9,4.9,5.31,5.31,0,0,0,6.5,1,5.31,5.31,0,0,0,8.1,4.9,5.31,5.31,0,0,0,12,6.5,5.46,5.46,0,0,0,6.5,12Z\"/>\n",
              "  </svg>\n",
              "    </button>\n",
              "    <script>\n",
              "      (() => {\n",
              "      const buttonEl =\n",
              "        document.querySelector('#id_107c1334-f05f-4566-bece-c7179e228c3c button.colab-df-generate');\n",
              "      buttonEl.style.display =\n",
              "        google.colab.kernel.accessAllowed ? 'block' : 'none';\n",
              "\n",
              "      buttonEl.onclick = () => {\n",
              "        google.colab.notebook.generateWithVariable('train');\n",
              "      }\n",
              "      })();\n",
              "    </script>\n",
              "  </div>\n",
              "\n",
              "    </div>\n",
              "  </div>\n"
            ]
          },
          "metadata": {},
          "execution_count": 9
        }
      ]
    },
    {
      "cell_type": "code",
      "source": [
        "test['PassengerId'] = test['PassengerId'].apply(lambda x: x.split('_')[0])\n",
        "test['PassengerId'] = test['PassengerId'].astype(int)"
      ],
      "metadata": {
        "id": "ISzyZ4Wv54lD"
      },
      "execution_count": 10,
      "outputs": []
    },
    {
      "cell_type": "markdown",
      "source": [
        "### Data Loader"
      ],
      "metadata": {
        "id": "wzJVBgxt5GDD"
      }
    },
    {
      "cell_type": "code",
      "source": [
        "batch_size = 4\n",
        "\n",
        "def df_to_dataset(dataframe, label_name=\"Transported\", shuffle=True, batch_size=batch_size):\n",
        "    dataframe = dataframe.copy()\n",
        "    labels = dataframe.pop(label_name)\n",
        "    ds = tf.data.Dataset.from_tensor_slices((dict(dataframe), labels))\n",
        "    if shuffle:\n",
        "        ds = ds.shuffle(buffer_size=len(dataframe))\n",
        "        ds = ds.repeat()\n",
        "    ds = ds.batch(batch_size)\n",
        "\n",
        "    return ds\n"
      ],
      "metadata": {
        "id": "syVaa2MM5IxY"
      },
      "execution_count": 11,
      "outputs": []
    },
    {
      "cell_type": "code",
      "source": [
        "train_ds = df_to_dataset(train)\n",
        "train_ds"
      ],
      "metadata": {
        "id": "TFkgW_5QDgLu",
        "colab": {
          "base_uri": "https://localhost:8080/"
        },
        "outputId": "7320fc80-b141-4323-925d-f0465ae61744"
      },
      "execution_count": 12,
      "outputs": [
        {
          "output_type": "execute_result",
          "data": {
            "text/plain": [
              "<_BatchDataset element_spec=({'PassengerId': TensorSpec(shape=(None,), dtype=tf.string, name=None), 'HomePlanet': TensorSpec(shape=(None,), dtype=tf.string, name=None), 'CryoSleep': TensorSpec(shape=(None,), dtype=tf.int64, name=None), 'Cabin': TensorSpec(shape=(None,), dtype=tf.string, name=None), 'Destination': TensorSpec(shape=(None,), dtype=tf.string, name=None), 'Age': TensorSpec(shape=(None,), dtype=tf.float64, name=None), 'VIP': TensorSpec(shape=(None,), dtype=tf.int64, name=None), 'RoomService': TensorSpec(shape=(None,), dtype=tf.float64, name=None), 'FoodCourt': TensorSpec(shape=(None,), dtype=tf.float64, name=None), 'ShoppingMall': TensorSpec(shape=(None,), dtype=tf.float64, name=None), 'Spa': TensorSpec(shape=(None,), dtype=tf.float64, name=None), 'VRDeck': TensorSpec(shape=(None,), dtype=tf.float64, name=None), 'Name': TensorSpec(shape=(None,), dtype=tf.string, name=None)}, TensorSpec(shape=(None,), dtype=tf.int64, name=None))>"
            ]
          },
          "metadata": {},
          "execution_count": 12
        }
      ]
    },
    {
      "cell_type": "code",
      "source": [
        "test_ds = df_to_dataset(test, shuffle=False)\n",
        "test_ds"
      ],
      "metadata": {
        "id": "jsWFWYz2MyNs",
        "colab": {
          "base_uri": "https://localhost:8080/"
        },
        "outputId": "61c781ab-efdd-448a-8a52-999ece6ec3df"
      },
      "execution_count": 13,
      "outputs": [
        {
          "output_type": "execute_result",
          "data": {
            "text/plain": [
              "<_BatchDataset element_spec=({'PassengerId': TensorSpec(shape=(None,), dtype=tf.int64, name=None), 'HomePlanet': TensorSpec(shape=(None,), dtype=tf.string, name=None), 'CryoSleep': TensorSpec(shape=(None,), dtype=tf.int64, name=None), 'Cabin': TensorSpec(shape=(None,), dtype=tf.string, name=None), 'Destination': TensorSpec(shape=(None,), dtype=tf.string, name=None), 'Age': TensorSpec(shape=(None,), dtype=tf.float64, name=None), 'VIP': TensorSpec(shape=(None,), dtype=tf.int64, name=None), 'RoomService': TensorSpec(shape=(None,), dtype=tf.float64, name=None), 'FoodCourt': TensorSpec(shape=(None,), dtype=tf.float64, name=None), 'ShoppingMall': TensorSpec(shape=(None,), dtype=tf.float64, name=None), 'Spa': TensorSpec(shape=(None,), dtype=tf.float64, name=None), 'VRDeck': TensorSpec(shape=(None,), dtype=tf.float64, name=None), 'Name': TensorSpec(shape=(None,), dtype=tf.string, name=None)}, TensorSpec(shape=(None,), dtype=tf.int64, name=None))>"
            ]
          },
          "metadata": {},
          "execution_count": 13
        }
      ]
    },
    {
      "cell_type": "code",
      "source": [
        "for t, l in train_ds:\n",
        "  print(t, l)\n",
        "  break\n",
        "\n",
        "for t, l in test_ds:\n",
        "  print(t, l)\n",
        "  break\n"
      ],
      "metadata": {
        "id": "_BsMfFicHZQE",
        "colab": {
          "base_uri": "https://localhost:8080/"
        },
        "outputId": "98b8685c-5d26-4bbc-e964-59c8fc57431e"
      },
      "execution_count": 14,
      "outputs": [
        {
          "output_type": "stream",
          "name": "stdout",
          "text": [
            "{'PassengerId': <tf.Tensor: shape=(4,), dtype=string, numpy=array([b'0128_01', b'0408_01', b'4866_01', b'5128_02'], dtype=object)>, 'HomePlanet': <tf.Tensor: shape=(4,), dtype=string, numpy=array([b'Mars', b'Mars', b'Earth', b'Mars'], dtype=object)>, 'CryoSleep': <tf.Tensor: shape=(4,), dtype=int64, numpy=array([0, 0, 0, 0])>, 'Cabin': <tf.Tensor: shape=(4,), dtype=string, numpy=array([b'D/3/S', b'E/25/P', b'F/922/S', b'F/1045/P'], dtype=object)>, 'Destination': <tf.Tensor: shape=(4,), dtype=string, numpy=\n",
            "array([b'TRAPPIST-1e', b'TRAPPIST-1e', b'TRAPPIST-1e', b'TRAPPIST-1e'],\n",
            "      dtype=object)>, 'Age': <tf.Tensor: shape=(4,), dtype=float64, numpy=array([61., 35., 17., 21.])>, 'VIP': <tf.Tensor: shape=(4,), dtype=int64, numpy=array([1, 0, 0, 0])>, 'RoomService': <tf.Tensor: shape=(4,), dtype=float64, numpy=array([2353., 1134.,    0.,    0.])>, 'FoodCourt': <tf.Tensor: shape=(4,), dtype=float64, numpy=array([334., 113.,   0.,   1.])>, 'ShoppingMall': <tf.Tensor: shape=(4,), dtype=float64, numpy=array([   9.,   52., 1875., 2832.])>, 'Spa': <tf.Tensor: shape=(4,), dtype=float64, numpy=array([316.,   0., 142.,   0.])>, 'VRDeck': <tf.Tensor: shape=(4,), dtype=float64, numpy=array([2., 0., 2., 0.])>, 'Name': <tf.Tensor: shape=(4,), dtype=string, numpy=\n",
            "array([b'Grohs Fles', b'Cus Ble', b'Lewise Hoodgers', b'Frus Frazo'],\n",
            "      dtype=object)>} tf.Tensor([0 0 1 1], shape=(4,), dtype=int64)\n",
            "{'PassengerId': <tf.Tensor: shape=(4,), dtype=int64, numpy=array([ 337, 2891, 8998, 1771])>, 'HomePlanet': <tf.Tensor: shape=(4,), dtype=string, numpy=array([b'Mars', b'Earth', b'Earth', b'Earth'], dtype=object)>, 'CryoSleep': <tf.Tensor: shape=(4,), dtype=int64, numpy=array([0, 0, 1, 0])>, 'Cabin': <tf.Tensor: shape=(4,), dtype=string, numpy=array([b'F/63/S', b'G/460/S', b'G/1449/S', b'G/291/P'], dtype=object)>, 'Destination': <tf.Tensor: shape=(4,), dtype=string, numpy=\n",
            "array([b'TRAPPIST-1e', b'TRAPPIST-1e', b'TRAPPIST-1e', b'TRAPPIST-1e'],\n",
            "      dtype=object)>, 'Age': <tf.Tensor: shape=(4,), dtype=float64, numpy=array([19., 18., 41., 35.])>, 'VIP': <tf.Tensor: shape=(4,), dtype=int64, numpy=array([0, 0, 0, 0])>, 'RoomService': <tf.Tensor: shape=(4,), dtype=float64, numpy=array([417.,   4.,   0.,   0.])>, 'FoodCourt': <tf.Tensor: shape=(4,), dtype=float64, numpy=array([349., 904.,   0., 338.])>, 'ShoppingMall': <tf.Tensor: shape=(4,), dtype=float64, numpy=array([634.,   0.,   0., 436.])>, 'Spa': <tf.Tensor: shape=(4,), dtype=float64, numpy=array([3., 0., 0., 0.])>, 'VRDeck': <tf.Tensor: shape=(4,), dtype=float64, numpy=array([1.057e+03, 1.000e+00, 0.000e+00, 0.000e+00])>, 'Name': <tf.Tensor: shape=(4,), dtype=string, numpy=\n",
            "array([b'Weros Perle', b'Gleney Ortinericey', b'Gerry Englence',\n",
            "       b'Antone Cardner'], dtype=object)>} tf.Tensor([1 0 0 1], shape=(4,), dtype=int64)\n"
          ]
        }
      ]
    },
    {
      "cell_type": "code",
      "source": [
        "list(set(train['VIP']))"
      ],
      "metadata": {
        "id": "uxI24vNhyxB2",
        "colab": {
          "base_uri": "https://localhost:8080/"
        },
        "outputId": "10b58d7c-bd6c-4403-afd4-868adf7bed02"
      },
      "execution_count": 15,
      "outputs": [
        {
          "output_type": "execute_result",
          "data": {
            "text/plain": [
              "[0, 1]"
            ]
          },
          "metadata": {},
          "execution_count": 15
        }
      ]
    },
    {
      "cell_type": "markdown",
      "source": [
        "## Preprocessing with layers"
      ],
      "metadata": {
        "id": "TaxlpWcarA9M"
      }
    },
    {
      "cell_type": "code",
      "source": [
        "inputs = {\n",
        "  'PassengerId': tf.keras.Input(shape=(), dtype='string'),\n",
        "  'CryoSleep': tf.keras.Input(shape=(), dtype='int64'),\n",
        "  'HomePlanet': tf.keras.Input(shape=(), dtype='string'),\n",
        "  'RoomService': tf.keras.Input(shape=(), dtype='float64'),\n",
        "  'VIP': tf.keras.Input(shape=(), dtype='string'),\n",
        "  'Cabin': tf.keras.Input(shape=(), dtype='string')\n",
        "}\n",
        "\n",
        "split_text = tf.strings.split(inputs['Cabin'], sep=\"/\")\n",
        "\n",
        "num_text = tf.strings.split(inputs['PassengerId'], sep=\"_\")\n",
        "id_num = tf.strings.to_number(num_text, out_type=tf.int64)\n",
        "\n",
        "# Convert index to one-hot; e.g. [2] -> [0,1].\n",
        "type_output = tf.keras.layers.CategoryEncoding(num_tokens=2, output_mode='one_hot')(inputs['CryoSleep'])\n",
        "print(type_output.shape)\n",
        "dense_type = tf.keras.layers.Dense(2, activation='relu')(type_output)\n",
        "print(dense_type.shape)\n",
        "\n",
        "vip = tf.keras.layers.StringLookup(vocabulary=[\"True\", \"False\"], num_oov_indices=0, output_mode='one_hot')(inputs['VIP'])\n",
        "print(vip.shape)\n",
        "\n",
        "# Convert size strings to indices; e.g. ['small'] -> [1].\n",
        "size_output = tf.keras.layers.StringLookup(vocabulary=list(set(train['HomePlanet'])))(inputs['HomePlanet'])\n",
        "size_output = tf.keras.layers.Reshape([-1])(size_output)\n",
        "print(size_output.shape)\n",
        "dense_size = tf.keras.layers.Dense(2, activation='relu')(size_output)\n",
        "print(dense_size.shape)\n",
        "\n",
        "# Normalize the numeric inputs; e.g. [2.0] -> [0.0].\n",
        "weight_output = tf.keras.layers.Normalization(\n",
        "      axis=None, mean=2.0, variance=1.0)(inputs['RoomService'])\n",
        "weight_output = tf.keras.layers.Reshape([-1])(weight_output)\n",
        "print(weight_output.shape)\n",
        "dense_weight = tf.keras.layers.Dense(2, activation='relu')(weight_output)\n",
        "print(dense_weight.shape)\n",
        "\n",
        "x = tf.concat([dense_type, dense_size, dense_weight], -1) # batch, 특징 (여기로 합쳐라)\n",
        "x = tf.keras.layers.Reshape([-1, 1])(x)\n",
        "x = tf.keras.layers.Bidirectional(tf.keras.layers.GRU(1024, return_sequences=False))(x)\n",
        "\n",
        "outputs = tf.keras.layers.Dense(1)(x) # Sigmoid, BCE loss\n",
        "\n",
        "# outputs = {\n",
        "#   'PassengerId': id_num,\n",
        "#   'CryoSleep': type_output,\n",
        "#   'HomePlanet': size_output,\n",
        "#   'RoomService': weight_output,\n",
        "#   # 'VIP':vip,\n",
        "#   's': split_text\n",
        "# }\n",
        "\n",
        "preprocessing_model = tf.keras.Model(inputs, outputs)"
      ],
      "metadata": {
        "id": "BBg7nmuDQRoq",
        "colab": {
          "base_uri": "https://localhost:8080/"
        },
        "outputId": "6017226d-0e13-4a5d-9232-775fd598bb9b"
      },
      "execution_count": 16,
      "outputs": [
        {
          "output_type": "stream",
          "name": "stdout",
          "text": [
            "(None, 2)\n",
            "(None, 2)\n",
            "(None, 2)\n",
            "(None, 1)\n",
            "(None, 2)\n"
          ]
        },
        {
          "output_type": "stream",
          "name": "stderr",
          "text": [
            "/usr/local/lib/python3.10/dist-packages/numpy/core/numeric.py:2463: FutureWarning: elementwise comparison failed; returning scalar instead, but in the future will perform elementwise comparison\n",
            "  return bool(asarray(a1 == a2).all())\n"
          ]
        },
        {
          "output_type": "stream",
          "name": "stdout",
          "text": [
            "(None, 1)\n",
            "(None, 2)\n"
          ]
        }
      ]
    },
    {
      "cell_type": "markdown",
      "source": [
        "## Input and preprocessing Layers"
      ],
      "metadata": {
        "id": "8Bpw541x3jM1"
      }
    },
    {
      "cell_type": "markdown",
      "source": [
        "### String Look Up\n"
      ],
      "metadata": {
        "id": "bqjfuAHe1ap4"
      }
    },
    {
      "cell_type": "code",
      "source": [
        " tf.strings.split(train['Cabin'], \"/\")[:,-1:].numpy()"
      ],
      "metadata": {
        "id": "bo9ZjeUS4Zd7",
        "colab": {
          "base_uri": "https://localhost:8080/"
        },
        "outputId": "37d82020-84e7-47f0-f98f-3f34df4388eb"
      },
      "execution_count": 17,
      "outputs": [
        {
          "output_type": "execute_result",
          "data": {
            "text/plain": [
              "array([[b'P'],\n",
              "       [b'P'],\n",
              "       [b'S'],\n",
              "       ...,\n",
              "       [b'P'],\n",
              "       [b'P'],\n",
              "       [b'P']], dtype=object)"
            ]
          },
          "metadata": {},
          "execution_count": 17
        }
      ]
    },
    {
      "cell_type": "code",
      "source": [
        "inputs = {\n",
        "    'Cabin': tf.keras.Input(shape=(), dtype='string')\n",
        "}\n",
        "\n",
        "# 캐빈 데이터를 분할합니다\n",
        "cabin_split = tf.strings.split(inputs['Cabin'], \"/\")\n",
        "\n",
        "# 마지막 요소만 선택합니다\n",
        "cabin_last = cabin_split.to_tensor()[:, -1]\n",
        "\n",
        "# StringLookup 레이어를 사용하여 one-hot 인코딩을 수행합니다\n",
        "cabin_output = tf.keras.layers.StringLookup(vocabulary=[\"S\", \"P\"], num_oov_indices=1, output_mode='one_hot')(cabin_last)\n",
        "\n",
        "outputs = {\n",
        "    'Cabin': cabin_output\n",
        "}\n",
        "\n",
        "model = tf.keras.Model(inputs, outputs)"
      ],
      "metadata": {
        "id": "g6RyJcuK3N8l"
      },
      "execution_count": 18,
      "outputs": []
    },
    {
      "cell_type": "code",
      "source": [
        "for t, l in train_ds:\n",
        "    pred = model(t)\n",
        "    print(pred['Cabin'])\n",
        "    break"
      ],
      "metadata": {
        "id": "KlNhLc1oV6jZ",
        "colab": {
          "base_uri": "https://localhost:8080/"
        },
        "outputId": "c7451104-2716-4545-93fb-ae2a6549d095"
      },
      "execution_count": 19,
      "outputs": [
        {
          "output_type": "stream",
          "name": "stderr",
          "text": [
            "/usr/local/lib/python3.10/dist-packages/keras/src/engine/functional.py:642: UserWarning: Input dict contained keys ['PassengerId', 'HomePlanet', 'CryoSleep', 'Destination', 'Age', 'VIP', 'RoomService', 'FoodCourt', 'ShoppingMall', 'Spa', 'VRDeck', 'Name'] which did not match any model input. They will be ignored by the model.\n",
            "  inputs = self._flatten_to_reference_inputs(inputs)\n"
          ]
        },
        {
          "output_type": "stream",
          "name": "stdout",
          "text": [
            "tf.Tensor(\n",
            "[[0. 0. 1.]\n",
            " [0. 1. 0.]\n",
            " [0. 1. 0.]\n",
            " [0. 1. 0.]], shape=(4, 3), dtype=float32)\n"
          ]
        }
      ]
    },
    {
      "cell_type": "code",
      "source": [
        "s = \"F/575/P\"\n",
        "tf.strings.split(s, sep=\"/\")"
      ],
      "metadata": {
        "id": "6yclqkG2t0F6",
        "colab": {
          "base_uri": "https://localhost:8080/"
        },
        "outputId": "9cab40ab-6e27-43d0-9814-98af5bea1a05"
      },
      "execution_count": 20,
      "outputs": [
        {
          "output_type": "execute_result",
          "data": {
            "text/plain": [
              "<tf.Tensor: shape=(3,), dtype=string, numpy=array([b'F', b'575', b'P'], dtype=object)>"
            ]
          },
          "metadata": {},
          "execution_count": 20
        }
      ]
    },
    {
      "cell_type": "code",
      "source": [
        "list(set(train['HomePlanet']))"
      ],
      "metadata": {
        "id": "ldFmPM5qppS_",
        "colab": {
          "base_uri": "https://localhost:8080/"
        },
        "outputId": "7d45bc58-c2b4-48f1-b990-6abab0ee3007"
      },
      "execution_count": 21,
      "outputs": [
        {
          "output_type": "execute_result",
          "data": {
            "text/plain": [
              "['Earth', 'Europa', 'Mars']"
            ]
          },
          "metadata": {},
          "execution_count": 21
        }
      ]
    },
    {
      "cell_type": "code",
      "source": [
        "string_lookup_layer = tf.keras.layers.StringLookup(\n",
        "    vocabulary=list(set(train['HomePlanet'])),\n",
        "    num_oov_indices=0,\n",
        "    output_mode='one_hot')\n",
        "\"\"\"\n",
        "int 0, 1, 2 (idx)\n",
        "one_hot [1, 0, 0]\n",
        "multi_hot [1, 0, 1] (다중입력)\n",
        "\"\"\"\n",
        "\n",
        "string_lookup_layer(list(train['HomePlanet'].to_numpy()))"
      ],
      "metadata": {
        "id": "97laqWerpttW",
        "colab": {
          "base_uri": "https://localhost:8080/"
        },
        "outputId": "01523c8c-7251-4514-8482-4c50e01b9a13"
      },
      "execution_count": 22,
      "outputs": [
        {
          "output_type": "execute_result",
          "data": {
            "text/plain": [
              "<tf.Tensor: shape=(6954, 3), dtype=float32, numpy=\n",
              "array([[1., 0., 0.],\n",
              "       [1., 0., 0.],\n",
              "       [0., 1., 0.],\n",
              "       ...,\n",
              "       [1., 0., 0.],\n",
              "       [0., 0., 1.],\n",
              "       [0., 1., 0.]], dtype=float32)>"
            ]
          },
          "metadata": {},
          "execution_count": 22
        }
      ]
    },
    {
      "cell_type": "markdown",
      "source": [
        "### Category Encoding"
      ],
      "metadata": {
        "id": "4dJ64DFR1zSW"
      }
    },
    {
      "cell_type": "code",
      "source": [
        "train['CryoSleep']"
      ],
      "metadata": {
        "id": "o6eeBxJPreSo",
        "colab": {
          "base_uri": "https://localhost:8080/"
        },
        "outputId": "be8df8ab-917c-4b21-e568-de444a99de88"
      },
      "execution_count": 23,
      "outputs": [
        {
          "output_type": "execute_result",
          "data": {
            "text/plain": [
              "0       0\n",
              "1       0\n",
              "2       1\n",
              "3       0\n",
              "4       1\n",
              "       ..\n",
              "6949    0\n",
              "6950    0\n",
              "6951    0\n",
              "6952    0\n",
              "6953    0\n",
              "Name: CryoSleep, Length: 6954, dtype: int64"
            ]
          },
          "metadata": {},
          "execution_count": 23
        }
      ]
    },
    {
      "cell_type": "code",
      "source": [
        "one_hot_layer = tf.keras.layers.CategoryEncoding(\n",
        "    num_tokens=2, output_mode='one_hot')\n",
        "one_hot_layer(list(train['CryoSleep'].to_numpy()))"
      ],
      "metadata": {
        "id": "_cRCuG2rqS52",
        "colab": {
          "base_uri": "https://localhost:8080/"
        },
        "outputId": "162b9b02-3bb9-487b-e3cd-d0a6602341e0"
      },
      "execution_count": 24,
      "outputs": [
        {
          "output_type": "execute_result",
          "data": {
            "text/plain": [
              "<tf.Tensor: shape=(6954, 2), dtype=float32, numpy=\n",
              "array([[1., 0.],\n",
              "       [1., 0.],\n",
              "       [0., 1.],\n",
              "       ...,\n",
              "       [1., 0.],\n",
              "       [1., 0.],\n",
              "       [1., 0.]], dtype=float32)>"
            ]
          },
          "metadata": {},
          "execution_count": 24
        }
      ]
    },
    {
      "cell_type": "markdown",
      "source": [
        "### Normalization"
      ],
      "metadata": {
        "id": "oAfDEVXz2YcB"
      }
    },
    {
      "cell_type": "code",
      "source": [
        "normalization_layer = tf.keras.layers.Normalization(mean=1.0, variance=10.0)\n",
        "\n",
        "# 각 입력 값에서 mean 값을 뺍니다. 예를 들어, 입력이 [1., 2., 3.]라면, 결과는 [-2., -1., 0.]이 됩니다.\n",
        "# 다음으로, 이 결과를 variance의 제곱근 값, 즉 sqrt(2.)로 나눕니다. 따라서 결과는 [-2/sqrt(2), -1/sqrt(2), 0]가 됩니다. (정규화 과정)\n",
        "\n",
        "print(normalization_layer(train['RoomService'][:5]).numpy())\n",
        "print(train['RoomService'][:5].to_numpy())"
      ],
      "metadata": {
        "id": "6M0RBuMPrkri",
        "colab": {
          "base_uri": "https://localhost:8080/"
        },
        "outputId": "893e9fc3-70e8-4ba4-ea61-ae1123798e59"
      },
      "execution_count": 25,
      "outputs": [
        {
          "output_type": "stream",
          "name": "stdout",
          "text": [
            "[-0.31622776 -0.31622776 -0.31622776 -0.31622776 -0.31622776]\n",
            "[0. 0. 0. 0. 0.]\n"
          ]
        }
      ]
    },
    {
      "cell_type": "markdown",
      "source": [
        "### Model Train"
      ],
      "metadata": {
        "id": "641_XZTH1REC"
      }
    },
    {
      "cell_type": "code",
      "source": [
        "preprocessing_model.compile(optimizer=tf.keras.optimizers.Adam(1e-4),\n",
        "              loss=tf.keras.losses.BinaryCrossentropy(from_logits=True),\n",
        "              metrics=['accuracy'])"
      ],
      "metadata": {
        "id": "7RX-QT0Dz0U_"
      },
      "execution_count": 26,
      "outputs": []
    },
    {
      "cell_type": "code",
      "source": [
        "max_epochs = 20\n",
        "\n",
        "history = preprocessing_model.fit(train_ds,\n",
        "                                  epochs=max_epochs,\n",
        "                                  steps_per_epoch=len(train) // batch_size,\n",
        "                                  validation_data=test_ds,\n",
        "                                  validation_steps=len(test) // batch_size)"
      ],
      "metadata": {
        "id": "rEk1FAnxexWO",
        "colab": {
          "base_uri": "https://localhost:8080/"
        },
        "outputId": "f856dc2d-c54f-44df-c36a-b1cf620cef14"
      },
      "execution_count": 28,
      "outputs": [
        {
          "output_type": "stream",
          "name": "stdout",
          "text": [
            "Epoch 1/20\n",
            "1738/1738 [==============================] - 22s 12ms/step - loss: 0.5490 - accuracy: 0.7169 - val_loss: 0.5471 - val_accuracy: 0.7241\n",
            "Epoch 2/20\n",
            "1738/1738 [==============================] - 19s 11ms/step - loss: 0.5459 - accuracy: 0.7146 - val_loss: 0.5439 - val_accuracy: 0.7241\n",
            "Epoch 3/20\n",
            "1738/1738 [==============================] - 21s 12ms/step - loss: 0.5464 - accuracy: 0.7179 - val_loss: 0.5408 - val_accuracy: 0.7281\n",
            "Epoch 4/20\n",
            "1738/1738 [==============================] - 20s 12ms/step - loss: 0.5433 - accuracy: 0.7152 - val_loss: 0.5421 - val_accuracy: 0.7281\n",
            "Epoch 5/20\n",
            "1738/1738 [==============================] - 18s 11ms/step - loss: 0.5434 - accuracy: 0.7126 - val_loss: 0.5391 - val_accuracy: 0.7241\n",
            "Epoch 6/20\n",
            "1738/1738 [==============================] - 19s 11ms/step - loss: 0.5416 - accuracy: 0.7152 - val_loss: 0.5404 - val_accuracy: 0.6745\n",
            "Epoch 7/20\n",
            "1738/1738 [==============================] - 19s 11ms/step - loss: 0.5411 - accuracy: 0.7122 - val_loss: 0.5391 - val_accuracy: 0.7241\n",
            "Epoch 8/20\n",
            "1738/1738 [==============================] - 19s 11ms/step - loss: 0.5416 - accuracy: 0.7142 - val_loss: 0.5351 - val_accuracy: 0.7241\n",
            "Epoch 9/20\n",
            "1738/1738 [==============================] - 19s 11ms/step - loss: 0.5385 - accuracy: 0.7099 - val_loss: 0.5350 - val_accuracy: 0.7241\n",
            "Epoch 10/20\n",
            "1738/1738 [==============================] - 19s 11ms/step - loss: 0.5404 - accuracy: 0.7133 - val_loss: 0.5434 - val_accuracy: 0.7195\n",
            "Epoch 11/20\n",
            "1738/1738 [==============================] - 19s 11ms/step - loss: 0.5398 - accuracy: 0.7068 - val_loss: 0.5342 - val_accuracy: 0.7241\n",
            "Epoch 12/20\n",
            "1738/1738 [==============================] - 19s 11ms/step - loss: 0.5372 - accuracy: 0.7116 - val_loss: 0.5730 - val_accuracy: 0.7166\n",
            "Epoch 13/20\n",
            "1738/1738 [==============================] - 19s 11ms/step - loss: 0.5376 - accuracy: 0.7058 - val_loss: 0.5359 - val_accuracy: 0.7281\n",
            "Epoch 14/20\n",
            "1738/1738 [==============================] - 21s 12ms/step - loss: 0.5376 - accuracy: 0.7076 - val_loss: 0.5328 - val_accuracy: 0.7241\n",
            "Epoch 15/20\n",
            "1738/1738 [==============================] - 19s 11ms/step - loss: 0.5374 - accuracy: 0.7087 - val_loss: 0.5382 - val_accuracy: 0.7281\n",
            "Epoch 16/20\n",
            "1738/1738 [==============================] - 19s 11ms/step - loss: 0.5361 - accuracy: 0.7133 - val_loss: 0.5378 - val_accuracy: 0.6786\n",
            "Epoch 17/20\n",
            "1738/1738 [==============================] - 18s 10ms/step - loss: 0.5376 - accuracy: 0.7110 - val_loss: 0.5343 - val_accuracy: 0.7241\n",
            "Epoch 18/20\n",
            "1738/1738 [==============================] - 19s 11ms/step - loss: 0.5360 - accuracy: 0.7112 - val_loss: 0.5527 - val_accuracy: 0.6653\n",
            "Epoch 19/20\n",
            "1738/1738 [==============================] - 19s 11ms/step - loss: 0.5361 - accuracy: 0.7073 - val_loss: 0.5324 - val_accuracy: 0.7241\n",
            "Epoch 20/20\n",
            "1738/1738 [==============================] - 19s 11ms/step - loss: 0.5369 - accuracy: 0.7145 - val_loss: 0.5334 - val_accuracy: 0.7281\n"
          ]
        }
      ]
    }
  ]
}